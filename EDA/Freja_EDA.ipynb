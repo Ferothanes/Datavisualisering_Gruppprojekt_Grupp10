{
 "cells": [
  {
   "cell_type": "markdown",
   "id": "09afe774",
   "metadata": {},
   "source": [
    "COMBINE sammanställningsresultat för 2020-2024"
   ]
  },
  {
   "cell_type": "code",
   "execution_count": null,
   "id": "f595d5b6",
   "metadata": {},
   "outputs": [],
   "source": [
    "years = range(2022, 2024)\n",
    "files = [f\"data/yh-sokande-{year}-behorighet-reell-kompetens.xlsx\" for year in years]\n",
    "\n",
    "df_list = []\n",
    "\n",
    "for file in files:\n",
    "    year = file.split('-')[-1].split('.')[0]  # Extract year from filename\n",
    "    try:\n",
    "        df = pd.read_excel(file, sheet_name='Sökande 2024 - Tab1', header=5)\n",
    "        df['År'] = int(year)  # Add year column\n",
    "        df_list.append(df)\n",
    "    except Exception as e:\n",
    "        print(f\"Error processing {file}: {e}\")\n",
    "\n",
    "# Combine all data\n",
    "combined_df = pd.concat(df_list, ignore_index=True)\n",
    "\n",
    "# Save to new Excel file\n",
    "combined_df.to_excel(\"sammanstallning-resultat-2023-2024.xlsx\", index=False)"
   ]
  },
  {
   "cell_type": "code",
   "execution_count": null,
   "id": "5a1570df",
   "metadata": {},
   "outputs": [],
   "source": [
    "import pandas as pd\n",
    "\n",
    "df1 = pd.read_excel(\"data/sammanstallning-resultat-2022-2024.xlsx\")\n",
    "df2 = pd.read_excel(\"data/sammanstallning-resultat-2023-2024.xlsx\")\n",
    "\n",
    "# Combine the data\n",
    "combined_df = pd.concat([df1, df2], ignore_index=True)\n",
    "\n",
    "combined_df.to_excel(\"sammanstallning-resultat-2020-2024-updated.xlsx\", index=False)"
   ]
  },
  {
   "cell_type": "markdown",
   "id": "095c591d",
   "metadata": {},
   "source": [
    "## Age & gender EDA - Sökande till yrkeshögskolan"
   ]
  },
  {
   "cell_type": "code",
   "execution_count": null,
   "id": "e1af3e05",
   "metadata": {},
   "outputs": [],
   "source": [
    "import pandas as pd\n",
    "\n",
    "excel_path = 'data/Utbildningsansökning_age.xlsx'\n",
    "\n",
    "age_df = pd.read_excel(excel_path, sheet_name='Age')\n",
    "edu_df = pd.read_excel(excel_path, sheet_name='Education')\n",
    "\n",
    "print(age_df.info())\n",
    "print(edu_df.info())\n"
   ]
  },
  {
   "cell_type": "markdown",
   "id": "8e0c90a4",
   "metadata": {},
   "source": [
    "### EDA - Antalet studerande i YH inom olika utbildningsområden 2012-2024"
   ]
  },
  {
   "cell_type": "code",
   "execution_count": 57,
   "id": "b1850b9c",
   "metadata": {},
   "outputs": [
    {
     "data": {
      "text/html": [
       "<div>\n",
       "<style scoped>\n",
       "    .dataframe tbody tr th:only-of-type {\n",
       "        vertical-align: middle;\n",
       "    }\n",
       "\n",
       "    .dataframe tbody tr th {\n",
       "        vertical-align: top;\n",
       "    }\n",
       "\n",
       "    .dataframe thead th {\n",
       "        text-align: right;\n",
       "    }\n",
       "</style>\n",
       "<table border=\"1\" class=\"dataframe\">\n",
       "  <thead>\n",
       "    <tr style=\"text-align: right;\">\n",
       "      <th></th>\n",
       "      <th>År</th>\n",
       "      <th>Data/It</th>\n",
       "      <th>Ekonomi, administration och försäljning</th>\n",
       "      <th>Friskvård och kroppsvård</th>\n",
       "      <th>Hotell, restaurang och turism</th>\n",
       "      <th>Hälso- och sjukvård samt socialt arbete</th>\n",
       "      <th>Journalistik och information</th>\n",
       "      <th>Juridik</th>\n",
       "      <th>Kultur, media och design</th>\n",
       "      <th>Lantbruk, djurvård, trädgård, skog och fiske</th>\n",
       "      <th>Pedagogik och undervisning</th>\n",
       "      <th>Samhällsbyggnad och byggteknik</th>\n",
       "      <th>Säkerhetstjänster</th>\n",
       "      <th>Teknik och tillverkning</th>\n",
       "      <th>Transporttjänster</th>\n",
       "      <th>Övrigt</th>\n",
       "      <th>Totalt</th>\n",
       "    </tr>\n",
       "  </thead>\n",
       "  <tbody>\n",
       "    <tr>\n",
       "      <th>0</th>\n",
       "      <td>2005</td>\n",
       "      <td>2587</td>\n",
       "      <td>6238</td>\n",
       "      <td>481</td>\n",
       "      <td>2223</td>\n",
       "      <td>2992</td>\n",
       "      <td>114</td>\n",
       "      <td>NaN</td>\n",
       "      <td>2803</td>\n",
       "      <td>920</td>\n",
       "      <td>16</td>\n",
       "      <td>1406</td>\n",
       "      <td>267</td>\n",
       "      <td>3920</td>\n",
       "      <td>822</td>\n",
       "      <td>NaN</td>\n",
       "      <td>24789</td>\n",
       "    </tr>\n",
       "    <tr>\n",
       "      <th>1</th>\n",
       "      <td>2006</td>\n",
       "      <td>2546</td>\n",
       "      <td>7582</td>\n",
       "      <td>738</td>\n",
       "      <td>2553</td>\n",
       "      <td>3807</td>\n",
       "      <td>101</td>\n",
       "      <td>61.0</td>\n",
       "      <td>2938</td>\n",
       "      <td>1341</td>\n",
       "      <td>103</td>\n",
       "      <td>1947</td>\n",
       "      <td>425</td>\n",
       "      <td>4310</td>\n",
       "      <td>1104</td>\n",
       "      <td>NaN</td>\n",
       "      <td>29556</td>\n",
       "    </tr>\n",
       "    <tr>\n",
       "      <th>2</th>\n",
       "      <td>2007</td>\n",
       "      <td>2797</td>\n",
       "      <td>8807</td>\n",
       "      <td>883</td>\n",
       "      <td>2906</td>\n",
       "      <td>4200</td>\n",
       "      <td>114</td>\n",
       "      <td>122.0</td>\n",
       "      <td>2893</td>\n",
       "      <td>1538</td>\n",
       "      <td>186</td>\n",
       "      <td>2388</td>\n",
       "      <td>565</td>\n",
       "      <td>4928</td>\n",
       "      <td>1357</td>\n",
       "      <td>NaN</td>\n",
       "      <td>33684</td>\n",
       "    </tr>\n",
       "    <tr>\n",
       "      <th>3</th>\n",
       "      <td>2008</td>\n",
       "      <td>2817</td>\n",
       "      <td>10264</td>\n",
       "      <td>993</td>\n",
       "      <td>3074</td>\n",
       "      <td>4029</td>\n",
       "      <td>159</td>\n",
       "      <td>157.0</td>\n",
       "      <td>2993</td>\n",
       "      <td>1502</td>\n",
       "      <td>220</td>\n",
       "      <td>2641</td>\n",
       "      <td>626</td>\n",
       "      <td>5563</td>\n",
       "      <td>1590</td>\n",
       "      <td>29.0</td>\n",
       "      <td>36657</td>\n",
       "    </tr>\n",
       "    <tr>\n",
       "      <th>4</th>\n",
       "      <td>2009</td>\n",
       "      <td>2857</td>\n",
       "      <td>11286</td>\n",
       "      <td>1009</td>\n",
       "      <td>2965</td>\n",
       "      <td>4091</td>\n",
       "      <td>213</td>\n",
       "      <td>167.0</td>\n",
       "      <td>2952</td>\n",
       "      <td>1549</td>\n",
       "      <td>250</td>\n",
       "      <td>3183</td>\n",
       "      <td>629</td>\n",
       "      <td>6511</td>\n",
       "      <td>1696</td>\n",
       "      <td>59.0</td>\n",
       "      <td>39417</td>\n",
       "    </tr>\n",
       "  </tbody>\n",
       "</table>\n",
       "</div>"
      ],
      "text/plain": [
       "     År  Data/It  Ekonomi, administration och försäljning  \\\n",
       "0  2005     2587                                     6238   \n",
       "1  2006     2546                                     7582   \n",
       "2  2007     2797                                     8807   \n",
       "3  2008     2817                                    10264   \n",
       "4  2009     2857                                    11286   \n",
       "\n",
       "   Friskvård och kroppsvård  Hotell, restaurang och turism  \\\n",
       "0                       481                           2223   \n",
       "1                       738                           2553   \n",
       "2                       883                           2906   \n",
       "3                       993                           3074   \n",
       "4                      1009                           2965   \n",
       "\n",
       "   Hälso- och sjukvård samt socialt arbete  Journalistik och information  \\\n",
       "0                                     2992                           114   \n",
       "1                                     3807                           101   \n",
       "2                                     4200                           114   \n",
       "3                                     4029                           159   \n",
       "4                                     4091                           213   \n",
       "\n",
       "   Juridik  Kultur, media och design  \\\n",
       "0      NaN                      2803   \n",
       "1     61.0                      2938   \n",
       "2    122.0                      2893   \n",
       "3    157.0                      2993   \n",
       "4    167.0                      2952   \n",
       "\n",
       "   Lantbruk, djurvård, trädgård, skog och fiske  Pedagogik och undervisning  \\\n",
       "0                                           920                          16   \n",
       "1                                          1341                         103   \n",
       "2                                          1538                         186   \n",
       "3                                          1502                         220   \n",
       "4                                          1549                         250   \n",
       "\n",
       "   Samhällsbyggnad och byggteknik  Säkerhetstjänster  Teknik och tillverkning  \\\n",
       "0                            1406                267                     3920   \n",
       "1                            1947                425                     4310   \n",
       "2                            2388                565                     4928   \n",
       "3                            2641                626                     5563   \n",
       "4                            3183                629                     6511   \n",
       "\n",
       "   Transporttjänster  Övrigt  Totalt  \n",
       "0                822     NaN   24789  \n",
       "1               1104     NaN   29556  \n",
       "2               1357     NaN   33684  \n",
       "3               1590    29.0   36657  \n",
       "4               1696    59.0   39417  "
      ]
     },
     "execution_count": 57,
     "metadata": {},
     "output_type": "execute_result"
    }
   ],
   "source": [
    "df3 = pd.read_excel(\"data/Antalet studerande i YH inom olika utbildningsområden 2012-2024.xlsx\")\n",
    "df3.head()"
   ]
  },
  {
   "cell_type": "code",
   "execution_count": 58,
   "id": "2bca5dcf",
   "metadata": {},
   "outputs": [
    {
     "data": {
      "text/plain": [
       "np.int64(2587)"
      ]
     },
     "execution_count": 58,
     "metadata": {},
     "output_type": "execute_result"
    }
   ],
   "source": [
    "#df3.replace('..', pd.NA, inplace=True)\n",
    "#df3.to_excel(\"cleaned_dataset.xlsx\", index=False)\n",
    "\n",
    "# Get number of students in Data/IT in 2005\n",
    "data_it_2005 = df3.loc[df3['År'] == 2005, 'Data/It'].values[0]\n",
    "data_it_2005\n",
    "\n"
   ]
  },
  {
   "cell_type": "code",
   "execution_count": 59,
   "id": "9a1ec54d",
   "metadata": {},
   "outputs": [
    {
     "data": {
      "text/html": [
       "<div>\n",
       "<style scoped>\n",
       "    .dataframe tbody tr th:only-of-type {\n",
       "        vertical-align: middle;\n",
       "    }\n",
       "\n",
       "    .dataframe tbody tr th {\n",
       "        vertical-align: top;\n",
       "    }\n",
       "\n",
       "    .dataframe thead th {\n",
       "        text-align: right;\n",
       "    }\n",
       "</style>\n",
       "<table border=\"1\" class=\"dataframe\">\n",
       "  <thead>\n",
       "    <tr style=\"text-align: right;\">\n",
       "      <th></th>\n",
       "      <th>År</th>\n",
       "      <th>Data/It</th>\n",
       "      <th>Ekonomi, administration och försäljning</th>\n",
       "      <th>Friskvård och kroppsvård</th>\n",
       "      <th>Hotell, restaurang och turism</th>\n",
       "      <th>Hälso- och sjukvård samt socialt arbete</th>\n",
       "      <th>Journalistik och information</th>\n",
       "      <th>Juridik</th>\n",
       "      <th>Kultur, media och design</th>\n",
       "      <th>Lantbruk, djurvård, trädgård, skog och fiske</th>\n",
       "      <th>Pedagogik och undervisning</th>\n",
       "      <th>Samhällsbyggnad och byggteknik</th>\n",
       "      <th>Säkerhetstjänster</th>\n",
       "      <th>Teknik och tillverkning</th>\n",
       "      <th>Transporttjänster</th>\n",
       "      <th>Övrigt</th>\n",
       "      <th>Totalt</th>\n",
       "    </tr>\n",
       "  </thead>\n",
       "  <tbody>\n",
       "    <tr>\n",
       "      <th>0</th>\n",
       "      <td>2024</td>\n",
       "      <td>16447</td>\n",
       "      <td>17380</td>\n",
       "      <td>366</td>\n",
       "      <td>2800</td>\n",
       "      <td>11916</td>\n",
       "      <td>646</td>\n",
       "      <td>346.0</td>\n",
       "      <td>4636</td>\n",
       "      <td>2346</td>\n",
       "      <td>1095</td>\n",
       "      <td>13129</td>\n",
       "      <td>830</td>\n",
       "      <td>13226</td>\n",
       "      <td>1691</td>\n",
       "      <td>371.0</td>\n",
       "      <td>87225</td>\n",
       "    </tr>\n",
       "    <tr>\n",
       "      <th>1</th>\n",
       "      <td>2022</td>\n",
       "      <td>14255</td>\n",
       "      <td>17818</td>\n",
       "      <td>408</td>\n",
       "      <td>3007</td>\n",
       "      <td>12880</td>\n",
       "      <td>823</td>\n",
       "      <td>416.0</td>\n",
       "      <td>4223</td>\n",
       "      <td>1950</td>\n",
       "      <td>1976</td>\n",
       "      <td>13038</td>\n",
       "      <td>763</td>\n",
       "      <td>11309</td>\n",
       "      <td>1490</td>\n",
       "      <td>515.0</td>\n",
       "      <td>84871</td>\n",
       "    </tr>\n",
       "    <tr>\n",
       "      <th>2</th>\n",
       "      <td>2023</td>\n",
       "      <td>15162</td>\n",
       "      <td>17354</td>\n",
       "      <td>460</td>\n",
       "      <td>2753</td>\n",
       "      <td>12521</td>\n",
       "      <td>752</td>\n",
       "      <td>346.0</td>\n",
       "      <td>4457</td>\n",
       "      <td>2091</td>\n",
       "      <td>1510</td>\n",
       "      <td>12561</td>\n",
       "      <td>833</td>\n",
       "      <td>11709</td>\n",
       "      <td>1618</td>\n",
       "      <td>433.0</td>\n",
       "      <td>84560</td>\n",
       "    </tr>\n",
       "    <tr>\n",
       "      <th>3</th>\n",
       "      <td>2021</td>\n",
       "      <td>12852</td>\n",
       "      <td>18540</td>\n",
       "      <td>372</td>\n",
       "      <td>3314</td>\n",
       "      <td>12052</td>\n",
       "      <td>936</td>\n",
       "      <td>488.0</td>\n",
       "      <td>3916</td>\n",
       "      <td>1810</td>\n",
       "      <td>1806</td>\n",
       "      <td>12744</td>\n",
       "      <td>594</td>\n",
       "      <td>11279</td>\n",
       "      <td>1573</td>\n",
       "      <td>477.0</td>\n",
       "      <td>82753</td>\n",
       "    </tr>\n",
       "    <tr>\n",
       "      <th>4</th>\n",
       "      <td>2020</td>\n",
       "      <td>10283</td>\n",
       "      <td>18491</td>\n",
       "      <td>335</td>\n",
       "      <td>3094</td>\n",
       "      <td>10904</td>\n",
       "      <td>967</td>\n",
       "      <td>484.0</td>\n",
       "      <td>3432</td>\n",
       "      <td>1613</td>\n",
       "      <td>1528</td>\n",
       "      <td>11547</td>\n",
       "      <td>579</td>\n",
       "      <td>9931</td>\n",
       "      <td>1757</td>\n",
       "      <td>426.0</td>\n",
       "      <td>75371</td>\n",
       "    </tr>\n",
       "    <tr>\n",
       "      <th>5</th>\n",
       "      <td>2019</td>\n",
       "      <td>7086</td>\n",
       "      <td>15994</td>\n",
       "      <td>302</td>\n",
       "      <td>2718</td>\n",
       "      <td>9031</td>\n",
       "      <td>904</td>\n",
       "      <td>451.0</td>\n",
       "      <td>3016</td>\n",
       "      <td>1416</td>\n",
       "      <td>1289</td>\n",
       "      <td>9019</td>\n",
       "      <td>408</td>\n",
       "      <td>7763</td>\n",
       "      <td>1673</td>\n",
       "      <td>323.0</td>\n",
       "      <td>61393</td>\n",
       "    </tr>\n",
       "    <tr>\n",
       "      <th>6</th>\n",
       "      <td>2018</td>\n",
       "      <td>5704</td>\n",
       "      <td>13797</td>\n",
       "      <td>231</td>\n",
       "      <td>2499</td>\n",
       "      <td>7451</td>\n",
       "      <td>833</td>\n",
       "      <td>438.0</td>\n",
       "      <td>2904</td>\n",
       "      <td>1360</td>\n",
       "      <td>861</td>\n",
       "      <td>7534</td>\n",
       "      <td>284</td>\n",
       "      <td>6839</td>\n",
       "      <td>1749</td>\n",
       "      <td>257.0</td>\n",
       "      <td>52741</td>\n",
       "    </tr>\n",
       "    <tr>\n",
       "      <th>7</th>\n",
       "      <td>2017</td>\n",
       "      <td>6210</td>\n",
       "      <td>12193</td>\n",
       "      <td>238</td>\n",
       "      <td>2534</td>\n",
       "      <td>6727</td>\n",
       "      <td>802</td>\n",
       "      <td>412.0</td>\n",
       "      <td>2865</td>\n",
       "      <td>1442</td>\n",
       "      <td>654</td>\n",
       "      <td>6831</td>\n",
       "      <td>275</td>\n",
       "      <td>7058</td>\n",
       "      <td>1850</td>\n",
       "      <td>282.0</td>\n",
       "      <td>50373</td>\n",
       "    </tr>\n",
       "    <tr>\n",
       "      <th>8</th>\n",
       "      <td>2016</td>\n",
       "      <td>6183</td>\n",
       "      <td>11529</td>\n",
       "      <td>303</td>\n",
       "      <td>2533</td>\n",
       "      <td>6162</td>\n",
       "      <td>723</td>\n",
       "      <td>336.0</td>\n",
       "      <td>2770</td>\n",
       "      <td>1407</td>\n",
       "      <td>534</td>\n",
       "      <td>6066</td>\n",
       "      <td>375</td>\n",
       "      <td>7259</td>\n",
       "      <td>1544</td>\n",
       "      <td>259.0</td>\n",
       "      <td>47983</td>\n",
       "    </tr>\n",
       "    <tr>\n",
       "      <th>9</th>\n",
       "      <td>2015</td>\n",
       "      <td>5812</td>\n",
       "      <td>11670</td>\n",
       "      <td>352</td>\n",
       "      <td>2606</td>\n",
       "      <td>6023</td>\n",
       "      <td>649</td>\n",
       "      <td>309.0</td>\n",
       "      <td>2769</td>\n",
       "      <td>1307</td>\n",
       "      <td>422</td>\n",
       "      <td>5512</td>\n",
       "      <td>378</td>\n",
       "      <td>7387</td>\n",
       "      <td>1190</td>\n",
       "      <td>247.0</td>\n",
       "      <td>46633</td>\n",
       "    </tr>\n",
       "  </tbody>\n",
       "</table>\n",
       "</div>"
      ],
      "text/plain": [
       "     År  Data/It  Ekonomi, administration och försäljning  \\\n",
       "0  2024    16447                                    17380   \n",
       "1  2022    14255                                    17818   \n",
       "2  2023    15162                                    17354   \n",
       "3  2021    12852                                    18540   \n",
       "4  2020    10283                                    18491   \n",
       "5  2019     7086                                    15994   \n",
       "6  2018     5704                                    13797   \n",
       "7  2017     6210                                    12193   \n",
       "8  2016     6183                                    11529   \n",
       "9  2015     5812                                    11670   \n",
       "\n",
       "   Friskvård och kroppsvård  Hotell, restaurang och turism  \\\n",
       "0                       366                           2800   \n",
       "1                       408                           3007   \n",
       "2                       460                           2753   \n",
       "3                       372                           3314   \n",
       "4                       335                           3094   \n",
       "5                       302                           2718   \n",
       "6                       231                           2499   \n",
       "7                       238                           2534   \n",
       "8                       303                           2533   \n",
       "9                       352                           2606   \n",
       "\n",
       "   Hälso- och sjukvård samt socialt arbete  Journalistik och information  \\\n",
       "0                                    11916                           646   \n",
       "1                                    12880                           823   \n",
       "2                                    12521                           752   \n",
       "3                                    12052                           936   \n",
       "4                                    10904                           967   \n",
       "5                                     9031                           904   \n",
       "6                                     7451                           833   \n",
       "7                                     6727                           802   \n",
       "8                                     6162                           723   \n",
       "9                                     6023                           649   \n",
       "\n",
       "   Juridik  Kultur, media och design  \\\n",
       "0    346.0                      4636   \n",
       "1    416.0                      4223   \n",
       "2    346.0                      4457   \n",
       "3    488.0                      3916   \n",
       "4    484.0                      3432   \n",
       "5    451.0                      3016   \n",
       "6    438.0                      2904   \n",
       "7    412.0                      2865   \n",
       "8    336.0                      2770   \n",
       "9    309.0                      2769   \n",
       "\n",
       "   Lantbruk, djurvård, trädgård, skog och fiske  Pedagogik och undervisning  \\\n",
       "0                                          2346                        1095   \n",
       "1                                          1950                        1976   \n",
       "2                                          2091                        1510   \n",
       "3                                          1810                        1806   \n",
       "4                                          1613                        1528   \n",
       "5                                          1416                        1289   \n",
       "6                                          1360                         861   \n",
       "7                                          1442                         654   \n",
       "8                                          1407                         534   \n",
       "9                                          1307                         422   \n",
       "\n",
       "   Samhällsbyggnad och byggteknik  Säkerhetstjänster  Teknik och tillverkning  \\\n",
       "0                           13129                830                    13226   \n",
       "1                           13038                763                    11309   \n",
       "2                           12561                833                    11709   \n",
       "3                           12744                594                    11279   \n",
       "4                           11547                579                     9931   \n",
       "5                            9019                408                     7763   \n",
       "6                            7534                284                     6839   \n",
       "7                            6831                275                     7058   \n",
       "8                            6066                375                     7259   \n",
       "9                            5512                378                     7387   \n",
       "\n",
       "   Transporttjänster  Övrigt  Totalt  \n",
       "0               1691   371.0   87225  \n",
       "1               1490   515.0   84871  \n",
       "2               1618   433.0   84560  \n",
       "3               1573   477.0   82753  \n",
       "4               1757   426.0   75371  \n",
       "5               1673   323.0   61393  \n",
       "6               1749   257.0   52741  \n",
       "7               1850   282.0   50373  \n",
       "8               1544   259.0   47983  \n",
       "9               1190   247.0   46633  "
      ]
     },
     "execution_count": 59,
     "metadata": {},
     "output_type": "execute_result"
    }
   ],
   "source": [
    "import duckdb\n",
    "\n",
    "# Run query\n",
    "result = duckdb.query(\"\"\"\n",
    "SELECT *\n",
    "FROM df3\n",
    "ORDER BY Totalt DESC\n",
    "\"\"\").df()\n",
    "\n",
    "result.head(10)\n"
   ]
  },
  {
   "cell_type": "code",
   "execution_count": 60,
   "id": "bf3582e3",
   "metadata": {},
   "outputs": [
    {
     "name": "stdout",
     "output_type": "stream",
     "text": [
      "Column with highest total students: Ekonomi, administration och försäljning (259487.0)\n",
      "Column with lowest total students: Juridik (5687.0)\n"
     ]
    }
   ],
   "source": [
    "# Excluderar år, övrigt & total columner\n",
    "numeric_cols = df3.drop(columns=['År', 'Totalt', 'Övrigt'])\n",
    "\n",
    "# Summera varje column\n",
    "column_sums = numeric_cols.sum()\n",
    "\n",
    "# Find column with max\n",
    "max_column = column_sums.idxmax()\n",
    "max_value = column_sums[max_column]\n",
    "\n",
    "# Find column with min\n",
    "min_column = column_sums.idxmin()\n",
    "min_value = column_sums[min_column]\n",
    "\n",
    "print(f\"Column with highest total students: {max_column} ({max_value})\")\n",
    "print(f\"Column with lowest total students: {min_column} ({min_value})\")\n"
   ]
  },
  {
   "cell_type": "markdown",
   "id": "0864d252",
   "metadata": {},
   "source": [
    "### Omvandlat ovan till funktion"
   ]
  },
  {
   "cell_type": "code",
   "execution_count": null,
   "id": "28366875",
   "metadata": {},
   "outputs": [],
   "source": [
    "def find_min_max_columns(df):\n",
    "    numeric_cols = df.drop(columns=['År', 'Totalt', 'Övrigt'])\n",
    "    column_sums = numeric_cols.sum()\n",
    "    max_column = column_sums.idxmax()\n",
    "    max_value = column_sums[max_column]\n",
    "    min_column = column_sums.idxmin()\n",
    "    min_value = column_sums[min_column]\n",
    "    return max_column, max_value, min_column, min_value\n",
    "\n",
    "print(f\"Column with highest total students: {max_col} ({max_val})\")\n",
    "print(f\"Column with lowest total students: {min_col} ({min_val})\")"
   ]
  },
  {
   "cell_type": "code",
   "execution_count": 49,
   "id": "f2dc9f11",
   "metadata": {},
   "outputs": [
    {
     "data": {
      "application/vnd.plotly.v1+json": {
       "config": {
        "plotlyServerURL": "https://plot.ly"
       },
       "data": [
        {
         "hovertemplate": "Gender=Women<br>Applicants=%{x}<br>Education=%{y}<extra></extra>",
         "legendgroup": "Women",
         "marker": {
          "color": "#636efa",
          "opacity": 0.5,
          "pattern": {
           "shape": ""
          }
         },
         "name": "Women",
         "orientation": "h",
         "showlegend": true,
         "textposition": "auto",
         "type": "bar",
         "x": {
          "bdata": "3hKMRk0BQgsqNO8CzgKsCfoEhAEAFAECWxBzAp0A",
          "dtype": "i2"
         },
         "xaxis": "x",
         "y": [
          "Data/IT",
          "Ekonomi, administration och försäljning",
          "Friskvård och kroppsvård",
          "Hotell, restaurang och turism",
          "Hälso- och sjukvård samt socialt arbete",
          "Journalistik och information",
          "Juridik",
          "Kultur, media och design",
          "Lantbruk, djurvård, trädgård, skog och fiske",
          "Pedagogik och undervisning",
          "Samhällsbyggnad och byggteknik",
          "Säkerhetstjänster",
          "Teknik och tillverkning",
          "Transporttjänster",
          "Övrigt"
         ],
         "yaxis": "y"
        },
        {
         "hovertemplate": "Gender=Men<br>Applicants=%{x}<br>Education=%{y}<extra></extra>",
         "legendgroup": "Men",
         "marker": {
          "color": "#EF553B",
          "opacity": 0.5,
          "pattern": {
           "shape": ""
          }
         },
         "name": "Men",
         "orientation": "h",
         "showlegend": true,
         "textposition": "auto",
         "type": "bar",
         "x": {
          "bdata": "niEVGQQAfwO/B7UAkgBfCAsC2gEwH+gBMicKB08A",
          "dtype": "i2"
         },
         "xaxis": "x",
         "y": [
          "Data/IT",
          "Ekonomi, administration och försäljning",
          "Friskvård och kroppsvård",
          "Hotell, restaurang och turism",
          "Hälso- och sjukvård samt socialt arbete",
          "Journalistik och information",
          "Juridik",
          "Kultur, media och design",
          "Lantbruk, djurvård, trädgård, skog och fiske",
          "Pedagogik och undervisning",
          "Samhällsbyggnad och byggteknik",
          "Säkerhetstjänster",
          "Teknik och tillverkning",
          "Transporttjänster",
          "Övrigt"
         ],
         "yaxis": "y"
        }
       ],
       "layout": {
        "barmode": "overlay",
        "height": 700,
        "legend": {
         "title": {
          "text": "Gender"
         },
         "tracegroupgap": 0
        },
        "template": {
         "data": {
          "bar": [
           {
            "error_x": {
             "color": "#2a3f5f"
            },
            "error_y": {
             "color": "#2a3f5f"
            },
            "marker": {
             "line": {
              "color": "#E5ECF6",
              "width": 0.5
             },
             "pattern": {
              "fillmode": "overlay",
              "size": 10,
              "solidity": 0.2
             }
            },
            "type": "bar"
           }
          ],
          "barpolar": [
           {
            "marker": {
             "line": {
              "color": "#E5ECF6",
              "width": 0.5
             },
             "pattern": {
              "fillmode": "overlay",
              "size": 10,
              "solidity": 0.2
             }
            },
            "type": "barpolar"
           }
          ],
          "carpet": [
           {
            "aaxis": {
             "endlinecolor": "#2a3f5f",
             "gridcolor": "white",
             "linecolor": "white",
             "minorgridcolor": "white",
             "startlinecolor": "#2a3f5f"
            },
            "baxis": {
             "endlinecolor": "#2a3f5f",
             "gridcolor": "white",
             "linecolor": "white",
             "minorgridcolor": "white",
             "startlinecolor": "#2a3f5f"
            },
            "type": "carpet"
           }
          ],
          "choropleth": [
           {
            "colorbar": {
             "outlinewidth": 0,
             "ticks": ""
            },
            "type": "choropleth"
           }
          ],
          "contour": [
           {
            "colorbar": {
             "outlinewidth": 0,
             "ticks": ""
            },
            "colorscale": [
             [
              0,
              "#0d0887"
             ],
             [
              0.1111111111111111,
              "#46039f"
             ],
             [
              0.2222222222222222,
              "#7201a8"
             ],
             [
              0.3333333333333333,
              "#9c179e"
             ],
             [
              0.4444444444444444,
              "#bd3786"
             ],
             [
              0.5555555555555556,
              "#d8576b"
             ],
             [
              0.6666666666666666,
              "#ed7953"
             ],
             [
              0.7777777777777778,
              "#fb9f3a"
             ],
             [
              0.8888888888888888,
              "#fdca26"
             ],
             [
              1,
              "#f0f921"
             ]
            ],
            "type": "contour"
           }
          ],
          "contourcarpet": [
           {
            "colorbar": {
             "outlinewidth": 0,
             "ticks": ""
            },
            "type": "contourcarpet"
           }
          ],
          "heatmap": [
           {
            "colorbar": {
             "outlinewidth": 0,
             "ticks": ""
            },
            "colorscale": [
             [
              0,
              "#0d0887"
             ],
             [
              0.1111111111111111,
              "#46039f"
             ],
             [
              0.2222222222222222,
              "#7201a8"
             ],
             [
              0.3333333333333333,
              "#9c179e"
             ],
             [
              0.4444444444444444,
              "#bd3786"
             ],
             [
              0.5555555555555556,
              "#d8576b"
             ],
             [
              0.6666666666666666,
              "#ed7953"
             ],
             [
              0.7777777777777778,
              "#fb9f3a"
             ],
             [
              0.8888888888888888,
              "#fdca26"
             ],
             [
              1,
              "#f0f921"
             ]
            ],
            "type": "heatmap"
           }
          ],
          "histogram": [
           {
            "marker": {
             "pattern": {
              "fillmode": "overlay",
              "size": 10,
              "solidity": 0.2
             }
            },
            "type": "histogram"
           }
          ],
          "histogram2d": [
           {
            "colorbar": {
             "outlinewidth": 0,
             "ticks": ""
            },
            "colorscale": [
             [
              0,
              "#0d0887"
             ],
             [
              0.1111111111111111,
              "#46039f"
             ],
             [
              0.2222222222222222,
              "#7201a8"
             ],
             [
              0.3333333333333333,
              "#9c179e"
             ],
             [
              0.4444444444444444,
              "#bd3786"
             ],
             [
              0.5555555555555556,
              "#d8576b"
             ],
             [
              0.6666666666666666,
              "#ed7953"
             ],
             [
              0.7777777777777778,
              "#fb9f3a"
             ],
             [
              0.8888888888888888,
              "#fdca26"
             ],
             [
              1,
              "#f0f921"
             ]
            ],
            "type": "histogram2d"
           }
          ],
          "histogram2dcontour": [
           {
            "colorbar": {
             "outlinewidth": 0,
             "ticks": ""
            },
            "colorscale": [
             [
              0,
              "#0d0887"
             ],
             [
              0.1111111111111111,
              "#46039f"
             ],
             [
              0.2222222222222222,
              "#7201a8"
             ],
             [
              0.3333333333333333,
              "#9c179e"
             ],
             [
              0.4444444444444444,
              "#bd3786"
             ],
             [
              0.5555555555555556,
              "#d8576b"
             ],
             [
              0.6666666666666666,
              "#ed7953"
             ],
             [
              0.7777777777777778,
              "#fb9f3a"
             ],
             [
              0.8888888888888888,
              "#fdca26"
             ],
             [
              1,
              "#f0f921"
             ]
            ],
            "type": "histogram2dcontour"
           }
          ],
          "mesh3d": [
           {
            "colorbar": {
             "outlinewidth": 0,
             "ticks": ""
            },
            "type": "mesh3d"
           }
          ],
          "parcoords": [
           {
            "line": {
             "colorbar": {
              "outlinewidth": 0,
              "ticks": ""
             }
            },
            "type": "parcoords"
           }
          ],
          "pie": [
           {
            "automargin": true,
            "type": "pie"
           }
          ],
          "scatter": [
           {
            "fillpattern": {
             "fillmode": "overlay",
             "size": 10,
             "solidity": 0.2
            },
            "type": "scatter"
           }
          ],
          "scatter3d": [
           {
            "line": {
             "colorbar": {
              "outlinewidth": 0,
              "ticks": ""
             }
            },
            "marker": {
             "colorbar": {
              "outlinewidth": 0,
              "ticks": ""
             }
            },
            "type": "scatter3d"
           }
          ],
          "scattercarpet": [
           {
            "marker": {
             "colorbar": {
              "outlinewidth": 0,
              "ticks": ""
             }
            },
            "type": "scattercarpet"
           }
          ],
          "scattergeo": [
           {
            "marker": {
             "colorbar": {
              "outlinewidth": 0,
              "ticks": ""
             }
            },
            "type": "scattergeo"
           }
          ],
          "scattergl": [
           {
            "marker": {
             "colorbar": {
              "outlinewidth": 0,
              "ticks": ""
             }
            },
            "type": "scattergl"
           }
          ],
          "scattermap": [
           {
            "marker": {
             "colorbar": {
              "outlinewidth": 0,
              "ticks": ""
             }
            },
            "type": "scattermap"
           }
          ],
          "scattermapbox": [
           {
            "marker": {
             "colorbar": {
              "outlinewidth": 0,
              "ticks": ""
             }
            },
            "type": "scattermapbox"
           }
          ],
          "scatterpolar": [
           {
            "marker": {
             "colorbar": {
              "outlinewidth": 0,
              "ticks": ""
             }
            },
            "type": "scatterpolar"
           }
          ],
          "scatterpolargl": [
           {
            "marker": {
             "colorbar": {
              "outlinewidth": 0,
              "ticks": ""
             }
            },
            "type": "scatterpolargl"
           }
          ],
          "scatterternary": [
           {
            "marker": {
             "colorbar": {
              "outlinewidth": 0,
              "ticks": ""
             }
            },
            "type": "scatterternary"
           }
          ],
          "surface": [
           {
            "colorbar": {
             "outlinewidth": 0,
             "ticks": ""
            },
            "colorscale": [
             [
              0,
              "#0d0887"
             ],
             [
              0.1111111111111111,
              "#46039f"
             ],
             [
              0.2222222222222222,
              "#7201a8"
             ],
             [
              0.3333333333333333,
              "#9c179e"
             ],
             [
              0.4444444444444444,
              "#bd3786"
             ],
             [
              0.5555555555555556,
              "#d8576b"
             ],
             [
              0.6666666666666666,
              "#ed7953"
             ],
             [
              0.7777777777777778,
              "#fb9f3a"
             ],
             [
              0.8888888888888888,
              "#fdca26"
             ],
             [
              1,
              "#f0f921"
             ]
            ],
            "type": "surface"
           }
          ],
          "table": [
           {
            "cells": {
             "fill": {
              "color": "#EBF0F8"
             },
             "line": {
              "color": "white"
             }
            },
            "header": {
             "fill": {
              "color": "#C8D4E3"
             },
             "line": {
              "color": "white"
             }
            },
            "type": "table"
           }
          ]
         },
         "layout": {
          "annotationdefaults": {
           "arrowcolor": "#2a3f5f",
           "arrowhead": 0,
           "arrowwidth": 1
          },
          "autotypenumbers": "strict",
          "coloraxis": {
           "colorbar": {
            "outlinewidth": 0,
            "ticks": ""
           }
          },
          "colorscale": {
           "diverging": [
            [
             0,
             "#8e0152"
            ],
            [
             0.1,
             "#c51b7d"
            ],
            [
             0.2,
             "#de77ae"
            ],
            [
             0.3,
             "#f1b6da"
            ],
            [
             0.4,
             "#fde0ef"
            ],
            [
             0.5,
             "#f7f7f7"
            ],
            [
             0.6,
             "#e6f5d0"
            ],
            [
             0.7,
             "#b8e186"
            ],
            [
             0.8,
             "#7fbc41"
            ],
            [
             0.9,
             "#4d9221"
            ],
            [
             1,
             "#276419"
            ]
           ],
           "sequential": [
            [
             0,
             "#0d0887"
            ],
            [
             0.1111111111111111,
             "#46039f"
            ],
            [
             0.2222222222222222,
             "#7201a8"
            ],
            [
             0.3333333333333333,
             "#9c179e"
            ],
            [
             0.4444444444444444,
             "#bd3786"
            ],
            [
             0.5555555555555556,
             "#d8576b"
            ],
            [
             0.6666666666666666,
             "#ed7953"
            ],
            [
             0.7777777777777778,
             "#fb9f3a"
            ],
            [
             0.8888888888888888,
             "#fdca26"
            ],
            [
             1,
             "#f0f921"
            ]
           ],
           "sequentialminus": [
            [
             0,
             "#0d0887"
            ],
            [
             0.1111111111111111,
             "#46039f"
            ],
            [
             0.2222222222222222,
             "#7201a8"
            ],
            [
             0.3333333333333333,
             "#9c179e"
            ],
            [
             0.4444444444444444,
             "#bd3786"
            ],
            [
             0.5555555555555556,
             "#d8576b"
            ],
            [
             0.6666666666666666,
             "#ed7953"
            ],
            [
             0.7777777777777778,
             "#fb9f3a"
            ],
            [
             0.8888888888888888,
             "#fdca26"
            ],
            [
             1,
             "#f0f921"
            ]
           ]
          },
          "colorway": [
           "#636efa",
           "#EF553B",
           "#00cc96",
           "#ab63fa",
           "#FFA15A",
           "#19d3f3",
           "#FF6692",
           "#B6E880",
           "#FF97FF",
           "#FECB52"
          ],
          "font": {
           "color": "#2a3f5f"
          },
          "geo": {
           "bgcolor": "white",
           "lakecolor": "white",
           "landcolor": "#E5ECF6",
           "showlakes": true,
           "showland": true,
           "subunitcolor": "white"
          },
          "hoverlabel": {
           "align": "left"
          },
          "hovermode": "closest",
          "mapbox": {
           "style": "light"
          },
          "paper_bgcolor": "white",
          "plot_bgcolor": "#E5ECF6",
          "polar": {
           "angularaxis": {
            "gridcolor": "white",
            "linecolor": "white",
            "ticks": ""
           },
           "bgcolor": "#E5ECF6",
           "radialaxis": {
            "gridcolor": "white",
            "linecolor": "white",
            "ticks": ""
           }
          },
          "scene": {
           "xaxis": {
            "backgroundcolor": "#E5ECF6",
            "gridcolor": "white",
            "gridwidth": 2,
            "linecolor": "white",
            "showbackground": true,
            "ticks": "",
            "zerolinecolor": "white"
           },
           "yaxis": {
            "backgroundcolor": "#E5ECF6",
            "gridcolor": "white",
            "gridwidth": 2,
            "linecolor": "white",
            "showbackground": true,
            "ticks": "",
            "zerolinecolor": "white"
           },
           "zaxis": {
            "backgroundcolor": "#E5ECF6",
            "gridcolor": "white",
            "gridwidth": 2,
            "linecolor": "white",
            "showbackground": true,
            "ticks": "",
            "zerolinecolor": "white"
           }
          },
          "shapedefaults": {
           "line": {
            "color": "#2a3f5f"
           }
          },
          "ternary": {
           "aaxis": {
            "gridcolor": "white",
            "linecolor": "white",
            "ticks": ""
           },
           "baxis": {
            "gridcolor": "white",
            "linecolor": "white",
            "ticks": ""
           },
           "bgcolor": "#E5ECF6",
           "caxis": {
            "gridcolor": "white",
            "linecolor": "white",
            "ticks": ""
           }
          },
          "title": {
           "x": 0.05
          },
          "xaxis": {
           "automargin": true,
           "gridcolor": "white",
           "linecolor": "white",
           "ticks": "",
           "title": {
            "standoff": 15
           },
           "zerolinecolor": "white",
           "zerolinewidth": 2
          },
          "yaxis": {
           "automargin": true,
           "gridcolor": "white",
           "linecolor": "white",
           "ticks": "",
           "title": {
            "standoff": 15
           },
           "zerolinecolor": "white",
           "zerolinewidth": 2
          }
         }
        },
        "title": {
         "text": "Men vs Women Applicants per Education Field (2024)"
        },
        "xaxis": {
         "anchor": "y",
         "domain": [
          0,
          1
         ],
         "title": {
          "text": "Number of Applicants"
         }
        },
        "yaxis": {
         "anchor": "x",
         "domain": [
          0,
          1
         ],
         "title": {
          "text": "Education Field"
         }
        }
       }
      }
     },
     "metadata": {},
     "output_type": "display_data"
    }
   ],
   "source": [
    "import pandas as pd\n",
    "import plotly.express as px\n",
    "\n",
    "df = pd.read_excel(\"data/Utbildningsansökning_age.xlsx\", sheet_name='Education')\n",
    "\n",
    "# Clean and convert numbers (remove spaces and convert to int)\n",
    "for col in ['Total', 'Women', 'Men']:\n",
    "    df[col] = df[col].astype(str).str.replace(' ', '').astype(int)\n",
    "\n",
    "# Filter for the most recent year (2024)\n",
    "df_2024 = df[df['Year'] == 2024]\n",
    "\n",
    "# Create the overlapping horizontal bar chart\n",
    "fig = px.bar(\n",
    "    df_2024.melt(id_vars=['Education'], value_vars=['Women', 'Men'], var_name='Gender', value_name='Applicants'),\n",
    "    x='Applicants',\n",
    "    y='Education',\n",
    "    color='Gender',\n",
    "    barmode='overlay',\n",
    "    orientation='h',\n",
    "    title='Men vs Women Applicants per Education Field (2024)'\n",
    ")\n",
    "\n",
    "fig.update_layout(\n",
    "    height=700,\n",
    "    xaxis_title='Number of Applicants',\n",
    "    yaxis_title='Education Field',\n",
    "    legend_title='Gender'\n",
    ")\n",
    "\n",
    "fig.show()\n"
   ]
  },
  {
   "cell_type": "code",
   "execution_count": null,
   "id": "9f2a0e0a",
   "metadata": {},
   "outputs": [
    {
     "data": {
      "application/vnd.plotly.v1+json": {
       "config": {
        "plotlyServerURL": "https://plot.ly"
       },
       "data": [
        {
         "hovertemplate": "Gender=Women<br>Applicants=%{x}<br>Education=%{y}<extra></extra>",
         "legendgroup": "Women",
         "marker": {
          "color": "lightblue",
          "opacity": 0.5,
          "pattern": {
           "shape": ""
          }
         },
         "name": "Women",
         "orientation": "h",
         "showlegend": true,
         "textposition": "auto",
         "type": "bar",
         "x": {
          "bdata": "9wUAAEkJAACVBAAALBUAABEUAACxJQAAKhwAADojAADeYQAAtokAAA==",
          "dtype": "i4"
         },
         "xaxis": "x",
         "y": [
          "Journalistik och information",
          "Lantbruk, djurvård, trädgård, skog och fiske",
          "Transporttjänster",
          "Hotell, restaurang och turism",
          "Kultur, media och design",
          "Samhällsbyggnad och byggteknik",
          "Teknik och tillverkning",
          "Data/IT",
          "Hälso- och sjukvård samt socialt arbete",
          "Ekonomi, administration och försäljning"
         ],
         "yaxis": "y"
        },
        {
         "hovertemplate": "Gender=Men<br>Applicants=%{x}<br>Education=%{y}<extra></extra>",
         "legendgroup": "Men",
         "marker": {
          "color": "grey",
          "opacity": 0.5,
          "pattern": {
           "shape": ""
          }
         },
         "name": "Men",
         "orientation": "h",
         "showlegend": true,
         "textposition": "auto",
         "type": "bar",
         "x": {
          "bdata": "iAGZA4gLtwb6ECM7pEYuQG0OYDE=",
          "dtype": "i2"
         },
         "xaxis": "x",
         "y": [
          "Journalistik och information",
          "Lantbruk, djurvård, trädgård, skog och fiske",
          "Transporttjänster",
          "Hotell, restaurang och turism",
          "Kultur, media och design",
          "Samhällsbyggnad och byggteknik",
          "Teknik och tillverkning",
          "Data/IT",
          "Hälso- och sjukvård samt socialt arbete",
          "Ekonomi, administration och försäljning"
         ],
         "yaxis": "y"
        }
       ],
       "layout": {
        "barmode": "overlay",
        "height": 700,
        "hoverlabel": {
         "bgcolor": "darkblue",
         "bordercolor": "black",
         "font": {
          "color": "white",
          "family": "Inter",
          "size": 15
         }
        },
        "legend": {
         "title": {
          "text": "Gender"
         },
         "tracegroupgap": 0
        },
        "paper_bgcolor": "white",
        "plot_bgcolor": "white",
        "template": {
         "data": {
          "bar": [
           {
            "error_x": {
             "color": "#2a3f5f"
            },
            "error_y": {
             "color": "#2a3f5f"
            },
            "marker": {
             "line": {
              "color": "#E5ECF6",
              "width": 0.5
             },
             "pattern": {
              "fillmode": "overlay",
              "size": 10,
              "solidity": 0.2
             }
            },
            "type": "bar"
           }
          ],
          "barpolar": [
           {
            "marker": {
             "line": {
              "color": "#E5ECF6",
              "width": 0.5
             },
             "pattern": {
              "fillmode": "overlay",
              "size": 10,
              "solidity": 0.2
             }
            },
            "type": "barpolar"
           }
          ],
          "carpet": [
           {
            "aaxis": {
             "endlinecolor": "#2a3f5f",
             "gridcolor": "white",
             "linecolor": "white",
             "minorgridcolor": "white",
             "startlinecolor": "#2a3f5f"
            },
            "baxis": {
             "endlinecolor": "#2a3f5f",
             "gridcolor": "white",
             "linecolor": "white",
             "minorgridcolor": "white",
             "startlinecolor": "#2a3f5f"
            },
            "type": "carpet"
           }
          ],
          "choropleth": [
           {
            "colorbar": {
             "outlinewidth": 0,
             "ticks": ""
            },
            "type": "choropleth"
           }
          ],
          "contour": [
           {
            "colorbar": {
             "outlinewidth": 0,
             "ticks": ""
            },
            "colorscale": [
             [
              0,
              "#0d0887"
             ],
             [
              0.1111111111111111,
              "#46039f"
             ],
             [
              0.2222222222222222,
              "#7201a8"
             ],
             [
              0.3333333333333333,
              "#9c179e"
             ],
             [
              0.4444444444444444,
              "#bd3786"
             ],
             [
              0.5555555555555556,
              "#d8576b"
             ],
             [
              0.6666666666666666,
              "#ed7953"
             ],
             [
              0.7777777777777778,
              "#fb9f3a"
             ],
             [
              0.8888888888888888,
              "#fdca26"
             ],
             [
              1,
              "#f0f921"
             ]
            ],
            "type": "contour"
           }
          ],
          "contourcarpet": [
           {
            "colorbar": {
             "outlinewidth": 0,
             "ticks": ""
            },
            "type": "contourcarpet"
           }
          ],
          "heatmap": [
           {
            "colorbar": {
             "outlinewidth": 0,
             "ticks": ""
            },
            "colorscale": [
             [
              0,
              "#0d0887"
             ],
             [
              0.1111111111111111,
              "#46039f"
             ],
             [
              0.2222222222222222,
              "#7201a8"
             ],
             [
              0.3333333333333333,
              "#9c179e"
             ],
             [
              0.4444444444444444,
              "#bd3786"
             ],
             [
              0.5555555555555556,
              "#d8576b"
             ],
             [
              0.6666666666666666,
              "#ed7953"
             ],
             [
              0.7777777777777778,
              "#fb9f3a"
             ],
             [
              0.8888888888888888,
              "#fdca26"
             ],
             [
              1,
              "#f0f921"
             ]
            ],
            "type": "heatmap"
           }
          ],
          "histogram": [
           {
            "marker": {
             "pattern": {
              "fillmode": "overlay",
              "size": 10,
              "solidity": 0.2
             }
            },
            "type": "histogram"
           }
          ],
          "histogram2d": [
           {
            "colorbar": {
             "outlinewidth": 0,
             "ticks": ""
            },
            "colorscale": [
             [
              0,
              "#0d0887"
             ],
             [
              0.1111111111111111,
              "#46039f"
             ],
             [
              0.2222222222222222,
              "#7201a8"
             ],
             [
              0.3333333333333333,
              "#9c179e"
             ],
             [
              0.4444444444444444,
              "#bd3786"
             ],
             [
              0.5555555555555556,
              "#d8576b"
             ],
             [
              0.6666666666666666,
              "#ed7953"
             ],
             [
              0.7777777777777778,
              "#fb9f3a"
             ],
             [
              0.8888888888888888,
              "#fdca26"
             ],
             [
              1,
              "#f0f921"
             ]
            ],
            "type": "histogram2d"
           }
          ],
          "histogram2dcontour": [
           {
            "colorbar": {
             "outlinewidth": 0,
             "ticks": ""
            },
            "colorscale": [
             [
              0,
              "#0d0887"
             ],
             [
              0.1111111111111111,
              "#46039f"
             ],
             [
              0.2222222222222222,
              "#7201a8"
             ],
             [
              0.3333333333333333,
              "#9c179e"
             ],
             [
              0.4444444444444444,
              "#bd3786"
             ],
             [
              0.5555555555555556,
              "#d8576b"
             ],
             [
              0.6666666666666666,
              "#ed7953"
             ],
             [
              0.7777777777777778,
              "#fb9f3a"
             ],
             [
              0.8888888888888888,
              "#fdca26"
             ],
             [
              1,
              "#f0f921"
             ]
            ],
            "type": "histogram2dcontour"
           }
          ],
          "mesh3d": [
           {
            "colorbar": {
             "outlinewidth": 0,
             "ticks": ""
            },
            "type": "mesh3d"
           }
          ],
          "parcoords": [
           {
            "line": {
             "colorbar": {
              "outlinewidth": 0,
              "ticks": ""
             }
            },
            "type": "parcoords"
           }
          ],
          "pie": [
           {
            "automargin": true,
            "type": "pie"
           }
          ],
          "scatter": [
           {
            "fillpattern": {
             "fillmode": "overlay",
             "size": 10,
             "solidity": 0.2
            },
            "type": "scatter"
           }
          ],
          "scatter3d": [
           {
            "line": {
             "colorbar": {
              "outlinewidth": 0,
              "ticks": ""
             }
            },
            "marker": {
             "colorbar": {
              "outlinewidth": 0,
              "ticks": ""
             }
            },
            "type": "scatter3d"
           }
          ],
          "scattercarpet": [
           {
            "marker": {
             "colorbar": {
              "outlinewidth": 0,
              "ticks": ""
             }
            },
            "type": "scattercarpet"
           }
          ],
          "scattergeo": [
           {
            "marker": {
             "colorbar": {
              "outlinewidth": 0,
              "ticks": ""
             }
            },
            "type": "scattergeo"
           }
          ],
          "scattergl": [
           {
            "marker": {
             "colorbar": {
              "outlinewidth": 0,
              "ticks": ""
             }
            },
            "type": "scattergl"
           }
          ],
          "scattermap": [
           {
            "marker": {
             "colorbar": {
              "outlinewidth": 0,
              "ticks": ""
             }
            },
            "type": "scattermap"
           }
          ],
          "scattermapbox": [
           {
            "marker": {
             "colorbar": {
              "outlinewidth": 0,
              "ticks": ""
             }
            },
            "type": "scattermapbox"
           }
          ],
          "scatterpolar": [
           {
            "marker": {
             "colorbar": {
              "outlinewidth": 0,
              "ticks": ""
             }
            },
            "type": "scatterpolar"
           }
          ],
          "scatterpolargl": [
           {
            "marker": {
             "colorbar": {
              "outlinewidth": 0,
              "ticks": ""
             }
            },
            "type": "scatterpolargl"
           }
          ],
          "scatterternary": [
           {
            "marker": {
             "colorbar": {
              "outlinewidth": 0,
              "ticks": ""
             }
            },
            "type": "scatterternary"
           }
          ],
          "surface": [
           {
            "colorbar": {
             "outlinewidth": 0,
             "ticks": ""
            },
            "colorscale": [
             [
              0,
              "#0d0887"
             ],
             [
              0.1111111111111111,
              "#46039f"
             ],
             [
              0.2222222222222222,
              "#7201a8"
             ],
             [
              0.3333333333333333,
              "#9c179e"
             ],
             [
              0.4444444444444444,
              "#bd3786"
             ],
             [
              0.5555555555555556,
              "#d8576b"
             ],
             [
              0.6666666666666666,
              "#ed7953"
             ],
             [
              0.7777777777777778,
              "#fb9f3a"
             ],
             [
              0.8888888888888888,
              "#fdca26"
             ],
             [
              1,
              "#f0f921"
             ]
            ],
            "type": "surface"
           }
          ],
          "table": [
           {
            "cells": {
             "fill": {
              "color": "#EBF0F8"
             },
             "line": {
              "color": "white"
             }
            },
            "header": {
             "fill": {
              "color": "#C8D4E3"
             },
             "line": {
              "color": "white"
             }
            },
            "type": "table"
           }
          ]
         },
         "layout": {
          "annotationdefaults": {
           "arrowcolor": "#2a3f5f",
           "arrowhead": 0,
           "arrowwidth": 1
          },
          "autotypenumbers": "strict",
          "coloraxis": {
           "colorbar": {
            "outlinewidth": 0,
            "ticks": ""
           }
          },
          "colorscale": {
           "diverging": [
            [
             0,
             "#8e0152"
            ],
            [
             0.1,
             "#c51b7d"
            ],
            [
             0.2,
             "#de77ae"
            ],
            [
             0.3,
             "#f1b6da"
            ],
            [
             0.4,
             "#fde0ef"
            ],
            [
             0.5,
             "#f7f7f7"
            ],
            [
             0.6,
             "#e6f5d0"
            ],
            [
             0.7,
             "#b8e186"
            ],
            [
             0.8,
             "#7fbc41"
            ],
            [
             0.9,
             "#4d9221"
            ],
            [
             1,
             "#276419"
            ]
           ],
           "sequential": [
            [
             0,
             "#0d0887"
            ],
            [
             0.1111111111111111,
             "#46039f"
            ],
            [
             0.2222222222222222,
             "#7201a8"
            ],
            [
             0.3333333333333333,
             "#9c179e"
            ],
            [
             0.4444444444444444,
             "#bd3786"
            ],
            [
             0.5555555555555556,
             "#d8576b"
            ],
            [
             0.6666666666666666,
             "#ed7953"
            ],
            [
             0.7777777777777778,
             "#fb9f3a"
            ],
            [
             0.8888888888888888,
             "#fdca26"
            ],
            [
             1,
             "#f0f921"
            ]
           ],
           "sequentialminus": [
            [
             0,
             "#0d0887"
            ],
            [
             0.1111111111111111,
             "#46039f"
            ],
            [
             0.2222222222222222,
             "#7201a8"
            ],
            [
             0.3333333333333333,
             "#9c179e"
            ],
            [
             0.4444444444444444,
             "#bd3786"
            ],
            [
             0.5555555555555556,
             "#d8576b"
            ],
            [
             0.6666666666666666,
             "#ed7953"
            ],
            [
             0.7777777777777778,
             "#fb9f3a"
            ],
            [
             0.8888888888888888,
             "#fdca26"
            ],
            [
             1,
             "#f0f921"
            ]
           ]
          },
          "colorway": [
           "#636efa",
           "#EF553B",
           "#00cc96",
           "#ab63fa",
           "#FFA15A",
           "#19d3f3",
           "#FF6692",
           "#B6E880",
           "#FF97FF",
           "#FECB52"
          ],
          "font": {
           "color": "#2a3f5f"
          },
          "geo": {
           "bgcolor": "white",
           "lakecolor": "white",
           "landcolor": "#E5ECF6",
           "showlakes": true,
           "showland": true,
           "subunitcolor": "white"
          },
          "hoverlabel": {
           "align": "left"
          },
          "hovermode": "closest",
          "mapbox": {
           "style": "light"
          },
          "paper_bgcolor": "white",
          "plot_bgcolor": "#E5ECF6",
          "polar": {
           "angularaxis": {
            "gridcolor": "white",
            "linecolor": "white",
            "ticks": ""
           },
           "bgcolor": "#E5ECF6",
           "radialaxis": {
            "gridcolor": "white",
            "linecolor": "white",
            "ticks": ""
           }
          },
          "scene": {
           "xaxis": {
            "backgroundcolor": "#E5ECF6",
            "gridcolor": "white",
            "gridwidth": 2,
            "linecolor": "white",
            "showbackground": true,
            "ticks": "",
            "zerolinecolor": "white"
           },
           "yaxis": {
            "backgroundcolor": "#E5ECF6",
            "gridcolor": "white",
            "gridwidth": 2,
            "linecolor": "white",
            "showbackground": true,
            "ticks": "",
            "zerolinecolor": "white"
           },
           "zaxis": {
            "backgroundcolor": "#E5ECF6",
            "gridcolor": "white",
            "gridwidth": 2,
            "linecolor": "white",
            "showbackground": true,
            "ticks": "",
            "zerolinecolor": "white"
           }
          },
          "shapedefaults": {
           "line": {
            "color": "#2a3f5f"
           }
          },
          "ternary": {
           "aaxis": {
            "gridcolor": "white",
            "linecolor": "white",
            "ticks": ""
           },
           "baxis": {
            "gridcolor": "white",
            "linecolor": "white",
            "ticks": ""
           },
           "bgcolor": "#E5ECF6",
           "caxis": {
            "gridcolor": "white",
            "linecolor": "white",
            "ticks": ""
           }
          },
          "title": {
           "x": 0.05
          },
          "xaxis": {
           "automargin": true,
           "gridcolor": "white",
           "linecolor": "white",
           "ticks": "",
           "title": {
            "standoff": 15
           },
           "zerolinecolor": "white",
           "zerolinewidth": 2
          },
          "yaxis": {
           "automargin": true,
           "gridcolor": "white",
           "linecolor": "white",
           "ticks": "",
           "title": {
            "standoff": 15
           },
           "zerolinecolor": "white",
           "zerolinewidth": 2
          }
         }
        },
        "title": {
         "font": {
          "color": "#334850",
          "size": 20
         },
         "text": "Men vs Women Applicants per Education Field (2023 & 2024) - Top 10"
        },
        "xaxis": {
         "anchor": "y",
         "domain": [
          0,
          1
         ],
         "linecolor": "black",
         "linewidth": 1,
         "mirror": false,
         "showline": true,
         "showticklabels": true,
         "ticks": "outside",
         "title": {
          "text": ""
         }
        },
        "yaxis": {
         "anchor": "x",
         "domain": [
          0,
          1
         ],
         "tickfont": {
          "color": "#334850",
          "size": 13
         },
         "title": {
          "text": ""
         }
        }
       }
      }
     },
     "metadata": {},
     "output_type": "display_data"
    }
   ],
   "source": [
    "import pandas as pd\n",
    "import plotly.express as px\n",
    "\n",
    "df = pd.read_excel(\"data/Utbildningsansökning_age.xlsx\", sheet_name='Education')\n",
    "\n",
    "# Clean and convert numbers\n",
    "for col in ['Total', 'Women', 'Men']:\n",
    "    df[col] = df[col].astype(str).str.replace(' ', '').astype(int)\n",
    "\n",
    "# Filter for the years 2023 and 2024\n",
    "df_filtered = df[df['Year'].isin([2023, 2024])].copy()  # Create a copy to avoid the warning\n",
    "\n",
    "# Calculate total applicants per Education for both years\n",
    "df_filtered['TotalApplicants'] = df_filtered['Women'] + df_filtered['Men']\n",
    "\n",
    "# Group by Education and sum the applicants from both years\n",
    "df_grouped = df_filtered.groupby('Education').agg(\n",
    "    Women=('Women', 'sum'),\n",
    "    Men=('Men', 'sum'),\n",
    "    TotalApplicants=('TotalApplicants', 'sum')\n",
    ").reset_index()\n",
    "\n",
    "# Get top 10 education fields by total applicants\n",
    "top_10 = df_grouped.sort_values(by='TotalApplicants', ascending=True).tail(10)\n",
    "\n",
    "# Melt data for plotting\n",
    "melted = top_10.melt(\n",
    "    id_vars=['Education'],\n",
    "    value_vars=['Women', 'Men'],\n",
    "    var_name='Gender',\n",
    "    value_name='Applicants'\n",
    ")\n",
    "\n",
    "# Create the bar chart\n",
    "fig = px.bar(\n",
    "    melted,\n",
    "    x='Applicants',\n",
    "    y='Education',\n",
    "    color='Gender',\n",
    "    barmode='overlay',\n",
    "    orientation='h',\n",
    "    title='Men vs Women Applicants per Education Field (2023 & 2024) - Top 10',\n",
    "    color_discrete_map={\n",
    "        'Women': 'lightblue', \n",
    "        'Men': 'grey'  \n",
    "    },\n",
    ")\n",
    "\n",
    "fig.update_layout(\n",
    "    height=700,\n",
    "    xaxis_title='',\n",
    "    yaxis_title='',\n",
    "    legend_title='Gender', \n",
    "    paper_bgcolor='white',   # Outside the plot area\n",
    "    plot_bgcolor='white',     # Inside the plot area (behind bars)\n",
    "    title=dict(\n",
    "        text='Men vs Women Applicants per Education Field (2023 & 2024) - Top 10',\n",
    "        font=dict(color='#334850', size=20, )\n",
    "    ),\n",
    "\n",
    "    xaxis=dict(\n",
    "        showline=True,\n",
    "        linewidth=1,\n",
    "        linecolor='black',\n",
    "        mirror=False,\n",
    "        ticks='outside',\n",
    "        showticklabels=True\n",
    "    ),\n",
    "    yaxis=dict(\n",
    "        tickfont=dict(color='#334850', size=13,)),\n",
    "        #Hoverlabel settings\n",
    "        hoverlabel=dict(\n",
    "        font=dict(\n",
    "            color='white',      # Text color\n",
    "            family='Inter',     # Optional: custom font\n",
    "            size=15             # Font size\n",
    "        ),\n",
    "        bgcolor='darkblue',     # Background color of the hover box\n",
    "        bordercolor='black'     # Border color (optional)\n",
    "    )\n",
    ")\n",
    "\n",
    "fig.show()\n"
   ]
  },
  {
   "cell_type": "markdown",
   "id": "e0dc9d35",
   "metadata": {},
   "source": [
    "## Pie chart for Age ranges"
   ]
  },
  {
   "cell_type": "code",
   "execution_count": null,
   "id": "7d0678b0",
   "metadata": {},
   "outputs": [
    {
     "data": {
      "application/vnd.plotly.v1+json": {
       "config": {
        "plotlyServerURL": "https://plot.ly"
       },
       "data": [
        {
         "alignmentgroup": "True",
         "hovertemplate": "Gender=Women<br>Age groups=%{x}<br>Antal ansökningar=%{y}<extra></extra>",
         "legendgroup": "Women",
         "marker": {
          "color": "#636efa",
          "pattern": {
           "shape": ""
          }
         },
         "name": "Women",
         "offsetgroup": "Women",
         "orientation": "v",
         "showlegend": true,
         "textposition": "auto",
         "type": "bar",
         "x": [
          "24 år och yngre",
          "25-29 år",
          "30-34 år",
          "35-39 år",
          "40-44 år",
          "45 år och äldre",
          "24 år och yngre",
          "25-29 år",
          "30-34 år",
          "35-39 år",
          "40-44 år",
          "45 år och äldre",
          "24 år och yngre",
          "25-29 år",
          "30-34 år",
          "35-39 år",
          "40-44 år",
          "45 år och äldre"
         ],
         "xaxis": "x",
         "y": {
          "bdata": "ICPJIXQgiBlIEU4bvCDiH7gemRZuD+sXAyBvIUYffhYXD5sV",
          "dtype": "i2"
         },
         "yaxis": "y"
        },
        {
         "alignmentgroup": "True",
         "hovertemplate": "Gender=Men<br>Age groups=%{x}<br>Antal ansökningar=%{y}<extra></extra>",
         "legendgroup": "Men",
         "marker": {
          "color": "#EF553B",
          "pattern": {
           "shape": ""
          }
         },
         "name": "Men",
         "offsetgroup": "Men",
         "orientation": "v",
         "showlegend": true,
         "textposition": "auto",
         "type": "bar",
         "x": [
          "24 år och yngre",
          "25-29 år",
          "30-34 år",
          "35-39 år",
          "40-44 år",
          "45 år och äldre",
          "24 år och yngre",
          "25-29 år",
          "30-34 år",
          "35-39 år",
          "40-44 år",
          "45 år och äldre",
          "24 år och yngre",
          "25-29 år",
          "30-34 år",
          "35-39 år",
          "40-44 år",
          "45 år och äldre"
         ],
         "xaxis": "x",
         "y": {
          "bdata": "Uif/G+AWiw/CCfMNjiKOGSYVSA7tCEcMryAWGS8THgzJB7QJ",
          "dtype": "i2"
         },
         "yaxis": "y"
        }
       ],
       "layout": {
        "barmode": "group",
        "legend": {
         "title": {
          "text": "Gender"
         },
         "tracegroupgap": 0
        },
        "template": {
         "data": {
          "bar": [
           {
            "error_x": {
             "color": "#2a3f5f"
            },
            "error_y": {
             "color": "#2a3f5f"
            },
            "marker": {
             "line": {
              "color": "#E5ECF6",
              "width": 0.5
             },
             "pattern": {
              "fillmode": "overlay",
              "size": 10,
              "solidity": 0.2
             }
            },
            "type": "bar"
           }
          ],
          "barpolar": [
           {
            "marker": {
             "line": {
              "color": "#E5ECF6",
              "width": 0.5
             },
             "pattern": {
              "fillmode": "overlay",
              "size": 10,
              "solidity": 0.2
             }
            },
            "type": "barpolar"
           }
          ],
          "carpet": [
           {
            "aaxis": {
             "endlinecolor": "#2a3f5f",
             "gridcolor": "white",
             "linecolor": "white",
             "minorgridcolor": "white",
             "startlinecolor": "#2a3f5f"
            },
            "baxis": {
             "endlinecolor": "#2a3f5f",
             "gridcolor": "white",
             "linecolor": "white",
             "minorgridcolor": "white",
             "startlinecolor": "#2a3f5f"
            },
            "type": "carpet"
           }
          ],
          "choropleth": [
           {
            "colorbar": {
             "outlinewidth": 0,
             "ticks": ""
            },
            "type": "choropleth"
           }
          ],
          "contour": [
           {
            "colorbar": {
             "outlinewidth": 0,
             "ticks": ""
            },
            "colorscale": [
             [
              0,
              "#0d0887"
             ],
             [
              0.1111111111111111,
              "#46039f"
             ],
             [
              0.2222222222222222,
              "#7201a8"
             ],
             [
              0.3333333333333333,
              "#9c179e"
             ],
             [
              0.4444444444444444,
              "#bd3786"
             ],
             [
              0.5555555555555556,
              "#d8576b"
             ],
             [
              0.6666666666666666,
              "#ed7953"
             ],
             [
              0.7777777777777778,
              "#fb9f3a"
             ],
             [
              0.8888888888888888,
              "#fdca26"
             ],
             [
              1,
              "#f0f921"
             ]
            ],
            "type": "contour"
           }
          ],
          "contourcarpet": [
           {
            "colorbar": {
             "outlinewidth": 0,
             "ticks": ""
            },
            "type": "contourcarpet"
           }
          ],
          "heatmap": [
           {
            "colorbar": {
             "outlinewidth": 0,
             "ticks": ""
            },
            "colorscale": [
             [
              0,
              "#0d0887"
             ],
             [
              0.1111111111111111,
              "#46039f"
             ],
             [
              0.2222222222222222,
              "#7201a8"
             ],
             [
              0.3333333333333333,
              "#9c179e"
             ],
             [
              0.4444444444444444,
              "#bd3786"
             ],
             [
              0.5555555555555556,
              "#d8576b"
             ],
             [
              0.6666666666666666,
              "#ed7953"
             ],
             [
              0.7777777777777778,
              "#fb9f3a"
             ],
             [
              0.8888888888888888,
              "#fdca26"
             ],
             [
              1,
              "#f0f921"
             ]
            ],
            "type": "heatmap"
           }
          ],
          "histogram": [
           {
            "marker": {
             "pattern": {
              "fillmode": "overlay",
              "size": 10,
              "solidity": 0.2
             }
            },
            "type": "histogram"
           }
          ],
          "histogram2d": [
           {
            "colorbar": {
             "outlinewidth": 0,
             "ticks": ""
            },
            "colorscale": [
             [
              0,
              "#0d0887"
             ],
             [
              0.1111111111111111,
              "#46039f"
             ],
             [
              0.2222222222222222,
              "#7201a8"
             ],
             [
              0.3333333333333333,
              "#9c179e"
             ],
             [
              0.4444444444444444,
              "#bd3786"
             ],
             [
              0.5555555555555556,
              "#d8576b"
             ],
             [
              0.6666666666666666,
              "#ed7953"
             ],
             [
              0.7777777777777778,
              "#fb9f3a"
             ],
             [
              0.8888888888888888,
              "#fdca26"
             ],
             [
              1,
              "#f0f921"
             ]
            ],
            "type": "histogram2d"
           }
          ],
          "histogram2dcontour": [
           {
            "colorbar": {
             "outlinewidth": 0,
             "ticks": ""
            },
            "colorscale": [
             [
              0,
              "#0d0887"
             ],
             [
              0.1111111111111111,
              "#46039f"
             ],
             [
              0.2222222222222222,
              "#7201a8"
             ],
             [
              0.3333333333333333,
              "#9c179e"
             ],
             [
              0.4444444444444444,
              "#bd3786"
             ],
             [
              0.5555555555555556,
              "#d8576b"
             ],
             [
              0.6666666666666666,
              "#ed7953"
             ],
             [
              0.7777777777777778,
              "#fb9f3a"
             ],
             [
              0.8888888888888888,
              "#fdca26"
             ],
             [
              1,
              "#f0f921"
             ]
            ],
            "type": "histogram2dcontour"
           }
          ],
          "mesh3d": [
           {
            "colorbar": {
             "outlinewidth": 0,
             "ticks": ""
            },
            "type": "mesh3d"
           }
          ],
          "parcoords": [
           {
            "line": {
             "colorbar": {
              "outlinewidth": 0,
              "ticks": ""
             }
            },
            "type": "parcoords"
           }
          ],
          "pie": [
           {
            "automargin": true,
            "type": "pie"
           }
          ],
          "scatter": [
           {
            "fillpattern": {
             "fillmode": "overlay",
             "size": 10,
             "solidity": 0.2
            },
            "type": "scatter"
           }
          ],
          "scatter3d": [
           {
            "line": {
             "colorbar": {
              "outlinewidth": 0,
              "ticks": ""
             }
            },
            "marker": {
             "colorbar": {
              "outlinewidth": 0,
              "ticks": ""
             }
            },
            "type": "scatter3d"
           }
          ],
          "scattercarpet": [
           {
            "marker": {
             "colorbar": {
              "outlinewidth": 0,
              "ticks": ""
             }
            },
            "type": "scattercarpet"
           }
          ],
          "scattergeo": [
           {
            "marker": {
             "colorbar": {
              "outlinewidth": 0,
              "ticks": ""
             }
            },
            "type": "scattergeo"
           }
          ],
          "scattergl": [
           {
            "marker": {
             "colorbar": {
              "outlinewidth": 0,
              "ticks": ""
             }
            },
            "type": "scattergl"
           }
          ],
          "scattermap": [
           {
            "marker": {
             "colorbar": {
              "outlinewidth": 0,
              "ticks": ""
             }
            },
            "type": "scattermap"
           }
          ],
          "scattermapbox": [
           {
            "marker": {
             "colorbar": {
              "outlinewidth": 0,
              "ticks": ""
             }
            },
            "type": "scattermapbox"
           }
          ],
          "scatterpolar": [
           {
            "marker": {
             "colorbar": {
              "outlinewidth": 0,
              "ticks": ""
             }
            },
            "type": "scatterpolar"
           }
          ],
          "scatterpolargl": [
           {
            "marker": {
             "colorbar": {
              "outlinewidth": 0,
              "ticks": ""
             }
            },
            "type": "scatterpolargl"
           }
          ],
          "scatterternary": [
           {
            "marker": {
             "colorbar": {
              "outlinewidth": 0,
              "ticks": ""
             }
            },
            "type": "scatterternary"
           }
          ],
          "surface": [
           {
            "colorbar": {
             "outlinewidth": 0,
             "ticks": ""
            },
            "colorscale": [
             [
              0,
              "#0d0887"
             ],
             [
              0.1111111111111111,
              "#46039f"
             ],
             [
              0.2222222222222222,
              "#7201a8"
             ],
             [
              0.3333333333333333,
              "#9c179e"
             ],
             [
              0.4444444444444444,
              "#bd3786"
             ],
             [
              0.5555555555555556,
              "#d8576b"
             ],
             [
              0.6666666666666666,
              "#ed7953"
             ],
             [
              0.7777777777777778,
              "#fb9f3a"
             ],
             [
              0.8888888888888888,
              "#fdca26"
             ],
             [
              1,
              "#f0f921"
             ]
            ],
            "type": "surface"
           }
          ],
          "table": [
           {
            "cells": {
             "fill": {
              "color": "#EBF0F8"
             },
             "line": {
              "color": "white"
             }
            },
            "header": {
             "fill": {
              "color": "#C8D4E3"
             },
             "line": {
              "color": "white"
             }
            },
            "type": "table"
           }
          ]
         },
         "layout": {
          "annotationdefaults": {
           "arrowcolor": "#2a3f5f",
           "arrowhead": 0,
           "arrowwidth": 1
          },
          "autotypenumbers": "strict",
          "coloraxis": {
           "colorbar": {
            "outlinewidth": 0,
            "ticks": ""
           }
          },
          "colorscale": {
           "diverging": [
            [
             0,
             "#8e0152"
            ],
            [
             0.1,
             "#c51b7d"
            ],
            [
             0.2,
             "#de77ae"
            ],
            [
             0.3,
             "#f1b6da"
            ],
            [
             0.4,
             "#fde0ef"
            ],
            [
             0.5,
             "#f7f7f7"
            ],
            [
             0.6,
             "#e6f5d0"
            ],
            [
             0.7,
             "#b8e186"
            ],
            [
             0.8,
             "#7fbc41"
            ],
            [
             0.9,
             "#4d9221"
            ],
            [
             1,
             "#276419"
            ]
           ],
           "sequential": [
            [
             0,
             "#0d0887"
            ],
            [
             0.1111111111111111,
             "#46039f"
            ],
            [
             0.2222222222222222,
             "#7201a8"
            ],
            [
             0.3333333333333333,
             "#9c179e"
            ],
            [
             0.4444444444444444,
             "#bd3786"
            ],
            [
             0.5555555555555556,
             "#d8576b"
            ],
            [
             0.6666666666666666,
             "#ed7953"
            ],
            [
             0.7777777777777778,
             "#fb9f3a"
            ],
            [
             0.8888888888888888,
             "#fdca26"
            ],
            [
             1,
             "#f0f921"
            ]
           ],
           "sequentialminus": [
            [
             0,
             "#0d0887"
            ],
            [
             0.1111111111111111,
             "#46039f"
            ],
            [
             0.2222222222222222,
             "#7201a8"
            ],
            [
             0.3333333333333333,
             "#9c179e"
            ],
            [
             0.4444444444444444,
             "#bd3786"
            ],
            [
             0.5555555555555556,
             "#d8576b"
            ],
            [
             0.6666666666666666,
             "#ed7953"
            ],
            [
             0.7777777777777778,
             "#fb9f3a"
            ],
            [
             0.8888888888888888,
             "#fdca26"
            ],
            [
             1,
             "#f0f921"
            ]
           ]
          },
          "colorway": [
           "#636efa",
           "#EF553B",
           "#00cc96",
           "#ab63fa",
           "#FFA15A",
           "#19d3f3",
           "#FF6692",
           "#B6E880",
           "#FF97FF",
           "#FECB52"
          ],
          "font": {
           "color": "#2a3f5f"
          },
          "geo": {
           "bgcolor": "white",
           "lakecolor": "white",
           "landcolor": "#E5ECF6",
           "showlakes": true,
           "showland": true,
           "subunitcolor": "white"
          },
          "hoverlabel": {
           "align": "left"
          },
          "hovermode": "closest",
          "mapbox": {
           "style": "light"
          },
          "paper_bgcolor": "white",
          "plot_bgcolor": "#E5ECF6",
          "polar": {
           "angularaxis": {
            "gridcolor": "white",
            "linecolor": "white",
            "ticks": ""
           },
           "bgcolor": "#E5ECF6",
           "radialaxis": {
            "gridcolor": "white",
            "linecolor": "white",
            "ticks": ""
           }
          },
          "scene": {
           "xaxis": {
            "backgroundcolor": "#E5ECF6",
            "gridcolor": "white",
            "gridwidth": 2,
            "linecolor": "white",
            "showbackground": true,
            "ticks": "",
            "zerolinecolor": "white"
           },
           "yaxis": {
            "backgroundcolor": "#E5ECF6",
            "gridcolor": "white",
            "gridwidth": 2,
            "linecolor": "white",
            "showbackground": true,
            "ticks": "",
            "zerolinecolor": "white"
           },
           "zaxis": {
            "backgroundcolor": "#E5ECF6",
            "gridcolor": "white",
            "gridwidth": 2,
            "linecolor": "white",
            "showbackground": true,
            "ticks": "",
            "zerolinecolor": "white"
           }
          },
          "shapedefaults": {
           "line": {
            "color": "#2a3f5f"
           }
          },
          "ternary": {
           "aaxis": {
            "gridcolor": "white",
            "linecolor": "white",
            "ticks": ""
           },
           "baxis": {
            "gridcolor": "white",
            "linecolor": "white",
            "ticks": ""
           },
           "bgcolor": "#E5ECF6",
           "caxis": {
            "gridcolor": "white",
            "linecolor": "white",
            "ticks": ""
           }
          },
          "title": {
           "x": 0.05
          },
          "xaxis": {
           "automargin": true,
           "gridcolor": "white",
           "linecolor": "white",
           "ticks": "",
           "title": {
            "standoff": 15
           },
           "zerolinecolor": "white",
           "zerolinewidth": 2
          },
          "yaxis": {
           "automargin": true,
           "gridcolor": "white",
           "linecolor": "white",
           "ticks": "",
           "title": {
            "standoff": 15
           },
           "zerolinecolor": "white",
           "zerolinewidth": 2
          }
         }
        },
        "title": {
         "text": "Utbildningsansökningar 2024: Kvinnor vs. Män per åldersgrupp"
        },
        "xaxis": {
         "anchor": "y",
         "domain": [
          0,
          1
         ],
         "title": {
          "text": "Age groups"
         }
        },
        "yaxis": {
         "anchor": "x",
         "domain": [
          0,
          1
         ],
         "title": {
          "text": "Antal ansökningar"
         }
        }
       }
      }
     },
     "metadata": {},
     "output_type": "display_data"
    }
   ],
   "source": [
    "import pandas as pd\n",
    "import plotly.express as px\n",
    "\n",
    "# Read the data\n",
    "df = pd.read_excel(\"data/Utbildningsansökning_age.xlsx\", sheet_name=\"Age\")\n",
    "df.columns = df.columns.str.strip()\n",
    "\n",
    "# Reshape data for grouped bar chart\n",
    "df_melted = df.melt(id_vars=[\"Age groups\"], value_vars=[\"Women\", \"Men\"],\n",
    "                    var_name=\"Gender\", value_name=\"Applications\")\n",
    "\n",
    "# Create grouped bar chart\n",
    "fig = px.bar(\n",
    "    df_melted,\n",
    "    x=\"Age groups\",\n",
    "    y=\"Applications\",\n",
    "    color=\"Gender\",\n",
    "    barmode=\"group\",\n",
    "    title=\"Utbildningsansökningar 2024: Kvinnor vs. Män per åldersgrupp\",\n",
    "    labels={\"Applications\": \"Antal ansökningar\"}\n",
    ")\n",
    "\n",
    "fig.show()\n"
   ]
  },
  {
   "cell_type": "markdown",
   "id": "1c7c894d",
   "metadata": {},
   "source": [
    "## Antalet studerande i YH inom olika utbildningsområden"
   ]
  },
  {
   "cell_type": "code",
   "execution_count": 94,
   "id": "7f6e9edb",
   "metadata": {},
   "outputs": [
    {
     "data": {
      "application/vnd.plotly.v1+json": {
       "config": {
        "plotlyServerURL": "https://plot.ly"
       },
       "data": [
        {
         "fillpattern": {
          "shape": ""
         },
         "hovertemplate": "Utbildningsområde=Data/It<br>År=%{x}<br>Antal studerande=%{y}<extra></extra>",
         "legendgroup": "Data/It",
         "line": {
          "color": "#636efa"
         },
         "marker": {
          "symbol": "circle"
         },
         "mode": "lines",
         "name": "Data/It",
         "orientation": "v",
         "showlegend": true,
         "stackgroup": "1",
         "type": "scatter",
         "x": {
          "bdata": "1QfWB9cH2AfZB9oH2wfcB90H3gffB+AH4QfiB+MH5AflB+YH5wfoBw==",
          "dtype": "i2"
         },
         "xaxis": "x",
         "y": {
          "bdata": "AAAAAAA2pEAAAAAAAOSjQAAAAAAA2qVAAAAAAAACpkAAAAAAAFKmQAAAAAAArqZAAAAAAACwqEAAAAAAAIyqQAAAAAAArK9AAAAAAABJs0AAAAAAALS2QAAAAAAAJ7hAAAAAAABCuEAAAAAAAEi2QAAAAAAArrtAAAAAAIAVxEAAAAAAABrJQAAAAACA18tAAAAAAACdzUAAAAAAwA/QQA==",
          "dtype": "f8"
         },
         "yaxis": "y"
        },
        {
         "fillpattern": {
          "shape": ""
         },
         "hovertemplate": "Utbildningsområde=Ekonomi, administration och försäljning<br>År=%{x}<br>Antal studerande=%{y}<extra></extra>",
         "legendgroup": "Ekonomi, administration och försäljning",
         "line": {
          "color": "#EF553B"
         },
         "marker": {
          "symbol": "circle"
         },
         "mode": "lines",
         "name": "Ekonomi, administration och försäljning",
         "orientation": "v",
         "showlegend": true,
         "stackgroup": "1",
         "type": "scatter",
         "visible": "legendonly",
         "x": {
          "bdata": "1QfWB9cH2AfZB9oH2wfcB90H3gffB+AH4QfiB+MH5AflB+YH5wfoBw==",
          "dtype": "i2"
         },
         "xaxis": "x",
         "y": {
          "bdata": "AAAAAABeuEAAAAAAAJ69QAAAAACAM8FAAAAAAAAMxEAAAAAAAAvGQAAAAACAQMdAAAAAAIDJx0AAAAAAAFXHQAAAAACA7sdAAAAAAIDyx0AAAAAAAMvGQAAAAACAhMZAAAAAAIDQx0AAAAAAgPLKQAAAAAAAPc9AAAAAAMAO0kAAAAAAABvSQAAAAACAZtFAAAAAAIDy0EAAAAAAAPnQQA==",
          "dtype": "f8"
         },
         "yaxis": "y"
        },
        {
         "fillpattern": {
          "shape": ""
         },
         "hovertemplate": "Utbildningsområde=Friskvård och kroppsvård<br>År=%{x}<br>Antal studerande=%{y}<extra></extra>",
         "legendgroup": "Friskvård och kroppsvård",
         "line": {
          "color": "#00cc96"
         },
         "marker": {
          "symbol": "circle"
         },
         "mode": "lines",
         "name": "Friskvård och kroppsvård",
         "orientation": "v",
         "showlegend": true,
         "stackgroup": "1",
         "type": "scatter",
         "visible": "legendonly",
         "x": {
          "bdata": "1QfWB9cH2AfZB9oH2wfcB90H3gffB+AH4QfiB+MH5AflB+YH5wfoBw==",
          "dtype": "i2"
         },
         "xaxis": "x",
         "y": {
          "bdata": "AAAAAAAQfkAAAAAAABCHQAAAAAAAmItAAAAAAAAIj0AAAAAAAIiPQAAAAAAAyIpAAAAAAAB4gkAAAAAAADB3QAAAAAAAsHZAAAAAAACgdEAAAAAAAAB2QAAAAAAA8HJAAAAAAADAbUAAAAAAAOBsQAAAAAAA4HJAAAAAAADwdEAAAAAAAEB3QAAAAAAAgHlAAAAAAADAfEAAAAAAAOB2QA==",
          "dtype": "f8"
         },
         "yaxis": "y"
        },
        {
         "fillpattern": {
          "shape": ""
         },
         "hovertemplate": "Utbildningsområde=Hotell, restaurang och turism<br>År=%{x}<br>Antal studerande=%{y}<extra></extra>",
         "legendgroup": "Hotell, restaurang och turism",
         "line": {
          "color": "#ab63fa"
         },
         "marker": {
          "symbol": "circle"
         },
         "mode": "lines",
         "name": "Hotell, restaurang och turism",
         "orientation": "v",
         "showlegend": true,
         "stackgroup": "1",
         "type": "scatter",
         "visible": "legendonly",
         "x": {
          "bdata": "1QfWB9cH2AfZB9oH2wfcB90H3gffB+AH4QfiB+MH5AflB+YH5wfoBw==",
          "dtype": "i2"
         },
         "xaxis": "x",
         "y": {
          "bdata": "AAAAAABeoUAAAAAAAPKjQAAAAAAAtKZAAAAAAAAEqEAAAAAAACqnQAAAAAAAsqZAAAAAAACQpkAAAAAAAECkQAAAAAAAuqNAAAAAAAD+o0AAAAAAAFykQAAAAAAAyqNAAAAAAADMo0AAAAAAAIajQAAAAAAAPKVAAAAAAAAsqEAAAAAAAOSpQAAAAAAAfqdAAAAAAACCpUAAAAAAAOClQA==",
          "dtype": "f8"
         },
         "yaxis": "y"
        },
        {
         "fillpattern": {
          "shape": ""
         },
         "hovertemplate": "Utbildningsområde=Hälso- och sjukvård samt socialt arbete<br>År=%{x}<br>Antal studerande=%{y}<extra></extra>",
         "legendgroup": "Hälso- och sjukvård samt socialt arbete",
         "line": {
          "color": "#FFA15A"
         },
         "marker": {
          "symbol": "circle"
         },
         "mode": "lines",
         "name": "Hälso- och sjukvård samt socialt arbete",
         "orientation": "v",
         "showlegend": true,
         "stackgroup": "1",
         "type": "scatter",
         "visible": "legendonly",
         "x": {
          "bdata": "1QfWB9cH2AfZB9oH2wfcB90H3gffB+AH4QfiB+MH5AflB+YH5wfoBw==",
          "dtype": "i2"
         },
         "xaxis": "x",
         "y": {
          "bdata": "AAAAAABgp0AAAAAAAL6tQAAAAAAAaLBAAAAAAAB6r0AAAAAAAPavQAAAAAAAkLFAAAAAAAAwskAAAAAAAK2xQAAAAAAAZbNAAAAAAABqtkAAAAAAAIe3QAAAAAAAErhAAAAAAABHukAAAAAAABu9QAAAAACAo8FAAAAAAABMxUAAAAAAAIrHQAAAAAAAKMlAAAAAAIB0yEAAAAAAAEbHQA==",
          "dtype": "f8"
         },
         "yaxis": "y"
        },
        {
         "fillpattern": {
          "shape": ""
         },
         "hovertemplate": "Utbildningsområde=Journalistik och information<br>År=%{x}<br>Antal studerande=%{y}<extra></extra>",
         "legendgroup": "Journalistik och information",
         "line": {
          "color": "#19d3f3"
         },
         "marker": {
          "symbol": "circle"
         },
         "mode": "lines",
         "name": "Journalistik och information",
         "orientation": "v",
         "showlegend": true,
         "stackgroup": "1",
         "type": "scatter",
         "visible": "legendonly",
         "x": {
          "bdata": "1QfWB9cH2AfZB9oH2wfcB90H3gffB+AH4QfiB+MH5AflB+YH5wfoBw==",
          "dtype": "i2"
         },
         "xaxis": "x",
         "y": {
          "bdata": "AAAAAACAXEAAAAAAAEBZQAAAAAAAgFxAAAAAAADgY0AAAAAAAKBqQAAAAAAAAHBAAAAAAACwckAAAAAAAFBxQAAAAAAA0HlAAAAAAABog0AAAAAAAEiEQAAAAAAAmIZAAAAAAAAQiUAAAAAAAAiKQAAAAAAAQIxAAAAAAAA4jkAAAAAAAECNQAAAAAAAuIlAAAAAAACAh0AAAAAAADCEQA==",
          "dtype": "f8"
         },
         "yaxis": "y"
        },
        {
         "fillpattern": {
          "shape": ""
         },
         "hovertemplate": "Utbildningsområde=Juridik<br>År=%{x}<br>Antal studerande=%{y}<extra></extra>",
         "legendgroup": "Juridik",
         "line": {
          "color": "#FF6692"
         },
         "marker": {
          "symbol": "circle"
         },
         "mode": "lines",
         "name": "Juridik",
         "orientation": "v",
         "showlegend": true,
         "stackgroup": "1",
         "type": "scatter",
         "visible": "legendonly",
         "x": {
          "bdata": "1QfWB9cH2AfZB9oH2wfcB90H3gffB+AH4QfiB+MH5AflB+YH5wfoBw==",
          "dtype": "i2"
         },
         "xaxis": "x",
         "y": {
          "bdata": "AAAAAAAA+H8AAAAAAIBOQAAAAAAAgF5AAAAAAACgY0AAAAAAAOBkQAAAAAAAoGVAAAAAAADgZUAAAAAAAEBuQAAAAAAAgHFAAAAAAADAcUAAAAAAAFBzQAAAAAAAAHVAAAAAAADAeUAAAAAAAGB7QAAAAAAAMHxAAAAAAABAfkAAAAAAAIB+QAAAAAAAAHpAAAAAAACgdUAAAAAAAKB1QA==",
          "dtype": "f8"
         },
         "yaxis": "y"
        },
        {
         "fillpattern": {
          "shape": ""
         },
         "hovertemplate": "Utbildningsområde=Kultur, media och design<br>År=%{x}<br>Antal studerande=%{y}<extra></extra>",
         "legendgroup": "Kultur, media och design",
         "line": {
          "color": "#B6E880"
         },
         "marker": {
          "symbol": "circle"
         },
         "mode": "lines",
         "name": "Kultur, media och design",
         "orientation": "v",
         "showlegend": true,
         "stackgroup": "1",
         "type": "scatter",
         "visible": "legendonly",
         "x": {
          "bdata": "1QfWB9cH2AfZB9oH2wfcB90H3gffB+AH4QfiB+MH5AflB+YH5wfoBw==",
          "dtype": "i2"
         },
         "xaxis": "x",
         "y": {
          "bdata": "AAAAAADmpUAAAAAAAPSmQAAAAAAAmqZAAAAAAABip0AAAAAAABCnQAAAAAAAzqVAAAAAAAAOpEAAAAAAAHaiQAAAAAAAmqNAAAAAAACGpEAAAAAAAKKlQAAAAAAApKVAAAAAAABipkAAAAAAALCmQAAAAAAAkKdAAAAAAADQqkAAAAAAAJiuQAAAAAAAf7BAAAAAAABpsUAAAAAAAByyQA==",
          "dtype": "f8"
         },
         "yaxis": "y"
        },
        {
         "fillpattern": {
          "shape": ""
         },
         "hovertemplate": "Utbildningsområde=Lantbruk, djurvård, trädgård, skog och fiske<br>År=%{x}<br>Antal studerande=%{y}<extra></extra>",
         "legendgroup": "Lantbruk, djurvård, trädgård, skog och fiske",
         "line": {
          "color": "#FF97FF"
         },
         "marker": {
          "symbol": "circle"
         },
         "mode": "lines",
         "name": "Lantbruk, djurvård, trädgård, skog och fiske",
         "orientation": "v",
         "showlegend": true,
         "stackgroup": "1",
         "type": "scatter",
         "visible": "legendonly",
         "x": {
          "bdata": "1QfWB9cH2AfZB9oH2wfcB90H3gffB+AH4QfiB+MH5AflB+YH5wfoBw==",
          "dtype": "i2"
         },
         "xaxis": "x",
         "y": {
          "bdata": "AAAAAADAjEAAAAAAAPSUQAAAAAAACJhAAAAAAAB4l0AAAAAAADSYQAAAAAAAoJpAAAAAAADYmUAAAAAAANSWQAAAAAAALJVAAAAAAACMk0AAAAAAAGyUQAAAAAAA/JVAAAAAAACIlkAAAAAAAECVQAAAAAAAIJZAAAAAAAA0mUAAAAAAAEicQAAAAAAAeJ5AAAAAAABWoEAAAAAAAFSiQA==",
          "dtype": "f8"
         },
         "yaxis": "y"
        },
        {
         "fillpattern": {
          "shape": ""
         },
         "hovertemplate": "Utbildningsområde=Pedagogik och undervisning<br>År=%{x}<br>Antal studerande=%{y}<extra></extra>",
         "legendgroup": "Pedagogik och undervisning",
         "line": {
          "color": "#FECB52"
         },
         "marker": {
          "symbol": "circle"
         },
         "mode": "lines",
         "name": "Pedagogik och undervisning",
         "orientation": "v",
         "showlegend": true,
         "stackgroup": "1",
         "type": "scatter",
         "visible": "legendonly",
         "x": {
          "bdata": "1QfWB9cH2AfZB9oH2wfcB90H3gffB+AH4QfiB+MH5AflB+YH5wfoBw==",
          "dtype": "i2"
         },
         "xaxis": "x",
         "y": {
          "bdata": "AAAAAAAAMEAAAAAAAMBZQAAAAAAAQGdAAAAAAACAa0AAAAAAAEBvQAAAAAAA4HxAAAAAAACghEAAAAAAAGB8QAAAAAAAgHpAAAAAAABQfkAAAAAAAGB6QAAAAAAAsIBAAAAAAABwhEAAAAAAAOiKQAAAAAAAJJRAAAAAAADgl0AAAAAAADicQAAAAAAA4J5AAAAAAACYl0AAAAAAAByRQA==",
          "dtype": "f8"
         },
         "yaxis": "y"
        },
        {
         "fillpattern": {
          "shape": ""
         },
         "hovertemplate": "Utbildningsområde=Samhällsbyggnad och byggteknik<br>År=%{x}<br>Antal studerande=%{y}<extra></extra>",
         "legendgroup": "Samhällsbyggnad och byggteknik",
         "line": {
          "color": "#636efa"
         },
         "marker": {
          "symbol": "circle"
         },
         "mode": "lines",
         "name": "Samhällsbyggnad och byggteknik",
         "orientation": "v",
         "showlegend": true,
         "stackgroup": "1",
         "type": "scatter",
         "visible": "legendonly",
         "x": {
          "bdata": "1QfWB9cH2AfZB9oH2wfcB90H3gffB+AH4QfiB+MH5AflB+YH5wfoBw==",
          "dtype": "i2"
         },
         "xaxis": "x",
         "y": {
          "bdata": "AAAAAAD4lUAAAAAAAGyeQAAAAAAAqKJAAAAAAACipEAAAAAAAN6oQAAAAAAAqKtAAAAAAACcrkAAAAAAAAuxQAAAAAAAh7JAAAAAAABps0AAAAAAAIi1QAAAAAAAsrdAAAAAAACvukAAAAAAAG69QAAAAACAncFAAAAAAICNxkAAAAAAAOTIQAAAAAAAd8lAAAAAAICIyEAAAAAAgKTJQA==",
          "dtype": "f8"
         },
         "yaxis": "y"
        },
        {
         "fillpattern": {
          "shape": ""
         },
         "hovertemplate": "Utbildningsområde=Säkerhetstjänster<br>År=%{x}<br>Antal studerande=%{y}<extra></extra>",
         "legendgroup": "Säkerhetstjänster",
         "line": {
          "color": "#EF553B"
         },
         "marker": {
          "symbol": "circle"
         },
         "mode": "lines",
         "name": "Säkerhetstjänster",
         "orientation": "v",
         "showlegend": true,
         "stackgroup": "1",
         "type": "scatter",
         "visible": "legendonly",
         "x": {
          "bdata": "1QfWB9cH2AfZB9oH2wfcB90H3gffB+AH4QfiB+MH5AflB+YH5wfoBw==",
          "dtype": "i2"
         },
         "xaxis": "x",
         "y": {
          "bdata": "AAAAAACwcEAAAAAAAJB6QAAAAAAAqIFAAAAAAACQg0AAAAAAAKiDQAAAAAAAAIFAAAAAAACwfEAAAAAAACB3QAAAAAAAAHVAAAAAAADgdUAAAAAAAKB3QAAAAAAAcHdAAAAAAAAwcUAAAAAAAMBxQAAAAAAAgHlAAAAAAAAYgkAAAAAAAJCCQAAAAAAA2IdAAAAAAAAIikAAAAAAAPCJQA==",
          "dtype": "f8"
         },
         "yaxis": "y"
        },
        {
         "fillpattern": {
          "shape": ""
         },
         "hovertemplate": "Utbildningsområde=Teknik och tillverkning<br>År=%{x}<br>Antal studerande=%{y}<extra></extra>",
         "legendgroup": "Teknik och tillverkning",
         "line": {
          "color": "#00cc96"
         },
         "marker": {
          "symbol": "circle"
         },
         "mode": "lines",
         "name": "Teknik och tillverkning",
         "orientation": "v",
         "showlegend": true,
         "stackgroup": "1",
         "type": "scatter",
         "visible": "legendonly",
         "x": {
          "bdata": "1QfWB9cH2AfZB9oH2wfcB90H3gffB+AH4QfiB+MH5AflB+YH5wfoBw==",
          "dtype": "i2"
         },
         "xaxis": "x",
         "y": {
          "bdata": "AAAAAACgrkAAAAAAANawQAAAAAAAQLNAAAAAAAC7tUAAAAAAAG+5QAAAAAAA5rtAAAAAAACmvEAAAAAAAEu6QAAAAAAAfLtAAAAAAACgvEAAAAAAANu8QAAAAAAAW7xAAAAAAACSu0AAAAAAALe6QAAAAAAAU75AAAAAAIBlw0AAAAAAgAfGQAAAAACAFsZAAAAAAIDexkAAAAAAANXJQA==",
          "dtype": "f8"
         },
         "yaxis": "y"
        },
        {
         "fillpattern": {
          "shape": ""
         },
         "hovertemplate": "Utbildningsområde=Transporttjänster<br>År=%{x}<br>Antal studerande=%{y}<extra></extra>",
         "legendgroup": "Transporttjänster",
         "line": {
          "color": "#ab63fa"
         },
         "marker": {
          "symbol": "circle"
         },
         "mode": "lines",
         "name": "Transporttjänster",
         "orientation": "v",
         "showlegend": true,
         "stackgroup": "1",
         "type": "scatter",
         "visible": "legendonly",
         "x": {
          "bdata": "1QfWB9cH2AfZB9oH2wfcB90H3gffB+AH4QfiB+MH5AflB+YH5wfoBw==",
          "dtype": "i2"
         },
         "xaxis": "x",
         "y": {
          "bdata": "AAAAAACwiUAAAAAAAECRQAAAAAAANJVAAAAAAADYmEAAAAAAAICaQAAAAAAADJ1AAAAAAADUnEAAAAAAADyXQAAAAAAAcJFAAAAAAABojUAAAAAAAJiSQAAAAAAAIJhAAAAAAADonEAAAAAAAFSbQAAAAAAAJJpAAAAAAAB0m0AAAAAAAJSYQAAAAAAASJdAAAAAAABImUAAAAAAAGyaQA==",
          "dtype": "f8"
         },
         "yaxis": "y"
        }
       ],
       "layout": {
        "legend": {
         "title": {
          "text": "Utbildningsområde"
         },
         "tracegroupgap": 0
        },
        "template": {
         "data": {
          "bar": [
           {
            "error_x": {
             "color": "#2a3f5f"
            },
            "error_y": {
             "color": "#2a3f5f"
            },
            "marker": {
             "line": {
              "color": "white",
              "width": 0.5
             },
             "pattern": {
              "fillmode": "overlay",
              "size": 10,
              "solidity": 0.2
             }
            },
            "type": "bar"
           }
          ],
          "barpolar": [
           {
            "marker": {
             "line": {
              "color": "white",
              "width": 0.5
             },
             "pattern": {
              "fillmode": "overlay",
              "size": 10,
              "solidity": 0.2
             }
            },
            "type": "barpolar"
           }
          ],
          "carpet": [
           {
            "aaxis": {
             "endlinecolor": "#2a3f5f",
             "gridcolor": "#C8D4E3",
             "linecolor": "#C8D4E3",
             "minorgridcolor": "#C8D4E3",
             "startlinecolor": "#2a3f5f"
            },
            "baxis": {
             "endlinecolor": "#2a3f5f",
             "gridcolor": "#C8D4E3",
             "linecolor": "#C8D4E3",
             "minorgridcolor": "#C8D4E3",
             "startlinecolor": "#2a3f5f"
            },
            "type": "carpet"
           }
          ],
          "choropleth": [
           {
            "colorbar": {
             "outlinewidth": 0,
             "ticks": ""
            },
            "type": "choropleth"
           }
          ],
          "contour": [
           {
            "colorbar": {
             "outlinewidth": 0,
             "ticks": ""
            },
            "colorscale": [
             [
              0,
              "#0d0887"
             ],
             [
              0.1111111111111111,
              "#46039f"
             ],
             [
              0.2222222222222222,
              "#7201a8"
             ],
             [
              0.3333333333333333,
              "#9c179e"
             ],
             [
              0.4444444444444444,
              "#bd3786"
             ],
             [
              0.5555555555555556,
              "#d8576b"
             ],
             [
              0.6666666666666666,
              "#ed7953"
             ],
             [
              0.7777777777777778,
              "#fb9f3a"
             ],
             [
              0.8888888888888888,
              "#fdca26"
             ],
             [
              1,
              "#f0f921"
             ]
            ],
            "type": "contour"
           }
          ],
          "contourcarpet": [
           {
            "colorbar": {
             "outlinewidth": 0,
             "ticks": ""
            },
            "type": "contourcarpet"
           }
          ],
          "heatmap": [
           {
            "colorbar": {
             "outlinewidth": 0,
             "ticks": ""
            },
            "colorscale": [
             [
              0,
              "#0d0887"
             ],
             [
              0.1111111111111111,
              "#46039f"
             ],
             [
              0.2222222222222222,
              "#7201a8"
             ],
             [
              0.3333333333333333,
              "#9c179e"
             ],
             [
              0.4444444444444444,
              "#bd3786"
             ],
             [
              0.5555555555555556,
              "#d8576b"
             ],
             [
              0.6666666666666666,
              "#ed7953"
             ],
             [
              0.7777777777777778,
              "#fb9f3a"
             ],
             [
              0.8888888888888888,
              "#fdca26"
             ],
             [
              1,
              "#f0f921"
             ]
            ],
            "type": "heatmap"
           }
          ],
          "histogram": [
           {
            "marker": {
             "pattern": {
              "fillmode": "overlay",
              "size": 10,
              "solidity": 0.2
             }
            },
            "type": "histogram"
           }
          ],
          "histogram2d": [
           {
            "colorbar": {
             "outlinewidth": 0,
             "ticks": ""
            },
            "colorscale": [
             [
              0,
              "#0d0887"
             ],
             [
              0.1111111111111111,
              "#46039f"
             ],
             [
              0.2222222222222222,
              "#7201a8"
             ],
             [
              0.3333333333333333,
              "#9c179e"
             ],
             [
              0.4444444444444444,
              "#bd3786"
             ],
             [
              0.5555555555555556,
              "#d8576b"
             ],
             [
              0.6666666666666666,
              "#ed7953"
             ],
             [
              0.7777777777777778,
              "#fb9f3a"
             ],
             [
              0.8888888888888888,
              "#fdca26"
             ],
             [
              1,
              "#f0f921"
             ]
            ],
            "type": "histogram2d"
           }
          ],
          "histogram2dcontour": [
           {
            "colorbar": {
             "outlinewidth": 0,
             "ticks": ""
            },
            "colorscale": [
             [
              0,
              "#0d0887"
             ],
             [
              0.1111111111111111,
              "#46039f"
             ],
             [
              0.2222222222222222,
              "#7201a8"
             ],
             [
              0.3333333333333333,
              "#9c179e"
             ],
             [
              0.4444444444444444,
              "#bd3786"
             ],
             [
              0.5555555555555556,
              "#d8576b"
             ],
             [
              0.6666666666666666,
              "#ed7953"
             ],
             [
              0.7777777777777778,
              "#fb9f3a"
             ],
             [
              0.8888888888888888,
              "#fdca26"
             ],
             [
              1,
              "#f0f921"
             ]
            ],
            "type": "histogram2dcontour"
           }
          ],
          "mesh3d": [
           {
            "colorbar": {
             "outlinewidth": 0,
             "ticks": ""
            },
            "type": "mesh3d"
           }
          ],
          "parcoords": [
           {
            "line": {
             "colorbar": {
              "outlinewidth": 0,
              "ticks": ""
             }
            },
            "type": "parcoords"
           }
          ],
          "pie": [
           {
            "automargin": true,
            "type": "pie"
           }
          ],
          "scatter": [
           {
            "fillpattern": {
             "fillmode": "overlay",
             "size": 10,
             "solidity": 0.2
            },
            "type": "scatter"
           }
          ],
          "scatter3d": [
           {
            "line": {
             "colorbar": {
              "outlinewidth": 0,
              "ticks": ""
             }
            },
            "marker": {
             "colorbar": {
              "outlinewidth": 0,
              "ticks": ""
             }
            },
            "type": "scatter3d"
           }
          ],
          "scattercarpet": [
           {
            "marker": {
             "colorbar": {
              "outlinewidth": 0,
              "ticks": ""
             }
            },
            "type": "scattercarpet"
           }
          ],
          "scattergeo": [
           {
            "marker": {
             "colorbar": {
              "outlinewidth": 0,
              "ticks": ""
             }
            },
            "type": "scattergeo"
           }
          ],
          "scattergl": [
           {
            "marker": {
             "colorbar": {
              "outlinewidth": 0,
              "ticks": ""
             }
            },
            "type": "scattergl"
           }
          ],
          "scattermap": [
           {
            "marker": {
             "colorbar": {
              "outlinewidth": 0,
              "ticks": ""
             }
            },
            "type": "scattermap"
           }
          ],
          "scattermapbox": [
           {
            "marker": {
             "colorbar": {
              "outlinewidth": 0,
              "ticks": ""
             }
            },
            "type": "scattermapbox"
           }
          ],
          "scatterpolar": [
           {
            "marker": {
             "colorbar": {
              "outlinewidth": 0,
              "ticks": ""
             }
            },
            "type": "scatterpolar"
           }
          ],
          "scatterpolargl": [
           {
            "marker": {
             "colorbar": {
              "outlinewidth": 0,
              "ticks": ""
             }
            },
            "type": "scatterpolargl"
           }
          ],
          "scatterternary": [
           {
            "marker": {
             "colorbar": {
              "outlinewidth": 0,
              "ticks": ""
             }
            },
            "type": "scatterternary"
           }
          ],
          "surface": [
           {
            "colorbar": {
             "outlinewidth": 0,
             "ticks": ""
            },
            "colorscale": [
             [
              0,
              "#0d0887"
             ],
             [
              0.1111111111111111,
              "#46039f"
             ],
             [
              0.2222222222222222,
              "#7201a8"
             ],
             [
              0.3333333333333333,
              "#9c179e"
             ],
             [
              0.4444444444444444,
              "#bd3786"
             ],
             [
              0.5555555555555556,
              "#d8576b"
             ],
             [
              0.6666666666666666,
              "#ed7953"
             ],
             [
              0.7777777777777778,
              "#fb9f3a"
             ],
             [
              0.8888888888888888,
              "#fdca26"
             ],
             [
              1,
              "#f0f921"
             ]
            ],
            "type": "surface"
           }
          ],
          "table": [
           {
            "cells": {
             "fill": {
              "color": "#EBF0F8"
             },
             "line": {
              "color": "white"
             }
            },
            "header": {
             "fill": {
              "color": "#C8D4E3"
             },
             "line": {
              "color": "white"
             }
            },
            "type": "table"
           }
          ]
         },
         "layout": {
          "annotationdefaults": {
           "arrowcolor": "#2a3f5f",
           "arrowhead": 0,
           "arrowwidth": 1
          },
          "autotypenumbers": "strict",
          "coloraxis": {
           "colorbar": {
            "outlinewidth": 0,
            "ticks": ""
           }
          },
          "colorscale": {
           "diverging": [
            [
             0,
             "#8e0152"
            ],
            [
             0.1,
             "#c51b7d"
            ],
            [
             0.2,
             "#de77ae"
            ],
            [
             0.3,
             "#f1b6da"
            ],
            [
             0.4,
             "#fde0ef"
            ],
            [
             0.5,
             "#f7f7f7"
            ],
            [
             0.6,
             "#e6f5d0"
            ],
            [
             0.7,
             "#b8e186"
            ],
            [
             0.8,
             "#7fbc41"
            ],
            [
             0.9,
             "#4d9221"
            ],
            [
             1,
             "#276419"
            ]
           ],
           "sequential": [
            [
             0,
             "#0d0887"
            ],
            [
             0.1111111111111111,
             "#46039f"
            ],
            [
             0.2222222222222222,
             "#7201a8"
            ],
            [
             0.3333333333333333,
             "#9c179e"
            ],
            [
             0.4444444444444444,
             "#bd3786"
            ],
            [
             0.5555555555555556,
             "#d8576b"
            ],
            [
             0.6666666666666666,
             "#ed7953"
            ],
            [
             0.7777777777777778,
             "#fb9f3a"
            ],
            [
             0.8888888888888888,
             "#fdca26"
            ],
            [
             1,
             "#f0f921"
            ]
           ],
           "sequentialminus": [
            [
             0,
             "#0d0887"
            ],
            [
             0.1111111111111111,
             "#46039f"
            ],
            [
             0.2222222222222222,
             "#7201a8"
            ],
            [
             0.3333333333333333,
             "#9c179e"
            ],
            [
             0.4444444444444444,
             "#bd3786"
            ],
            [
             0.5555555555555556,
             "#d8576b"
            ],
            [
             0.6666666666666666,
             "#ed7953"
            ],
            [
             0.7777777777777778,
             "#fb9f3a"
            ],
            [
             0.8888888888888888,
             "#fdca26"
            ],
            [
             1,
             "#f0f921"
            ]
           ]
          },
          "colorway": [
           "#636efa",
           "#EF553B",
           "#00cc96",
           "#ab63fa",
           "#FFA15A",
           "#19d3f3",
           "#FF6692",
           "#B6E880",
           "#FF97FF",
           "#FECB52"
          ],
          "font": {
           "color": "#2a3f5f"
          },
          "geo": {
           "bgcolor": "white",
           "lakecolor": "white",
           "landcolor": "white",
           "showlakes": true,
           "showland": true,
           "subunitcolor": "#C8D4E3"
          },
          "hoverlabel": {
           "align": "left"
          },
          "hovermode": "closest",
          "mapbox": {
           "style": "light"
          },
          "paper_bgcolor": "white",
          "plot_bgcolor": "white",
          "polar": {
           "angularaxis": {
            "gridcolor": "#EBF0F8",
            "linecolor": "#EBF0F8",
            "ticks": ""
           },
           "bgcolor": "white",
           "radialaxis": {
            "gridcolor": "#EBF0F8",
            "linecolor": "#EBF0F8",
            "ticks": ""
           }
          },
          "scene": {
           "xaxis": {
            "backgroundcolor": "white",
            "gridcolor": "#DFE8F3",
            "gridwidth": 2,
            "linecolor": "#EBF0F8",
            "showbackground": true,
            "ticks": "",
            "zerolinecolor": "#EBF0F8"
           },
           "yaxis": {
            "backgroundcolor": "white",
            "gridcolor": "#DFE8F3",
            "gridwidth": 2,
            "linecolor": "#EBF0F8",
            "showbackground": true,
            "ticks": "",
            "zerolinecolor": "#EBF0F8"
           },
           "zaxis": {
            "backgroundcolor": "white",
            "gridcolor": "#DFE8F3",
            "gridwidth": 2,
            "linecolor": "#EBF0F8",
            "showbackground": true,
            "ticks": "",
            "zerolinecolor": "#EBF0F8"
           }
          },
          "shapedefaults": {
           "line": {
            "color": "#2a3f5f"
           }
          },
          "ternary": {
           "aaxis": {
            "gridcolor": "#DFE8F3",
            "linecolor": "#A2B1C6",
            "ticks": ""
           },
           "baxis": {
            "gridcolor": "#DFE8F3",
            "linecolor": "#A2B1C6",
            "ticks": ""
           },
           "bgcolor": "white",
           "caxis": {
            "gridcolor": "#DFE8F3",
            "linecolor": "#A2B1C6",
            "ticks": ""
           }
          },
          "title": {
           "x": 0.05
          },
          "xaxis": {
           "automargin": true,
           "gridcolor": "#EBF0F8",
           "linecolor": "#EBF0F8",
           "ticks": "",
           "title": {
            "standoff": 15
           },
           "zerolinecolor": "#EBF0F8",
           "zerolinewidth": 2
          },
          "yaxis": {
           "automargin": true,
           "gridcolor": "#EBF0F8",
           "linecolor": "#EBF0F8",
           "ticks": "",
           "title": {
            "standoff": 15
           },
           "zerolinecolor": "#EBF0F8",
           "zerolinewidth": 2
          }
         }
        },
        "title": {
         "text": "Antalet studerande i YH inom olika utbildningsområden (2012–2024)"
        },
        "xaxis": {
         "anchor": "y",
         "domain": [
          0,
          1
         ],
         "linecolor": "grey",
         "showgrid": false,
         "showline": true,
         "ticks": "outside",
         "title": {
          "text": "År"
         }
        },
        "yaxis": {
         "anchor": "x",
         "domain": [
          0,
          1
         ],
         "linecolor": "grey",
         "showgrid": false,
         "showline": true,
         "ticks": "outside",
         "title": {
          "text": "Antal studerande"
         }
        }
       }
      }
     },
     "metadata": {},
     "output_type": "display_data"
    }
   ],
   "source": [
    "import pandas as pd\n",
    "import plotly.express as px\n",
    "\n",
    "# Load the data\n",
    "df = pd.read_excel(\"data/Antalet studerande i YH inom olika utbildningsområden 2012-2024.xlsx\")\n",
    "\n",
    "# Drop unwanted columns\n",
    "columns_to_exclude = ['Totalt', 'Övrigt']\n",
    "df = df.drop(columns=[col for col in columns_to_exclude if col in df.columns])\n",
    "\n",
    "# Melt the data\n",
    "df_long = df.melt(id_vars='År', var_name='Utbildningsområde', value_name='Antal studerande')\n",
    "\n",
    "# Create area chart\n",
    "fig = px.area(\n",
    "    df_long,\n",
    "    x='År',\n",
    "    y='Antal studerande',\n",
    "    color='Utbildningsområde',\n",
    "    title='Antalet studerande i YH inom olika utbildningsområden (2012–2024)',\n",
    "    labels={'År': 'År', 'Antal studerande': 'Antal studerande'},\n",
    "    template='plotly_white'\n",
    ")\n",
    "\n",
    "# Hide all traces except \"Data/It\"\n",
    "for trace in fig.data:\n",
    "    if trace.name != \"Data/It\":\n",
    "        trace.visible = \"legendonly\"\n",
    "\n",
    "# Remove gridlines and ensure ticks are visible\n",
    "fig.update_xaxes(showgrid=False, ticks=\"outside\")\n",
    "fig.update_yaxes(showgrid=False, ticks=\"outside\")\n",
    "fig.update_xaxes(showline=True, linecolor='grey')\n",
    "fig.update_yaxes(showline=True, linecolor='grey' )\n",
    "\n",
    "fig.update_layout(legend_title_text='Utbildningsområde')\n",
    "\n",
    "\n",
    "fig.show()\n"
   ]
  },
  {
   "cell_type": "code",
   "execution_count": 98,
   "id": "f9bfb364",
   "metadata": {},
   "outputs": [
    {
     "data": {
      "application/vnd.plotly.v1+json": {
       "config": {
        "plotlyServerURL": "https://plot.ly"
       },
       "data": [
        {
         "fillpattern": {
          "shape": ""
         },
         "hovertemplate": "Utbildningsområde=Data/It<br>År=%{x}<br>Antal studerande=%{y}<extra></extra>",
         "legendgroup": "Data/It",
         "line": {
          "color": "#636efa"
         },
         "marker": {
          "symbol": "circle"
         },
         "mode": "lines",
         "name": "Data/It",
         "orientation": "v",
         "showlegend": true,
         "stackgroup": "1",
         "type": "scatter",
         "x": {
          "bdata": "1QfWB9cH2AfZB9oH2wfcB90H3gffB+AH4QfiB+MH5AflB+YH5wfoBw==",
          "dtype": "i2"
         },
         "xaxis": "x",
         "y": {
          "bdata": "AAAAAAA2pEAAAAAAAOSjQAAAAAAA2qVAAAAAAAACpkAAAAAAAFKmQAAAAAAArqZAAAAAAACwqEAAAAAAAIyqQAAAAAAArK9AAAAAAABJs0AAAAAAALS2QAAAAAAAJ7hAAAAAAABCuEAAAAAAAEi2QAAAAAAArrtAAAAAAIAVxEAAAAAAABrJQAAAAACA18tAAAAAAACdzUAAAAAAwA/QQA==",
          "dtype": "f8"
         },
         "yaxis": "y"
        },
        {
         "fillpattern": {
          "shape": ""
         },
         "hovertemplate": "Utbildningsområde=Ekonomi, administration och försäljning<br>År=%{x}<br>Antal studerande=%{y}<extra></extra>",
         "legendgroup": "Ekonomi, administration och försäljning",
         "line": {
          "color": "#EF553B"
         },
         "marker": {
          "symbol": "circle"
         },
         "mode": "lines",
         "name": "Ekonomi, administration och försäljning",
         "orientation": "v",
         "showlegend": true,
         "stackgroup": "1",
         "type": "scatter",
         "visible": "legendonly",
         "x": {
          "bdata": "1QfWB9cH2AfZB9oH2wfcB90H3gffB+AH4QfiB+MH5AflB+YH5wfoBw==",
          "dtype": "i2"
         },
         "xaxis": "x",
         "y": {
          "bdata": "AAAAAABeuEAAAAAAAJ69QAAAAACAM8FAAAAAAAAMxEAAAAAAAAvGQAAAAACAQMdAAAAAAIDJx0AAAAAAAFXHQAAAAACA7sdAAAAAAIDyx0AAAAAAAMvGQAAAAACAhMZAAAAAAIDQx0AAAAAAgPLKQAAAAAAAPc9AAAAAAMAO0kAAAAAAABvSQAAAAACAZtFAAAAAAIDy0EAAAAAAAPnQQA==",
          "dtype": "f8"
         },
         "yaxis": "y"
        },
        {
         "fillpattern": {
          "shape": ""
         },
         "hovertemplate": "Utbildningsområde=Friskvård och kroppsvård<br>År=%{x}<br>Antal studerande=%{y}<extra></extra>",
         "legendgroup": "Friskvård och kroppsvård",
         "line": {
          "color": "#00cc96"
         },
         "marker": {
          "symbol": "circle"
         },
         "mode": "lines",
         "name": "Friskvård och kroppsvård",
         "orientation": "v",
         "showlegend": true,
         "stackgroup": "1",
         "type": "scatter",
         "visible": "legendonly",
         "x": {
          "bdata": "1QfWB9cH2AfZB9oH2wfcB90H3gffB+AH4QfiB+MH5AflB+YH5wfoBw==",
          "dtype": "i2"
         },
         "xaxis": "x",
         "y": {
          "bdata": "AAAAAAAQfkAAAAAAABCHQAAAAAAAmItAAAAAAAAIj0AAAAAAAIiPQAAAAAAAyIpAAAAAAAB4gkAAAAAAADB3QAAAAAAAsHZAAAAAAACgdEAAAAAAAAB2QAAAAAAA8HJAAAAAAADAbUAAAAAAAOBsQAAAAAAA4HJAAAAAAADwdEAAAAAAAEB3QAAAAAAAgHlAAAAAAADAfEAAAAAAAOB2QA==",
          "dtype": "f8"
         },
         "yaxis": "y"
        },
        {
         "fillpattern": {
          "shape": ""
         },
         "hovertemplate": "Utbildningsområde=Hotell, restaurang och turism<br>År=%{x}<br>Antal studerande=%{y}<extra></extra>",
         "legendgroup": "Hotell, restaurang och turism",
         "line": {
          "color": "#ab63fa"
         },
         "marker": {
          "symbol": "circle"
         },
         "mode": "lines",
         "name": "Hotell, restaurang och turism",
         "orientation": "v",
         "showlegend": true,
         "stackgroup": "1",
         "type": "scatter",
         "visible": "legendonly",
         "x": {
          "bdata": "1QfWB9cH2AfZB9oH2wfcB90H3gffB+AH4QfiB+MH5AflB+YH5wfoBw==",
          "dtype": "i2"
         },
         "xaxis": "x",
         "y": {
          "bdata": "AAAAAABeoUAAAAAAAPKjQAAAAAAAtKZAAAAAAAAEqEAAAAAAACqnQAAAAAAAsqZAAAAAAACQpkAAAAAAAECkQAAAAAAAuqNAAAAAAAD+o0AAAAAAAFykQAAAAAAAyqNAAAAAAADMo0AAAAAAAIajQAAAAAAAPKVAAAAAAAAsqEAAAAAAAOSpQAAAAAAAfqdAAAAAAACCpUAAAAAAAOClQA==",
          "dtype": "f8"
         },
         "yaxis": "y"
        },
        {
         "fillpattern": {
          "shape": ""
         },
         "hovertemplate": "Utbildningsområde=Hälso- och sjukvård samt socialt arbete<br>År=%{x}<br>Antal studerande=%{y}<extra></extra>",
         "legendgroup": "Hälso- och sjukvård samt socialt arbete",
         "line": {
          "color": "#FFA15A"
         },
         "marker": {
          "symbol": "circle"
         },
         "mode": "lines",
         "name": "Hälso- och sjukvård samt socialt arbete",
         "orientation": "v",
         "showlegend": true,
         "stackgroup": "1",
         "type": "scatter",
         "visible": "legendonly",
         "x": {
          "bdata": "1QfWB9cH2AfZB9oH2wfcB90H3gffB+AH4QfiB+MH5AflB+YH5wfoBw==",
          "dtype": "i2"
         },
         "xaxis": "x",
         "y": {
          "bdata": "AAAAAABgp0AAAAAAAL6tQAAAAAAAaLBAAAAAAAB6r0AAAAAAAPavQAAAAAAAkLFAAAAAAAAwskAAAAAAAK2xQAAAAAAAZbNAAAAAAABqtkAAAAAAAIe3QAAAAAAAErhAAAAAAABHukAAAAAAABu9QAAAAACAo8FAAAAAAABMxUAAAAAAAIrHQAAAAAAAKMlAAAAAAIB0yEAAAAAAAEbHQA==",
          "dtype": "f8"
         },
         "yaxis": "y"
        },
        {
         "fillpattern": {
          "shape": ""
         },
         "hovertemplate": "Utbildningsområde=Journalistik och information<br>År=%{x}<br>Antal studerande=%{y}<extra></extra>",
         "legendgroup": "Journalistik och information",
         "line": {
          "color": "#19d3f3"
         },
         "marker": {
          "symbol": "circle"
         },
         "mode": "lines",
         "name": "Journalistik och information",
         "orientation": "v",
         "showlegend": true,
         "stackgroup": "1",
         "type": "scatter",
         "visible": "legendonly",
         "x": {
          "bdata": "1QfWB9cH2AfZB9oH2wfcB90H3gffB+AH4QfiB+MH5AflB+YH5wfoBw==",
          "dtype": "i2"
         },
         "xaxis": "x",
         "y": {
          "bdata": "AAAAAACAXEAAAAAAAEBZQAAAAAAAgFxAAAAAAADgY0AAAAAAAKBqQAAAAAAAAHBAAAAAAACwckAAAAAAAFBxQAAAAAAA0HlAAAAAAABog0AAAAAAAEiEQAAAAAAAmIZAAAAAAAAQiUAAAAAAAAiKQAAAAAAAQIxAAAAAAAA4jkAAAAAAAECNQAAAAAAAuIlAAAAAAACAh0AAAAAAADCEQA==",
          "dtype": "f8"
         },
         "yaxis": "y"
        },
        {
         "fillpattern": {
          "shape": ""
         },
         "hovertemplate": "Utbildningsområde=Juridik<br>År=%{x}<br>Antal studerande=%{y}<extra></extra>",
         "legendgroup": "Juridik",
         "line": {
          "color": "#FF6692"
         },
         "marker": {
          "symbol": "circle"
         },
         "mode": "lines",
         "name": "Juridik",
         "orientation": "v",
         "showlegend": true,
         "stackgroup": "1",
         "type": "scatter",
         "visible": "legendonly",
         "x": {
          "bdata": "1QfWB9cH2AfZB9oH2wfcB90H3gffB+AH4QfiB+MH5AflB+YH5wfoBw==",
          "dtype": "i2"
         },
         "xaxis": "x",
         "y": {
          "bdata": "AAAAAAAA+H8AAAAAAIBOQAAAAAAAgF5AAAAAAACgY0AAAAAAAOBkQAAAAAAAoGVAAAAAAADgZUAAAAAAAEBuQAAAAAAAgHFAAAAAAADAcUAAAAAAAFBzQAAAAAAAAHVAAAAAAADAeUAAAAAAAGB7QAAAAAAAMHxAAAAAAABAfkAAAAAAAIB+QAAAAAAAAHpAAAAAAACgdUAAAAAAAKB1QA==",
          "dtype": "f8"
         },
         "yaxis": "y"
        },
        {
         "fillpattern": {
          "shape": ""
         },
         "hovertemplate": "Utbildningsområde=Kultur, media och design<br>År=%{x}<br>Antal studerande=%{y}<extra></extra>",
         "legendgroup": "Kultur, media och design",
         "line": {
          "color": "#B6E880"
         },
         "marker": {
          "symbol": "circle"
         },
         "mode": "lines",
         "name": "Kultur, media och design",
         "orientation": "v",
         "showlegend": true,
         "stackgroup": "1",
         "type": "scatter",
         "visible": "legendonly",
         "x": {
          "bdata": "1QfWB9cH2AfZB9oH2wfcB90H3gffB+AH4QfiB+MH5AflB+YH5wfoBw==",
          "dtype": "i2"
         },
         "xaxis": "x",
         "y": {
          "bdata": "AAAAAADmpUAAAAAAAPSmQAAAAAAAmqZAAAAAAABip0AAAAAAABCnQAAAAAAAzqVAAAAAAAAOpEAAAAAAAHaiQAAAAAAAmqNAAAAAAACGpEAAAAAAAKKlQAAAAAAApKVAAAAAAABipkAAAAAAALCmQAAAAAAAkKdAAAAAAADQqkAAAAAAAJiuQAAAAAAAf7BAAAAAAABpsUAAAAAAAByyQA==",
          "dtype": "f8"
         },
         "yaxis": "y"
        },
        {
         "fillpattern": {
          "shape": ""
         },
         "hovertemplate": "Utbildningsområde=Lantbruk, djurvård, trädgård, skog och fiske<br>År=%{x}<br>Antal studerande=%{y}<extra></extra>",
         "legendgroup": "Lantbruk, djurvård, trädgård, skog och fiske",
         "line": {
          "color": "#FF97FF"
         },
         "marker": {
          "symbol": "circle"
         },
         "mode": "lines",
         "name": "Lantbruk, djurvård, trädgård, skog och fiske",
         "orientation": "v",
         "showlegend": true,
         "stackgroup": "1",
         "type": "scatter",
         "visible": "legendonly",
         "x": {
          "bdata": "1QfWB9cH2AfZB9oH2wfcB90H3gffB+AH4QfiB+MH5AflB+YH5wfoBw==",
          "dtype": "i2"
         },
         "xaxis": "x",
         "y": {
          "bdata": "AAAAAADAjEAAAAAAAPSUQAAAAAAACJhAAAAAAAB4l0AAAAAAADSYQAAAAAAAoJpAAAAAAADYmUAAAAAAANSWQAAAAAAALJVAAAAAAACMk0AAAAAAAGyUQAAAAAAA/JVAAAAAAACIlkAAAAAAAECVQAAAAAAAIJZAAAAAAAA0mUAAAAAAAEicQAAAAAAAeJ5AAAAAAABWoEAAAAAAAFSiQA==",
          "dtype": "f8"
         },
         "yaxis": "y"
        },
        {
         "fillpattern": {
          "shape": ""
         },
         "hovertemplate": "Utbildningsområde=Pedagogik och undervisning<br>År=%{x}<br>Antal studerande=%{y}<extra></extra>",
         "legendgroup": "Pedagogik och undervisning",
         "line": {
          "color": "#FECB52"
         },
         "marker": {
          "symbol": "circle"
         },
         "mode": "lines",
         "name": "Pedagogik och undervisning",
         "orientation": "v",
         "showlegend": true,
         "stackgroup": "1",
         "type": "scatter",
         "visible": "legendonly",
         "x": {
          "bdata": "1QfWB9cH2AfZB9oH2wfcB90H3gffB+AH4QfiB+MH5AflB+YH5wfoBw==",
          "dtype": "i2"
         },
         "xaxis": "x",
         "y": {
          "bdata": "AAAAAAAAMEAAAAAAAMBZQAAAAAAAQGdAAAAAAACAa0AAAAAAAEBvQAAAAAAA4HxAAAAAAACghEAAAAAAAGB8QAAAAAAAgHpAAAAAAABQfkAAAAAAAGB6QAAAAAAAsIBAAAAAAABwhEAAAAAAAOiKQAAAAAAAJJRAAAAAAADgl0AAAAAAADicQAAAAAAA4J5AAAAAAACYl0AAAAAAAByRQA==",
          "dtype": "f8"
         },
         "yaxis": "y"
        },
        {
         "fillpattern": {
          "shape": ""
         },
         "hovertemplate": "Utbildningsområde=Samhällsbyggnad och byggteknik<br>År=%{x}<br>Antal studerande=%{y}<extra></extra>",
         "legendgroup": "Samhällsbyggnad och byggteknik",
         "line": {
          "color": "#636efa"
         },
         "marker": {
          "symbol": "circle"
         },
         "mode": "lines",
         "name": "Samhällsbyggnad och byggteknik",
         "orientation": "v",
         "showlegend": true,
         "stackgroup": "1",
         "type": "scatter",
         "visible": "legendonly",
         "x": {
          "bdata": "1QfWB9cH2AfZB9oH2wfcB90H3gffB+AH4QfiB+MH5AflB+YH5wfoBw==",
          "dtype": "i2"
         },
         "xaxis": "x",
         "y": {
          "bdata": "AAAAAAD4lUAAAAAAAGyeQAAAAAAAqKJAAAAAAACipEAAAAAAAN6oQAAAAAAAqKtAAAAAAACcrkAAAAAAAAuxQAAAAAAAh7JAAAAAAABps0AAAAAAAIi1QAAAAAAAsrdAAAAAAACvukAAAAAAAG69QAAAAACAncFAAAAAAICNxkAAAAAAAOTIQAAAAAAAd8lAAAAAAICIyEAAAAAAgKTJQA==",
          "dtype": "f8"
         },
         "yaxis": "y"
        },
        {
         "fillpattern": {
          "shape": ""
         },
         "hovertemplate": "Utbildningsområde=Säkerhetstjänster<br>År=%{x}<br>Antal studerande=%{y}<extra></extra>",
         "legendgroup": "Säkerhetstjänster",
         "line": {
          "color": "#EF553B"
         },
         "marker": {
          "symbol": "circle"
         },
         "mode": "lines",
         "name": "Säkerhetstjänster",
         "orientation": "v",
         "showlegend": true,
         "stackgroup": "1",
         "type": "scatter",
         "visible": "legendonly",
         "x": {
          "bdata": "1QfWB9cH2AfZB9oH2wfcB90H3gffB+AH4QfiB+MH5AflB+YH5wfoBw==",
          "dtype": "i2"
         },
         "xaxis": "x",
         "y": {
          "bdata": "AAAAAACwcEAAAAAAAJB6QAAAAAAAqIFAAAAAAACQg0AAAAAAAKiDQAAAAAAAAIFAAAAAAACwfEAAAAAAACB3QAAAAAAAAHVAAAAAAADgdUAAAAAAAKB3QAAAAAAAcHdAAAAAAAAwcUAAAAAAAMBxQAAAAAAAgHlAAAAAAAAYgkAAAAAAAJCCQAAAAAAA2IdAAAAAAAAIikAAAAAAAPCJQA==",
          "dtype": "f8"
         },
         "yaxis": "y"
        },
        {
         "fillpattern": {
          "shape": ""
         },
         "hovertemplate": "Utbildningsområde=Teknik och tillverkning<br>År=%{x}<br>Antal studerande=%{y}<extra></extra>",
         "legendgroup": "Teknik och tillverkning",
         "line": {
          "color": "#00cc96"
         },
         "marker": {
          "symbol": "circle"
         },
         "mode": "lines",
         "name": "Teknik och tillverkning",
         "orientation": "v",
         "showlegend": true,
         "stackgroup": "1",
         "type": "scatter",
         "visible": "legendonly",
         "x": {
          "bdata": "1QfWB9cH2AfZB9oH2wfcB90H3gffB+AH4QfiB+MH5AflB+YH5wfoBw==",
          "dtype": "i2"
         },
         "xaxis": "x",
         "y": {
          "bdata": "AAAAAACgrkAAAAAAANawQAAAAAAAQLNAAAAAAAC7tUAAAAAAAG+5QAAAAAAA5rtAAAAAAACmvEAAAAAAAEu6QAAAAAAAfLtAAAAAAACgvEAAAAAAANu8QAAAAAAAW7xAAAAAAACSu0AAAAAAALe6QAAAAAAAU75AAAAAAIBlw0AAAAAAgAfGQAAAAACAFsZAAAAAAIDexkAAAAAAANXJQA==",
          "dtype": "f8"
         },
         "yaxis": "y"
        },
        {
         "fillpattern": {
          "shape": ""
         },
         "hovertemplate": "Utbildningsområde=Transporttjänster<br>År=%{x}<br>Antal studerande=%{y}<extra></extra>",
         "legendgroup": "Transporttjänster",
         "line": {
          "color": "#ab63fa"
         },
         "marker": {
          "symbol": "circle"
         },
         "mode": "lines",
         "name": "Transporttjänster",
         "orientation": "v",
         "showlegend": true,
         "stackgroup": "1",
         "type": "scatter",
         "visible": "legendonly",
         "x": {
          "bdata": "1QfWB9cH2AfZB9oH2wfcB90H3gffB+AH4QfiB+MH5AflB+YH5wfoBw==",
          "dtype": "i2"
         },
         "xaxis": "x",
         "y": {
          "bdata": "AAAAAACwiUAAAAAAAECRQAAAAAAANJVAAAAAAADYmEAAAAAAAICaQAAAAAAADJ1AAAAAAADUnEAAAAAAADyXQAAAAAAAcJFAAAAAAABojUAAAAAAAJiSQAAAAAAAIJhAAAAAAADonEAAAAAAAFSbQAAAAAAAJJpAAAAAAAB0m0AAAAAAAJSYQAAAAAAASJdAAAAAAABImUAAAAAAAGyaQA==",
          "dtype": "f8"
         },
         "yaxis": "y"
        }
       ],
       "layout": {
        "legend": {
         "title": {
          "text": "Utbildningsområde"
         },
         "tracegroupgap": 0
        },
        "template": {
         "data": {
          "bar": [
           {
            "error_x": {
             "color": "#2a3f5f"
            },
            "error_y": {
             "color": "#2a3f5f"
            },
            "marker": {
             "line": {
              "color": "white",
              "width": 0.5
             },
             "pattern": {
              "fillmode": "overlay",
              "size": 10,
              "solidity": 0.2
             }
            },
            "type": "bar"
           }
          ],
          "barpolar": [
           {
            "marker": {
             "line": {
              "color": "white",
              "width": 0.5
             },
             "pattern": {
              "fillmode": "overlay",
              "size": 10,
              "solidity": 0.2
             }
            },
            "type": "barpolar"
           }
          ],
          "carpet": [
           {
            "aaxis": {
             "endlinecolor": "#2a3f5f",
             "gridcolor": "#C8D4E3",
             "linecolor": "#C8D4E3",
             "minorgridcolor": "#C8D4E3",
             "startlinecolor": "#2a3f5f"
            },
            "baxis": {
             "endlinecolor": "#2a3f5f",
             "gridcolor": "#C8D4E3",
             "linecolor": "#C8D4E3",
             "minorgridcolor": "#C8D4E3",
             "startlinecolor": "#2a3f5f"
            },
            "type": "carpet"
           }
          ],
          "choropleth": [
           {
            "colorbar": {
             "outlinewidth": 0,
             "ticks": ""
            },
            "type": "choropleth"
           }
          ],
          "contour": [
           {
            "colorbar": {
             "outlinewidth": 0,
             "ticks": ""
            },
            "colorscale": [
             [
              0,
              "#0d0887"
             ],
             [
              0.1111111111111111,
              "#46039f"
             ],
             [
              0.2222222222222222,
              "#7201a8"
             ],
             [
              0.3333333333333333,
              "#9c179e"
             ],
             [
              0.4444444444444444,
              "#bd3786"
             ],
             [
              0.5555555555555556,
              "#d8576b"
             ],
             [
              0.6666666666666666,
              "#ed7953"
             ],
             [
              0.7777777777777778,
              "#fb9f3a"
             ],
             [
              0.8888888888888888,
              "#fdca26"
             ],
             [
              1,
              "#f0f921"
             ]
            ],
            "type": "contour"
           }
          ],
          "contourcarpet": [
           {
            "colorbar": {
             "outlinewidth": 0,
             "ticks": ""
            },
            "type": "contourcarpet"
           }
          ],
          "heatmap": [
           {
            "colorbar": {
             "outlinewidth": 0,
             "ticks": ""
            },
            "colorscale": [
             [
              0,
              "#0d0887"
             ],
             [
              0.1111111111111111,
              "#46039f"
             ],
             [
              0.2222222222222222,
              "#7201a8"
             ],
             [
              0.3333333333333333,
              "#9c179e"
             ],
             [
              0.4444444444444444,
              "#bd3786"
             ],
             [
              0.5555555555555556,
              "#d8576b"
             ],
             [
              0.6666666666666666,
              "#ed7953"
             ],
             [
              0.7777777777777778,
              "#fb9f3a"
             ],
             [
              0.8888888888888888,
              "#fdca26"
             ],
             [
              1,
              "#f0f921"
             ]
            ],
            "type": "heatmap"
           }
          ],
          "histogram": [
           {
            "marker": {
             "pattern": {
              "fillmode": "overlay",
              "size": 10,
              "solidity": 0.2
             }
            },
            "type": "histogram"
           }
          ],
          "histogram2d": [
           {
            "colorbar": {
             "outlinewidth": 0,
             "ticks": ""
            },
            "colorscale": [
             [
              0,
              "#0d0887"
             ],
             [
              0.1111111111111111,
              "#46039f"
             ],
             [
              0.2222222222222222,
              "#7201a8"
             ],
             [
              0.3333333333333333,
              "#9c179e"
             ],
             [
              0.4444444444444444,
              "#bd3786"
             ],
             [
              0.5555555555555556,
              "#d8576b"
             ],
             [
              0.6666666666666666,
              "#ed7953"
             ],
             [
              0.7777777777777778,
              "#fb9f3a"
             ],
             [
              0.8888888888888888,
              "#fdca26"
             ],
             [
              1,
              "#f0f921"
             ]
            ],
            "type": "histogram2d"
           }
          ],
          "histogram2dcontour": [
           {
            "colorbar": {
             "outlinewidth": 0,
             "ticks": ""
            },
            "colorscale": [
             [
              0,
              "#0d0887"
             ],
             [
              0.1111111111111111,
              "#46039f"
             ],
             [
              0.2222222222222222,
              "#7201a8"
             ],
             [
              0.3333333333333333,
              "#9c179e"
             ],
             [
              0.4444444444444444,
              "#bd3786"
             ],
             [
              0.5555555555555556,
              "#d8576b"
             ],
             [
              0.6666666666666666,
              "#ed7953"
             ],
             [
              0.7777777777777778,
              "#fb9f3a"
             ],
             [
              0.8888888888888888,
              "#fdca26"
             ],
             [
              1,
              "#f0f921"
             ]
            ],
            "type": "histogram2dcontour"
           }
          ],
          "mesh3d": [
           {
            "colorbar": {
             "outlinewidth": 0,
             "ticks": ""
            },
            "type": "mesh3d"
           }
          ],
          "parcoords": [
           {
            "line": {
             "colorbar": {
              "outlinewidth": 0,
              "ticks": ""
             }
            },
            "type": "parcoords"
           }
          ],
          "pie": [
           {
            "automargin": true,
            "type": "pie"
           }
          ],
          "scatter": [
           {
            "fillpattern": {
             "fillmode": "overlay",
             "size": 10,
             "solidity": 0.2
            },
            "type": "scatter"
           }
          ],
          "scatter3d": [
           {
            "line": {
             "colorbar": {
              "outlinewidth": 0,
              "ticks": ""
             }
            },
            "marker": {
             "colorbar": {
              "outlinewidth": 0,
              "ticks": ""
             }
            },
            "type": "scatter3d"
           }
          ],
          "scattercarpet": [
           {
            "marker": {
             "colorbar": {
              "outlinewidth": 0,
              "ticks": ""
             }
            },
            "type": "scattercarpet"
           }
          ],
          "scattergeo": [
           {
            "marker": {
             "colorbar": {
              "outlinewidth": 0,
              "ticks": ""
             }
            },
            "type": "scattergeo"
           }
          ],
          "scattergl": [
           {
            "marker": {
             "colorbar": {
              "outlinewidth": 0,
              "ticks": ""
             }
            },
            "type": "scattergl"
           }
          ],
          "scattermap": [
           {
            "marker": {
             "colorbar": {
              "outlinewidth": 0,
              "ticks": ""
             }
            },
            "type": "scattermap"
           }
          ],
          "scattermapbox": [
           {
            "marker": {
             "colorbar": {
              "outlinewidth": 0,
              "ticks": ""
             }
            },
            "type": "scattermapbox"
           }
          ],
          "scatterpolar": [
           {
            "marker": {
             "colorbar": {
              "outlinewidth": 0,
              "ticks": ""
             }
            },
            "type": "scatterpolar"
           }
          ],
          "scatterpolargl": [
           {
            "marker": {
             "colorbar": {
              "outlinewidth": 0,
              "ticks": ""
             }
            },
            "type": "scatterpolargl"
           }
          ],
          "scatterternary": [
           {
            "marker": {
             "colorbar": {
              "outlinewidth": 0,
              "ticks": ""
             }
            },
            "type": "scatterternary"
           }
          ],
          "surface": [
           {
            "colorbar": {
             "outlinewidth": 0,
             "ticks": ""
            },
            "colorscale": [
             [
              0,
              "#0d0887"
             ],
             [
              0.1111111111111111,
              "#46039f"
             ],
             [
              0.2222222222222222,
              "#7201a8"
             ],
             [
              0.3333333333333333,
              "#9c179e"
             ],
             [
              0.4444444444444444,
              "#bd3786"
             ],
             [
              0.5555555555555556,
              "#d8576b"
             ],
             [
              0.6666666666666666,
              "#ed7953"
             ],
             [
              0.7777777777777778,
              "#fb9f3a"
             ],
             [
              0.8888888888888888,
              "#fdca26"
             ],
             [
              1,
              "#f0f921"
             ]
            ],
            "type": "surface"
           }
          ],
          "table": [
           {
            "cells": {
             "fill": {
              "color": "#EBF0F8"
             },
             "line": {
              "color": "white"
             }
            },
            "header": {
             "fill": {
              "color": "#C8D4E3"
             },
             "line": {
              "color": "white"
             }
            },
            "type": "table"
           }
          ]
         },
         "layout": {
          "annotationdefaults": {
           "arrowcolor": "#2a3f5f",
           "arrowhead": 0,
           "arrowwidth": 1
          },
          "autotypenumbers": "strict",
          "coloraxis": {
           "colorbar": {
            "outlinewidth": 0,
            "ticks": ""
           }
          },
          "colorscale": {
           "diverging": [
            [
             0,
             "#8e0152"
            ],
            [
             0.1,
             "#c51b7d"
            ],
            [
             0.2,
             "#de77ae"
            ],
            [
             0.3,
             "#f1b6da"
            ],
            [
             0.4,
             "#fde0ef"
            ],
            [
             0.5,
             "#f7f7f7"
            ],
            [
             0.6,
             "#e6f5d0"
            ],
            [
             0.7,
             "#b8e186"
            ],
            [
             0.8,
             "#7fbc41"
            ],
            [
             0.9,
             "#4d9221"
            ],
            [
             1,
             "#276419"
            ]
           ],
           "sequential": [
            [
             0,
             "#0d0887"
            ],
            [
             0.1111111111111111,
             "#46039f"
            ],
            [
             0.2222222222222222,
             "#7201a8"
            ],
            [
             0.3333333333333333,
             "#9c179e"
            ],
            [
             0.4444444444444444,
             "#bd3786"
            ],
            [
             0.5555555555555556,
             "#d8576b"
            ],
            [
             0.6666666666666666,
             "#ed7953"
            ],
            [
             0.7777777777777778,
             "#fb9f3a"
            ],
            [
             0.8888888888888888,
             "#fdca26"
            ],
            [
             1,
             "#f0f921"
            ]
           ],
           "sequentialminus": [
            [
             0,
             "#0d0887"
            ],
            [
             0.1111111111111111,
             "#46039f"
            ],
            [
             0.2222222222222222,
             "#7201a8"
            ],
            [
             0.3333333333333333,
             "#9c179e"
            ],
            [
             0.4444444444444444,
             "#bd3786"
            ],
            [
             0.5555555555555556,
             "#d8576b"
            ],
            [
             0.6666666666666666,
             "#ed7953"
            ],
            [
             0.7777777777777778,
             "#fb9f3a"
            ],
            [
             0.8888888888888888,
             "#fdca26"
            ],
            [
             1,
             "#f0f921"
            ]
           ]
          },
          "colorway": [
           "#636efa",
           "#EF553B",
           "#00cc96",
           "#ab63fa",
           "#FFA15A",
           "#19d3f3",
           "#FF6692",
           "#B6E880",
           "#FF97FF",
           "#FECB52"
          ],
          "font": {
           "color": "#2a3f5f"
          },
          "geo": {
           "bgcolor": "white",
           "lakecolor": "white",
           "landcolor": "white",
           "showlakes": true,
           "showland": true,
           "subunitcolor": "#C8D4E3"
          },
          "hoverlabel": {
           "align": "left"
          },
          "hovermode": "closest",
          "mapbox": {
           "style": "light"
          },
          "paper_bgcolor": "white",
          "plot_bgcolor": "white",
          "polar": {
           "angularaxis": {
            "gridcolor": "#EBF0F8",
            "linecolor": "#EBF0F8",
            "ticks": ""
           },
           "bgcolor": "white",
           "radialaxis": {
            "gridcolor": "#EBF0F8",
            "linecolor": "#EBF0F8",
            "ticks": ""
           }
          },
          "scene": {
           "xaxis": {
            "backgroundcolor": "white",
            "gridcolor": "#DFE8F3",
            "gridwidth": 2,
            "linecolor": "#EBF0F8",
            "showbackground": true,
            "ticks": "",
            "zerolinecolor": "#EBF0F8"
           },
           "yaxis": {
            "backgroundcolor": "white",
            "gridcolor": "#DFE8F3",
            "gridwidth": 2,
            "linecolor": "#EBF0F8",
            "showbackground": true,
            "ticks": "",
            "zerolinecolor": "#EBF0F8"
           },
           "zaxis": {
            "backgroundcolor": "white",
            "gridcolor": "#DFE8F3",
            "gridwidth": 2,
            "linecolor": "#EBF0F8",
            "showbackground": true,
            "ticks": "",
            "zerolinecolor": "#EBF0F8"
           }
          },
          "shapedefaults": {
           "line": {
            "color": "#2a3f5f"
           }
          },
          "ternary": {
           "aaxis": {
            "gridcolor": "#DFE8F3",
            "linecolor": "#A2B1C6",
            "ticks": ""
           },
           "baxis": {
            "gridcolor": "#DFE8F3",
            "linecolor": "#A2B1C6",
            "ticks": ""
           },
           "bgcolor": "white",
           "caxis": {
            "gridcolor": "#DFE8F3",
            "linecolor": "#A2B1C6",
            "ticks": ""
           }
          },
          "title": {
           "x": 0.05
          },
          "xaxis": {
           "automargin": true,
           "gridcolor": "#EBF0F8",
           "linecolor": "#EBF0F8",
           "ticks": "",
           "title": {
            "standoff": 15
           },
           "zerolinecolor": "#EBF0F8",
           "zerolinewidth": 2
          },
          "yaxis": {
           "automargin": true,
           "gridcolor": "#EBF0F8",
           "linecolor": "#EBF0F8",
           "ticks": "",
           "title": {
            "standoff": 15
           },
           "zerolinecolor": "#EBF0F8",
           "zerolinewidth": 2
          }
         }
        },
        "title": {
         "text": "Antalet studerande i YH inom olika utbildningsområden (2012–2024)"
        },
        "xaxis": {
         "anchor": "y",
         "domain": [
          0,
          1
         ],
         "linecolor": "grey",
         "showgrid": false,
         "showline": true,
         "ticks": "outside",
         "title": {
          "text": "År"
         }
        },
        "yaxis": {
         "anchor": "x",
         "domain": [
          0,
          1
         ],
         "linecolor": "grey",
         "showgrid": false,
         "showline": true,
         "ticks": "outside",
         "title": {
          "text": "Antal studerande"
         }
        }
       }
      }
     },
     "metadata": {},
     "output_type": "display_data"
    }
   ],
   "source": [
    "def student_area_graph():\n",
    "    # Load the data\n",
    "    df = pd.read_excel(\"data/Antalet studerande i YH inom olika utbildningsområden 2012-2024.xlsx\")\n",
    "\n",
    "    # Drop unwanted columns if they exist\n",
    "    columns_to_exclude = ['Totalt', 'Övrigt']\n",
    "    df = df.drop(columns=[col for col in columns_to_exclude if col in df.columns])\n",
    "\n",
    "    # Melt the data to long format\n",
    "    df_long = df.melt(id_vars='År', var_name='Utbildningsområde', value_name='Antal studerande')\n",
    "\n",
    "    # Create area chart\n",
    "    fig = px.area(\n",
    "        df_long,\n",
    "        x='År',\n",
    "        y='Antal studerande',\n",
    "        color='Utbildningsområde',\n",
    "        title='Antalet studerande i YH inom olika utbildningsområden (2012–2024)',\n",
    "        labels={'År': 'År', 'Antal studerande': 'Antal studerande'},\n",
    "        template='plotly_white'\n",
    "    )\n",
    "\n",
    "    # Hide all traces except \"Data/It\"\n",
    "    for trace in fig.data:\n",
    "        if trace.name != \"Data/It\":\n",
    "            trace.visible = \"legendonly\"\n",
    "\n",
    "    # Improve axes appearance\n",
    "    fig.update_xaxes(showgrid=False, ticks=\"outside\", showline=True, linecolor='grey')\n",
    "    fig.update_xaxes(\n",
    "        showgrid=False,\n",
    "        ticks=\"outside\",\n",
    "        showline=True,\n",
    "        linecolor='grey',\n",
    "        type='category'  # 👈 Force x-axis to treat years as categorical values\n",
    "    )\n",
    "\n",
    "    # Customize legend title\n",
    "    fig.update_layout(legend_title_text='Utbildningsområde')\n",
    "\n",
    "    return fig \n",
    "\n",
    "fig = student_area_graph()\n",
    "fig.show()"
   ]
  }
 ],
 "metadata": {
  "kernelspec": {
   "display_name": "venv",
   "language": "python",
   "name": "python3"
  },
  "language_info": {
   "codemirror_mode": {
    "name": "ipython",
    "version": 3
   },
   "file_extension": ".py",
   "mimetype": "text/x-python",
   "name": "python",
   "nbconvert_exporter": "python",
   "pygments_lexer": "ipython3",
   "version": "3.12.5"
  }
 },
 "nbformat": 4,
 "nbformat_minor": 5
}
