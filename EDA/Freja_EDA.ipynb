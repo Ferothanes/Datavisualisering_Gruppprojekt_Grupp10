{
 "cells": [
  {
   "cell_type": "markdown",
   "id": "09afe774",
   "metadata": {},
   "source": [
    "COMBINE sammanställningsresultat för 2020-2024"
   ]
  },
  {
   "cell_type": "code",
   "execution_count": null,
   "id": "f595d5b6",
   "metadata": {},
   "outputs": [],
   "source": [
    "years = range(2022, 2024)\n",
    "files = [f\"data/yh-sokande-{year}-behorighet-reell-kompetens.xlsx\" for year in years]\n",
    "\n",
    "df_list = []\n",
    "\n",
    "for file in files:\n",
    "    year = file.split('-')[-1].split('.')[0]  # Extract year from filename\n",
    "    try:\n",
    "        df = pd.read_excel(file, sheet_name='Sökande 2024 - Tab1', header=5)\n",
    "        df['År'] = int(year)  # Add year column\n",
    "        df_list.append(df)\n",
    "    except Exception as e:\n",
    "        print(f\"Error processing {file}: {e}\")\n",
    "\n",
    "# Combine all data\n",
    "combined_df = pd.concat(df_list, ignore_index=True)\n",
    "\n",
    "# Save to new Excel file\n",
    "combined_df.to_excel(\"sammanstallning-resultat-2023-2024.xlsx\", index=False)"
   ]
  },
  {
   "cell_type": "code",
   "execution_count": null,
   "id": "5a1570df",
   "metadata": {},
   "outputs": [
    {
     "name": "stdout",
     "output_type": "stream",
     "text": [
      "Combined file saved as 'sammanstallning-resultat-2020-2024-updated.xlsx'\n"
     ]
    }
   ],
   "source": [
    "import pandas as pd\n",
    "\n",
    "df1 = pd.read_excel(\"data/sammanstallning-resultat-2022-2024.xlsx\")\n",
    "df2 = pd.read_excel(\"data/sammanstallning-resultat-2023-2024.xlsx\")\n",
    "\n",
    "# Combine the data\n",
    "combined_df = pd.concat([df1, df2], ignore_index=True)\n",
    "\n",
    "combined_df.to_excel(\"sammanstallning-resultat-2020-2024-updated.xlsx\", index=False)"
   ]
  },
  {
   "cell_type": "markdown",
   "id": "d173b7f3",
   "metadata": {},
   "source": [
    "## Program"
   ]
  },
  {
   "cell_type": "code",
   "execution_count": 5,
   "id": "100c952b",
   "metadata": {},
   "outputs": [
    {
     "data": {
      "text/html": [
       "<div>\n",
       "<style scoped>\n",
       "    .dataframe tbody tr th:only-of-type {\n",
       "        vertical-align: middle;\n",
       "    }\n",
       "\n",
       "    .dataframe tbody tr th {\n",
       "        vertical-align: top;\n",
       "    }\n",
       "\n",
       "    .dataframe thead th {\n",
       "        text-align: right;\n",
       "    }\n",
       "</style>\n",
       "<table border=\"1\" class=\"dataframe\">\n",
       "  <thead>\n",
       "    <tr style=\"text-align: right;\">\n",
       "      <th></th>\n",
       "      <th>Utbildningsområde</th>\n",
       "      <th>Utbildningsnamn</th>\n",
       "      <th>Län</th>\n",
       "      <th>Kommun</th>\n",
       "      <th>Flera studiekommuner</th>\n",
       "      <th>Antal kommuner</th>\n",
       "      <th>Antal län</th>\n",
       "      <th>YH-poäng</th>\n",
       "      <th>Utbildningsanordnare administrativ enhet</th>\n",
       "      <th>Diarienummer</th>\n",
       "      <th>År</th>\n",
       "      <th>Flera kommuner</th>\n",
       "    </tr>\n",
       "  </thead>\n",
       "  <tbody>\n",
       "    <tr>\n",
       "      <th>0</th>\n",
       "      <td>Data/IT</td>\n",
       "      <td>.NET Utvecklare</td>\n",
       "      <td>Västra Götaland</td>\n",
       "      <td>Göteborg</td>\n",
       "      <td>Nej</td>\n",
       "      <td>1</td>\n",
       "      <td>1.0</td>\n",
       "      <td>400</td>\n",
       "      <td>Plushögskolan AB - Teknikhögskolan</td>\n",
       "      <td>MYH 2020/4403</td>\n",
       "      <td>2020</td>\n",
       "      <td>NaN</td>\n",
       "    </tr>\n",
       "    <tr>\n",
       "      <th>1</th>\n",
       "      <td>Data/IT</td>\n",
       "      <td>.NET-utvecklare</td>\n",
       "      <td>Stockholm</td>\n",
       "      <td>Stockholm</td>\n",
       "      <td>Nej</td>\n",
       "      <td>1</td>\n",
       "      <td>1.0</td>\n",
       "      <td>400</td>\n",
       "      <td>IT-Högskolan Stockholm AB</td>\n",
       "      <td>MYH 2020/5766</td>\n",
       "      <td>2020</td>\n",
       "      <td>NaN</td>\n",
       "    </tr>\n",
       "    <tr>\n",
       "      <th>2</th>\n",
       "      <td>Data/IT</td>\n",
       "      <td>.NET-utvecklare</td>\n",
       "      <td>Västra Götaland</td>\n",
       "      <td>Göteborg</td>\n",
       "      <td>Nej</td>\n",
       "      <td>1</td>\n",
       "      <td>1.0</td>\n",
       "      <td>400</td>\n",
       "      <td>IT-Högskolan Sverige AB</td>\n",
       "      <td>MYH 2020/5764</td>\n",
       "      <td>2020</td>\n",
       "      <td>NaN</td>\n",
       "    </tr>\n",
       "    <tr>\n",
       "      <th>3</th>\n",
       "      <td>Data/IT</td>\n",
       "      <td>Agil Javautvecklare</td>\n",
       "      <td>Gävleborg</td>\n",
       "      <td>Gävle</td>\n",
       "      <td>Nej</td>\n",
       "      <td>1</td>\n",
       "      <td>1.0</td>\n",
       "      <td>400</td>\n",
       "      <td>Edugrade AB</td>\n",
       "      <td>MYH 2020/5827</td>\n",
       "      <td>2020</td>\n",
       "      <td>NaN</td>\n",
       "    </tr>\n",
       "    <tr>\n",
       "      <th>4</th>\n",
       "      <td>Data/IT</td>\n",
       "      <td>Agil projektledare</td>\n",
       "      <td>Skåne</td>\n",
       "      <td>Malmö</td>\n",
       "      <td>Nej</td>\n",
       "      <td>1</td>\n",
       "      <td>1.0</td>\n",
       "      <td>225</td>\n",
       "      <td>IHM Business School AB Malmö</td>\n",
       "      <td>MYH 2020/5354</td>\n",
       "      <td>2020</td>\n",
       "      <td>NaN</td>\n",
       "    </tr>\n",
       "  </tbody>\n",
       "</table>\n",
       "</div>"
      ],
      "text/plain": [
       "  Utbildningsområde      Utbildningsnamn              Län     Kommun  \\\n",
       "0           Data/IT     .NET Utvecklare   Västra Götaland   Göteborg   \n",
       "1           Data/IT      .NET-utvecklare        Stockholm  Stockholm   \n",
       "2           Data/IT      .NET-utvecklare  Västra Götaland   Göteborg   \n",
       "3           Data/IT  Agil Javautvecklare        Gävleborg      Gävle   \n",
       "4           Data/IT   Agil projektledare            Skåne      Malmö   \n",
       "\n",
       "  Flera studiekommuner  Antal kommuner  Antal län  YH-poäng  \\\n",
       "0                  Nej               1        1.0       400   \n",
       "1                  Nej               1        1.0       400   \n",
       "2                  Nej               1        1.0       400   \n",
       "3                  Nej               1        1.0       400   \n",
       "4                  Nej               1        1.0       225   \n",
       "\n",
       "  Utbildningsanordnare administrativ enhet   Diarienummer    År Flera kommuner  \n",
       "0       Plushögskolan AB - Teknikhögskolan  MYH 2020/4403  2020            NaN  \n",
       "1                IT-Högskolan Stockholm AB  MYH 2020/5766  2020            NaN  \n",
       "2                  IT-Högskolan Sverige AB  MYH 2020/5764  2020            NaN  \n",
       "3                              Edugrade AB  MYH 2020/5827  2020            NaN  \n",
       "4             IHM Business School AB Malmö  MYH 2020/5354  2020            NaN  "
      ]
     },
     "execution_count": 5,
     "metadata": {},
     "output_type": "execute_result"
    }
   ],
   "source": [
    "df = pd.read_excel(\"data/sammanstallning-resultat-2020-2024-updated.xlsx\")\n",
    "df.head()"
   ]
  }
 ],
 "metadata": {
  "kernelspec": {
   "display_name": "venv",
   "language": "python",
   "name": "python3"
  },
  "language_info": {
   "codemirror_mode": {
    "name": "ipython",
    "version": 3
   },
   "file_extension": ".py",
   "mimetype": "text/x-python",
   "name": "python",
   "nbconvert_exporter": "python",
   "pygments_lexer": "ipython3",
   "version": "3.12.5"
  }
 },
 "nbformat": 4,
 "nbformat_minor": 5
}
