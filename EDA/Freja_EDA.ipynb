{
 "cells": [
  {
   "cell_type": "markdown",
   "id": "09afe774",
   "metadata": {},
   "source": [
    "COMBINE sammanställningsresultat för 2020-2024"
   ]
  },
  {
   "cell_type": "code",
   "execution_count": null,
   "id": "f595d5b6",
   "metadata": {},
   "outputs": [],
   "source": [
    "years = range(2022, 2024)\n",
    "files = [f\"data/yh-sokande-{year}-behorighet-reell-kompetens.xlsx\" for year in years]\n",
    "\n",
    "df_list = []\n",
    "\n",
    "for file in files:\n",
    "    year = file.split('-')[-1].split('.')[0]  # Extract year from filename\n",
    "    try:\n",
    "        df = pd.read_excel(file, sheet_name='Sökande 2024 - Tab1', header=5)\n",
    "        df['År'] = int(year)  # Add year column\n",
    "        df_list.append(df)\n",
    "    except Exception as e:\n",
    "        print(f\"Error processing {file}: {e}\")\n",
    "\n",
    "# Combine all data\n",
    "combined_df = pd.concat(df_list, ignore_index=True)\n",
    "\n",
    "# Save to new Excel file\n",
    "combined_df.to_excel(\"sammanstallning-resultat-2023-2024.xlsx\", index=False)"
   ]
  },
  {
   "cell_type": "code",
   "execution_count": null,
   "id": "5a1570df",
   "metadata": {},
   "outputs": [],
   "source": [
    "import pandas as pd\n",
    "\n",
    "df1 = pd.read_excel(\"data/sammanstallning-resultat-2022-2024.xlsx\")\n",
    "df2 = pd.read_excel(\"data/sammanstallning-resultat-2023-2024.xlsx\")\n",
    "\n",
    "# Combine the data\n",
    "combined_df = pd.concat([df1, df2], ignore_index=True)\n",
    "\n",
    "combined_df.to_excel(\"sammanstallning-resultat-2020-2024-updated.xlsx\", index=False)"
   ]
  },
  {
   "cell_type": "markdown",
   "id": "095c591d",
   "metadata": {},
   "source": [
    "## Age & gender EDA - Sökande till yrkeshögskolan"
   ]
  },
  {
   "cell_type": "code",
   "execution_count": null,
   "id": "e1af3e05",
   "metadata": {},
   "outputs": [],
   "source": [
    "import pandas as pd\n",
    "\n",
    "excel_path = 'data/Utbildningsansökning_age.xlsx'\n",
    "\n",
    "age_df = pd.read_excel(excel_path, sheet_name='Age')\n",
    "edu_df = pd.read_excel(excel_path, sheet_name='Education')\n",
    "\n",
    "print(age_df.info())\n",
    "print(edu_df.info())\n"
   ]
  },
  {
   "cell_type": "markdown",
   "id": "8e0c90a4",
   "metadata": {},
   "source": [
    "### EDA - Antalet studerande i YH inom olika utbildningsområden 2012-2024"
   ]
  },
  {
   "cell_type": "code",
   "execution_count": 4,
   "id": "b1850b9c",
   "metadata": {},
   "outputs": [
    {
     "data": {
      "text/html": [
       "<div>\n",
       "<style scoped>\n",
       "    .dataframe tbody tr th:only-of-type {\n",
       "        vertical-align: middle;\n",
       "    }\n",
       "\n",
       "    .dataframe tbody tr th {\n",
       "        vertical-align: top;\n",
       "    }\n",
       "\n",
       "    .dataframe thead th {\n",
       "        text-align: right;\n",
       "    }\n",
       "</style>\n",
       "<table border=\"1\" class=\"dataframe\">\n",
       "  <thead>\n",
       "    <tr style=\"text-align: right;\">\n",
       "      <th></th>\n",
       "      <th>År</th>\n",
       "      <th>Data/It</th>\n",
       "      <th>Ekonomi, administration och försäljning</th>\n",
       "      <th>Friskvård och kroppsvård</th>\n",
       "      <th>Hotell, restaurang och turism</th>\n",
       "      <th>Hälso- och sjukvård samt socialt arbete</th>\n",
       "      <th>Journalistik och information</th>\n",
       "      <th>Juridik</th>\n",
       "      <th>Kultur, media och design</th>\n",
       "      <th>Lantbruk, djurvård, trädgård, skog och fiske</th>\n",
       "      <th>Pedagogik och undervisning</th>\n",
       "      <th>Samhällsbyggnad och byggteknik</th>\n",
       "      <th>Säkerhetstjänster</th>\n",
       "      <th>Teknik och tillverkning</th>\n",
       "      <th>Transporttjänster</th>\n",
       "      <th>Övrigt</th>\n",
       "      <th>Totalt</th>\n",
       "    </tr>\n",
       "  </thead>\n",
       "  <tbody>\n",
       "    <tr>\n",
       "      <th>0</th>\n",
       "      <td>2005</td>\n",
       "      <td>2587</td>\n",
       "      <td>6238</td>\n",
       "      <td>481</td>\n",
       "      <td>2223</td>\n",
       "      <td>2992</td>\n",
       "      <td>114</td>\n",
       "      <td>..</td>\n",
       "      <td>2803</td>\n",
       "      <td>920</td>\n",
       "      <td>16</td>\n",
       "      <td>1406</td>\n",
       "      <td>267</td>\n",
       "      <td>3920</td>\n",
       "      <td>822</td>\n",
       "      <td>..</td>\n",
       "      <td>24789</td>\n",
       "    </tr>\n",
       "    <tr>\n",
       "      <th>1</th>\n",
       "      <td>2006</td>\n",
       "      <td>2546</td>\n",
       "      <td>7582</td>\n",
       "      <td>738</td>\n",
       "      <td>2553</td>\n",
       "      <td>3807</td>\n",
       "      <td>101</td>\n",
       "      <td>61</td>\n",
       "      <td>2938</td>\n",
       "      <td>1341</td>\n",
       "      <td>103</td>\n",
       "      <td>1947</td>\n",
       "      <td>425</td>\n",
       "      <td>4310</td>\n",
       "      <td>1104</td>\n",
       "      <td>..</td>\n",
       "      <td>29556</td>\n",
       "    </tr>\n",
       "    <tr>\n",
       "      <th>2</th>\n",
       "      <td>2007</td>\n",
       "      <td>2797</td>\n",
       "      <td>8807</td>\n",
       "      <td>883</td>\n",
       "      <td>2906</td>\n",
       "      <td>4200</td>\n",
       "      <td>114</td>\n",
       "      <td>122</td>\n",
       "      <td>2893</td>\n",
       "      <td>1538</td>\n",
       "      <td>186</td>\n",
       "      <td>2388</td>\n",
       "      <td>565</td>\n",
       "      <td>4928</td>\n",
       "      <td>1357</td>\n",
       "      <td>..</td>\n",
       "      <td>33684</td>\n",
       "    </tr>\n",
       "    <tr>\n",
       "      <th>3</th>\n",
       "      <td>2008</td>\n",
       "      <td>2817</td>\n",
       "      <td>10264</td>\n",
       "      <td>993</td>\n",
       "      <td>3074</td>\n",
       "      <td>4029</td>\n",
       "      <td>159</td>\n",
       "      <td>157</td>\n",
       "      <td>2993</td>\n",
       "      <td>1502</td>\n",
       "      <td>220</td>\n",
       "      <td>2641</td>\n",
       "      <td>626</td>\n",
       "      <td>5563</td>\n",
       "      <td>1590</td>\n",
       "      <td>29</td>\n",
       "      <td>36657</td>\n",
       "    </tr>\n",
       "    <tr>\n",
       "      <th>4</th>\n",
       "      <td>2009</td>\n",
       "      <td>2857</td>\n",
       "      <td>11286</td>\n",
       "      <td>1009</td>\n",
       "      <td>2965</td>\n",
       "      <td>4091</td>\n",
       "      <td>213</td>\n",
       "      <td>167</td>\n",
       "      <td>2952</td>\n",
       "      <td>1549</td>\n",
       "      <td>250</td>\n",
       "      <td>3183</td>\n",
       "      <td>629</td>\n",
       "      <td>6511</td>\n",
       "      <td>1696</td>\n",
       "      <td>59</td>\n",
       "      <td>39417</td>\n",
       "    </tr>\n",
       "  </tbody>\n",
       "</table>\n",
       "</div>"
      ],
      "text/plain": [
       "     År  Data/It  Ekonomi, administration och försäljning  \\\n",
       "0  2005     2587                                     6238   \n",
       "1  2006     2546                                     7582   \n",
       "2  2007     2797                                     8807   \n",
       "3  2008     2817                                    10264   \n",
       "4  2009     2857                                    11286   \n",
       "\n",
       "   Friskvård och kroppsvård  Hotell, restaurang och turism  \\\n",
       "0                       481                           2223   \n",
       "1                       738                           2553   \n",
       "2                       883                           2906   \n",
       "3                       993                           3074   \n",
       "4                      1009                           2965   \n",
       "\n",
       "   Hälso- och sjukvård samt socialt arbete  Journalistik och information  \\\n",
       "0                                     2992                           114   \n",
       "1                                     3807                           101   \n",
       "2                                     4200                           114   \n",
       "3                                     4029                           159   \n",
       "4                                     4091                           213   \n",
       "\n",
       "  Juridik  Kultur, media och design  \\\n",
       "0      ..                      2803   \n",
       "1      61                      2938   \n",
       "2     122                      2893   \n",
       "3     157                      2993   \n",
       "4     167                      2952   \n",
       "\n",
       "   Lantbruk, djurvård, trädgård, skog och fiske  Pedagogik och undervisning  \\\n",
       "0                                           920                          16   \n",
       "1                                          1341                         103   \n",
       "2                                          1538                         186   \n",
       "3                                          1502                         220   \n",
       "4                                          1549                         250   \n",
       "\n",
       "   Samhällsbyggnad och byggteknik  Säkerhetstjänster  Teknik och tillverkning  \\\n",
       "0                            1406                267                     3920   \n",
       "1                            1947                425                     4310   \n",
       "2                            2388                565                     4928   \n",
       "3                            2641                626                     5563   \n",
       "4                            3183                629                     6511   \n",
       "\n",
       "   Transporttjänster Övrigt  Totalt  \n",
       "0                822     ..   24789  \n",
       "1               1104     ..   29556  \n",
       "2               1357     ..   33684  \n",
       "3               1590     29   36657  \n",
       "4               1696     59   39417  "
      ]
     },
     "execution_count": 4,
     "metadata": {},
     "output_type": "execute_result"
    }
   ],
   "source": [
    "df3 = pd.read_excel(\"data/Antalet studerande i YH inom olika utbildningsområden 2012-2024.xlsx\")\n",
    "df3.head()"
   ]
  },
  {
   "cell_type": "code",
   "execution_count": 12,
   "id": "2bca5dcf",
   "metadata": {},
   "outputs": [
    {
     "data": {
      "text/plain": [
       "np.int64(2587)"
      ]
     },
     "execution_count": 12,
     "metadata": {},
     "output_type": "execute_result"
    }
   ],
   "source": [
    "#df3.replace('..', pd.NA, inplace=True)\n",
    "#df3.to_excel(\"cleaned_dataset.xlsx\", index=False)\n",
    "\n",
    "# Get number of students in Data/IT in 2005\n",
    "data_it_2005 = df3.loc[df3['År'] == 2005, 'Data/It'].values[0]\n",
    "data_it_2005\n",
    "\n"
   ]
  },
  {
   "cell_type": "code",
   "execution_count": 25,
   "id": "9a1ec54d",
   "metadata": {},
   "outputs": [
    {
     "data": {
      "text/html": [
       "<div>\n",
       "<style scoped>\n",
       "    .dataframe tbody tr th:only-of-type {\n",
       "        vertical-align: middle;\n",
       "    }\n",
       "\n",
       "    .dataframe tbody tr th {\n",
       "        vertical-align: top;\n",
       "    }\n",
       "\n",
       "    .dataframe thead th {\n",
       "        text-align: right;\n",
       "    }\n",
       "</style>\n",
       "<table border=\"1\" class=\"dataframe\">\n",
       "  <thead>\n",
       "    <tr style=\"text-align: right;\">\n",
       "      <th></th>\n",
       "      <th>Data/It</th>\n",
       "    </tr>\n",
       "  </thead>\n",
       "  <tbody>\n",
       "    <tr>\n",
       "      <th>0</th>\n",
       "      <td>2587</td>\n",
       "    </tr>\n",
       "  </tbody>\n",
       "</table>\n",
       "</div>"
      ],
      "text/plain": [
       "   Data/It\n",
       "0     2587"
      ]
     },
     "execution_count": 25,
     "metadata": {},
     "output_type": "execute_result"
    }
   ],
   "source": [
    "import duckdb \n",
    "\n",
    "test = duckdb.query(\"\"\"\n",
    "SELECT \"Data/It\"\n",
    "FROM df3\n",
    "WHERE År = 2005\n",
    "\"\"\").df()\n",
    "\n",
    "test\n",
    "\n",
    "\n"
   ]
  },
  {
   "cell_type": "code",
   "execution_count": null,
   "id": "f2dc9f11",
   "metadata": {},
   "outputs": [],
   "source": [
    "import pandas as pd\n",
    "import plotly.express as px\n",
    "\n",
    "df = pd.read_excel(\"data/Utbildningsansökning_age.xlsx\", sheet_name='Education')\n",
    "\n",
    "# Clean and convert numbers (remove spaces and convert to int)\n",
    "for col in ['Total', 'Women', 'Men']:\n",
    "    df[col] = df[col].astype(str).str.replace(' ', '').astype(int)\n",
    "\n",
    "# Filter for the most recent year (2024)\n",
    "df_2024 = df[df['Year'] == 2024]\n",
    "\n",
    "# Create the overlapping horizontal bar chart\n",
    "fig = px.bar(\n",
    "    df_2024.melt(id_vars=['Education'], value_vars=['Women', 'Men'], var_name='Gender', value_name='Applicants'),\n",
    "    x='Applicants',\n",
    "    y='Education',\n",
    "    color='Gender',\n",
    "    barmode='overlay',\n",
    "    orientation='h',\n",
    "    title='Men vs Women Applicants per Education Field (2024)'\n",
    ")\n",
    "\n",
    "fig.update_layout(\n",
    "    height=700,\n",
    "    xaxis_title='Number of Applicants',\n",
    "    yaxis_title='Education Field',\n",
    "    legend_title='Gender'\n",
    ")\n",
    "\n",
    "fig.show()\n"
   ]
  },
  {
   "cell_type": "code",
   "execution_count": 49,
   "id": "9f2a0e0a",
   "metadata": {},
   "outputs": [
    {
     "data": {
      "application/vnd.plotly.v1+json": {
       "config": {
        "plotlyServerURL": "https://plot.ly"
       },
       "data": [
        {
         "hovertemplate": "Gender=Women<br>Applicants=%{x}<br>Education=%{y}<extra></extra>",
         "legendgroup": "Women",
         "marker": {
          "color": "lightblue",
          "opacity": 0.5,
          "pattern": {
           "shape": ""
          }
         },
         "name": "Women",
         "orientation": "h",
         "showlegend": true,
         "textposition": "auto",
         "type": "bar",
         "x": {
          "bdata": "9wUAAEkJAACVBAAALBUAABEUAACxJQAAKhwAADojAADeYQAAtokAAA==",
          "dtype": "i4"
         },
         "xaxis": "x",
         "y": [
          "Journalistik och information",
          "Lantbruk, djurvård, trädgård, skog och fiske",
          "Transporttjänster",
          "Hotell, restaurang och turism",
          "Kultur, media och design",
          "Samhällsbyggnad och byggteknik",
          "Teknik och tillverkning",
          "Data/IT",
          "Hälso- och sjukvård samt socialt arbete",
          "Ekonomi, administration och försäljning"
         ],
         "yaxis": "y"
        },
        {
         "hovertemplate": "Gender=Men<br>Applicants=%{x}<br>Education=%{y}<extra></extra>",
         "legendgroup": "Men",
         "marker": {
          "color": "grey",
          "opacity": 0.5,
          "pattern": {
           "shape": ""
          }
         },
         "name": "Men",
         "orientation": "h",
         "showlegend": true,
         "textposition": "auto",
         "type": "bar",
         "x": {
          "bdata": "iAGZA4gLtwb6ECM7pEYuQG0OYDE=",
          "dtype": "i2"
         },
         "xaxis": "x",
         "y": [
          "Journalistik och information",
          "Lantbruk, djurvård, trädgård, skog och fiske",
          "Transporttjänster",
          "Hotell, restaurang och turism",
          "Kultur, media och design",
          "Samhällsbyggnad och byggteknik",
          "Teknik och tillverkning",
          "Data/IT",
          "Hälso- och sjukvård samt socialt arbete",
          "Ekonomi, administration och försäljning"
         ],
         "yaxis": "y"
        }
       ],
       "layout": {
        "barmode": "overlay",
        "height": 700,
        "hoverlabel": {
         "bgcolor": "darkblue",
         "bordercolor": "black",
         "font": {
          "color": "white",
          "family": "Inter",
          "size": 15
         }
        },
        "legend": {
         "title": {
          "text": "Gender"
         },
         "tracegroupgap": 0
        },
        "paper_bgcolor": "white",
        "plot_bgcolor": "white",
        "template": {
         "data": {
          "bar": [
           {
            "error_x": {
             "color": "#2a3f5f"
            },
            "error_y": {
             "color": "#2a3f5f"
            },
            "marker": {
             "line": {
              "color": "#E5ECF6",
              "width": 0.5
             },
             "pattern": {
              "fillmode": "overlay",
              "size": 10,
              "solidity": 0.2
             }
            },
            "type": "bar"
           }
          ],
          "barpolar": [
           {
            "marker": {
             "line": {
              "color": "#E5ECF6",
              "width": 0.5
             },
             "pattern": {
              "fillmode": "overlay",
              "size": 10,
              "solidity": 0.2
             }
            },
            "type": "barpolar"
           }
          ],
          "carpet": [
           {
            "aaxis": {
             "endlinecolor": "#2a3f5f",
             "gridcolor": "white",
             "linecolor": "white",
             "minorgridcolor": "white",
             "startlinecolor": "#2a3f5f"
            },
            "baxis": {
             "endlinecolor": "#2a3f5f",
             "gridcolor": "white",
             "linecolor": "white",
             "minorgridcolor": "white",
             "startlinecolor": "#2a3f5f"
            },
            "type": "carpet"
           }
          ],
          "choropleth": [
           {
            "colorbar": {
             "outlinewidth": 0,
             "ticks": ""
            },
            "type": "choropleth"
           }
          ],
          "contour": [
           {
            "colorbar": {
             "outlinewidth": 0,
             "ticks": ""
            },
            "colorscale": [
             [
              0,
              "#0d0887"
             ],
             [
              0.1111111111111111,
              "#46039f"
             ],
             [
              0.2222222222222222,
              "#7201a8"
             ],
             [
              0.3333333333333333,
              "#9c179e"
             ],
             [
              0.4444444444444444,
              "#bd3786"
             ],
             [
              0.5555555555555556,
              "#d8576b"
             ],
             [
              0.6666666666666666,
              "#ed7953"
             ],
             [
              0.7777777777777778,
              "#fb9f3a"
             ],
             [
              0.8888888888888888,
              "#fdca26"
             ],
             [
              1,
              "#f0f921"
             ]
            ],
            "type": "contour"
           }
          ],
          "contourcarpet": [
           {
            "colorbar": {
             "outlinewidth": 0,
             "ticks": ""
            },
            "type": "contourcarpet"
           }
          ],
          "heatmap": [
           {
            "colorbar": {
             "outlinewidth": 0,
             "ticks": ""
            },
            "colorscale": [
             [
              0,
              "#0d0887"
             ],
             [
              0.1111111111111111,
              "#46039f"
             ],
             [
              0.2222222222222222,
              "#7201a8"
             ],
             [
              0.3333333333333333,
              "#9c179e"
             ],
             [
              0.4444444444444444,
              "#bd3786"
             ],
             [
              0.5555555555555556,
              "#d8576b"
             ],
             [
              0.6666666666666666,
              "#ed7953"
             ],
             [
              0.7777777777777778,
              "#fb9f3a"
             ],
             [
              0.8888888888888888,
              "#fdca26"
             ],
             [
              1,
              "#f0f921"
             ]
            ],
            "type": "heatmap"
           }
          ],
          "histogram": [
           {
            "marker": {
             "pattern": {
              "fillmode": "overlay",
              "size": 10,
              "solidity": 0.2
             }
            },
            "type": "histogram"
           }
          ],
          "histogram2d": [
           {
            "colorbar": {
             "outlinewidth": 0,
             "ticks": ""
            },
            "colorscale": [
             [
              0,
              "#0d0887"
             ],
             [
              0.1111111111111111,
              "#46039f"
             ],
             [
              0.2222222222222222,
              "#7201a8"
             ],
             [
              0.3333333333333333,
              "#9c179e"
             ],
             [
              0.4444444444444444,
              "#bd3786"
             ],
             [
              0.5555555555555556,
              "#d8576b"
             ],
             [
              0.6666666666666666,
              "#ed7953"
             ],
             [
              0.7777777777777778,
              "#fb9f3a"
             ],
             [
              0.8888888888888888,
              "#fdca26"
             ],
             [
              1,
              "#f0f921"
             ]
            ],
            "type": "histogram2d"
           }
          ],
          "histogram2dcontour": [
           {
            "colorbar": {
             "outlinewidth": 0,
             "ticks": ""
            },
            "colorscale": [
             [
              0,
              "#0d0887"
             ],
             [
              0.1111111111111111,
              "#46039f"
             ],
             [
              0.2222222222222222,
              "#7201a8"
             ],
             [
              0.3333333333333333,
              "#9c179e"
             ],
             [
              0.4444444444444444,
              "#bd3786"
             ],
             [
              0.5555555555555556,
              "#d8576b"
             ],
             [
              0.6666666666666666,
              "#ed7953"
             ],
             [
              0.7777777777777778,
              "#fb9f3a"
             ],
             [
              0.8888888888888888,
              "#fdca26"
             ],
             [
              1,
              "#f0f921"
             ]
            ],
            "type": "histogram2dcontour"
           }
          ],
          "mesh3d": [
           {
            "colorbar": {
             "outlinewidth": 0,
             "ticks": ""
            },
            "type": "mesh3d"
           }
          ],
          "parcoords": [
           {
            "line": {
             "colorbar": {
              "outlinewidth": 0,
              "ticks": ""
             }
            },
            "type": "parcoords"
           }
          ],
          "pie": [
           {
            "automargin": true,
            "type": "pie"
           }
          ],
          "scatter": [
           {
            "fillpattern": {
             "fillmode": "overlay",
             "size": 10,
             "solidity": 0.2
            },
            "type": "scatter"
           }
          ],
          "scatter3d": [
           {
            "line": {
             "colorbar": {
              "outlinewidth": 0,
              "ticks": ""
             }
            },
            "marker": {
             "colorbar": {
              "outlinewidth": 0,
              "ticks": ""
             }
            },
            "type": "scatter3d"
           }
          ],
          "scattercarpet": [
           {
            "marker": {
             "colorbar": {
              "outlinewidth": 0,
              "ticks": ""
             }
            },
            "type": "scattercarpet"
           }
          ],
          "scattergeo": [
           {
            "marker": {
             "colorbar": {
              "outlinewidth": 0,
              "ticks": ""
             }
            },
            "type": "scattergeo"
           }
          ],
          "scattergl": [
           {
            "marker": {
             "colorbar": {
              "outlinewidth": 0,
              "ticks": ""
             }
            },
            "type": "scattergl"
           }
          ],
          "scattermap": [
           {
            "marker": {
             "colorbar": {
              "outlinewidth": 0,
              "ticks": ""
             }
            },
            "type": "scattermap"
           }
          ],
          "scattermapbox": [
           {
            "marker": {
             "colorbar": {
              "outlinewidth": 0,
              "ticks": ""
             }
            },
            "type": "scattermapbox"
           }
          ],
          "scatterpolar": [
           {
            "marker": {
             "colorbar": {
              "outlinewidth": 0,
              "ticks": ""
             }
            },
            "type": "scatterpolar"
           }
          ],
          "scatterpolargl": [
           {
            "marker": {
             "colorbar": {
              "outlinewidth": 0,
              "ticks": ""
             }
            },
            "type": "scatterpolargl"
           }
          ],
          "scatterternary": [
           {
            "marker": {
             "colorbar": {
              "outlinewidth": 0,
              "ticks": ""
             }
            },
            "type": "scatterternary"
           }
          ],
          "surface": [
           {
            "colorbar": {
             "outlinewidth": 0,
             "ticks": ""
            },
            "colorscale": [
             [
              0,
              "#0d0887"
             ],
             [
              0.1111111111111111,
              "#46039f"
             ],
             [
              0.2222222222222222,
              "#7201a8"
             ],
             [
              0.3333333333333333,
              "#9c179e"
             ],
             [
              0.4444444444444444,
              "#bd3786"
             ],
             [
              0.5555555555555556,
              "#d8576b"
             ],
             [
              0.6666666666666666,
              "#ed7953"
             ],
             [
              0.7777777777777778,
              "#fb9f3a"
             ],
             [
              0.8888888888888888,
              "#fdca26"
             ],
             [
              1,
              "#f0f921"
             ]
            ],
            "type": "surface"
           }
          ],
          "table": [
           {
            "cells": {
             "fill": {
              "color": "#EBF0F8"
             },
             "line": {
              "color": "white"
             }
            },
            "header": {
             "fill": {
              "color": "#C8D4E3"
             },
             "line": {
              "color": "white"
             }
            },
            "type": "table"
           }
          ]
         },
         "layout": {
          "annotationdefaults": {
           "arrowcolor": "#2a3f5f",
           "arrowhead": 0,
           "arrowwidth": 1
          },
          "autotypenumbers": "strict",
          "coloraxis": {
           "colorbar": {
            "outlinewidth": 0,
            "ticks": ""
           }
          },
          "colorscale": {
           "diverging": [
            [
             0,
             "#8e0152"
            ],
            [
             0.1,
             "#c51b7d"
            ],
            [
             0.2,
             "#de77ae"
            ],
            [
             0.3,
             "#f1b6da"
            ],
            [
             0.4,
             "#fde0ef"
            ],
            [
             0.5,
             "#f7f7f7"
            ],
            [
             0.6,
             "#e6f5d0"
            ],
            [
             0.7,
             "#b8e186"
            ],
            [
             0.8,
             "#7fbc41"
            ],
            [
             0.9,
             "#4d9221"
            ],
            [
             1,
             "#276419"
            ]
           ],
           "sequential": [
            [
             0,
             "#0d0887"
            ],
            [
             0.1111111111111111,
             "#46039f"
            ],
            [
             0.2222222222222222,
             "#7201a8"
            ],
            [
             0.3333333333333333,
             "#9c179e"
            ],
            [
             0.4444444444444444,
             "#bd3786"
            ],
            [
             0.5555555555555556,
             "#d8576b"
            ],
            [
             0.6666666666666666,
             "#ed7953"
            ],
            [
             0.7777777777777778,
             "#fb9f3a"
            ],
            [
             0.8888888888888888,
             "#fdca26"
            ],
            [
             1,
             "#f0f921"
            ]
           ],
           "sequentialminus": [
            [
             0,
             "#0d0887"
            ],
            [
             0.1111111111111111,
             "#46039f"
            ],
            [
             0.2222222222222222,
             "#7201a8"
            ],
            [
             0.3333333333333333,
             "#9c179e"
            ],
            [
             0.4444444444444444,
             "#bd3786"
            ],
            [
             0.5555555555555556,
             "#d8576b"
            ],
            [
             0.6666666666666666,
             "#ed7953"
            ],
            [
             0.7777777777777778,
             "#fb9f3a"
            ],
            [
             0.8888888888888888,
             "#fdca26"
            ],
            [
             1,
             "#f0f921"
            ]
           ]
          },
          "colorway": [
           "#636efa",
           "#EF553B",
           "#00cc96",
           "#ab63fa",
           "#FFA15A",
           "#19d3f3",
           "#FF6692",
           "#B6E880",
           "#FF97FF",
           "#FECB52"
          ],
          "font": {
           "color": "#2a3f5f"
          },
          "geo": {
           "bgcolor": "white",
           "lakecolor": "white",
           "landcolor": "#E5ECF6",
           "showlakes": true,
           "showland": true,
           "subunitcolor": "white"
          },
          "hoverlabel": {
           "align": "left"
          },
          "hovermode": "closest",
          "mapbox": {
           "style": "light"
          },
          "paper_bgcolor": "white",
          "plot_bgcolor": "#E5ECF6",
          "polar": {
           "angularaxis": {
            "gridcolor": "white",
            "linecolor": "white",
            "ticks": ""
           },
           "bgcolor": "#E5ECF6",
           "radialaxis": {
            "gridcolor": "white",
            "linecolor": "white",
            "ticks": ""
           }
          },
          "scene": {
           "xaxis": {
            "backgroundcolor": "#E5ECF6",
            "gridcolor": "white",
            "gridwidth": 2,
            "linecolor": "white",
            "showbackground": true,
            "ticks": "",
            "zerolinecolor": "white"
           },
           "yaxis": {
            "backgroundcolor": "#E5ECF6",
            "gridcolor": "white",
            "gridwidth": 2,
            "linecolor": "white",
            "showbackground": true,
            "ticks": "",
            "zerolinecolor": "white"
           },
           "zaxis": {
            "backgroundcolor": "#E5ECF6",
            "gridcolor": "white",
            "gridwidth": 2,
            "linecolor": "white",
            "showbackground": true,
            "ticks": "",
            "zerolinecolor": "white"
           }
          },
          "shapedefaults": {
           "line": {
            "color": "#2a3f5f"
           }
          },
          "ternary": {
           "aaxis": {
            "gridcolor": "white",
            "linecolor": "white",
            "ticks": ""
           },
           "baxis": {
            "gridcolor": "white",
            "linecolor": "white",
            "ticks": ""
           },
           "bgcolor": "#E5ECF6",
           "caxis": {
            "gridcolor": "white",
            "linecolor": "white",
            "ticks": ""
           }
          },
          "title": {
           "x": 0.05
          },
          "xaxis": {
           "automargin": true,
           "gridcolor": "white",
           "linecolor": "white",
           "ticks": "",
           "title": {
            "standoff": 15
           },
           "zerolinecolor": "white",
           "zerolinewidth": 2
          },
          "yaxis": {
           "automargin": true,
           "gridcolor": "white",
           "linecolor": "white",
           "ticks": "",
           "title": {
            "standoff": 15
           },
           "zerolinecolor": "white",
           "zerolinewidth": 2
          }
         }
        },
        "title": {
         "font": {
          "color": "#334850",
          "size": 20
         },
         "text": "Men vs Women Applicants per Education Field (2023 & 2024) - Top 10"
        },
        "xaxis": {
         "anchor": "y",
         "domain": [
          0,
          1
         ],
         "linecolor": "black",
         "linewidth": 1,
         "mirror": false,
         "showline": true,
         "showticklabels": true,
         "ticks": "outside",
         "title": {
          "text": ""
         }
        },
        "yaxis": {
         "anchor": "x",
         "domain": [
          0,
          1
         ],
         "tickfont": {
          "color": "#334850",
          "size": 13
         },
         "title": {
          "text": ""
         }
        }
       }
      }
     },
     "metadata": {},
     "output_type": "display_data"
    }
   ],
   "source": [
    "import pandas as pd\n",
    "import plotly.express as px\n",
    "\n",
    "df = pd.read_excel(\"data/Utbildningsansökning_age.xlsx\", sheet_name='Education')\n",
    "\n",
    "# Clean and convert numbers\n",
    "for col in ['Total', 'Women', 'Men']:\n",
    "    df[col] = df[col].astype(str).str.replace(' ', '').astype(int)\n",
    "\n",
    "# Filter for the years 2023 and 2024\n",
    "df_filtered = df[df['Year'].isin([2023, 2024])].copy()  # Create a copy to avoid the warning\n",
    "\n",
    "# Calculate total applicants per Education for both years\n",
    "df_filtered['TotalApplicants'] = df_filtered['Women'] + df_filtered['Men']\n",
    "\n",
    "# Group by Education and sum the applicants from both years\n",
    "df_grouped = df_filtered.groupby('Education').agg(\n",
    "    Women=('Women', 'sum'),\n",
    "    Men=('Men', 'sum'),\n",
    "    TotalApplicants=('TotalApplicants', 'sum')\n",
    ").reset_index()\n",
    "\n",
    "# Get top 10 education fields by total applicants\n",
    "top_10 = df_grouped.sort_values(by='TotalApplicants', ascending=True).tail(10)\n",
    "\n",
    "# Melt data for plotting\n",
    "melted = top_10.melt(\n",
    "    id_vars=['Education'],\n",
    "    value_vars=['Women', 'Men'],\n",
    "    var_name='Gender',\n",
    "    value_name='Applicants'\n",
    ")\n",
    "\n",
    "# Create the bar chart\n",
    "fig = px.bar(\n",
    "    melted,\n",
    "    x='Applicants',\n",
    "    y='Education',\n",
    "    color='Gender',\n",
    "    barmode='overlay',\n",
    "    orientation='h',\n",
    "    title='Men vs Women Applicants per Education Field (2023 & 2024) - Top 10',\n",
    "    color_discrete_map={\n",
    "        'Women': 'lightblue', \n",
    "        'Men': 'grey'  \n",
    "    },\n",
    ")\n",
    "\n",
    "fig.update_layout(\n",
    "    height=700,\n",
    "    xaxis_title='',\n",
    "    yaxis_title='',\n",
    "    legend_title='Gender', \n",
    "    paper_bgcolor='white',   # Outside the plot area\n",
    "    plot_bgcolor='white',     # Inside the plot area (behind bars)\n",
    "    title=dict(\n",
    "        text='Men vs Women Applicants per Education Field (2023 & 2024) - Top 10',\n",
    "        font=dict(color='#334850', size=20, )\n",
    "    ),\n",
    "\n",
    "    xaxis=dict(\n",
    "        showline=True,\n",
    "        linewidth=1,\n",
    "        linecolor='black',\n",
    "        mirror=False,\n",
    "        ticks='outside',\n",
    "        showticklabels=True\n",
    "    ),\n",
    "    yaxis=dict(\n",
    "        tickfont=dict(color='#334850', size=13,)),\n",
    "        #Hoverlabel settings\n",
    "        hoverlabel=dict(\n",
    "        font=dict(\n",
    "            color='white',      # Text color\n",
    "            family='Inter',     # Optional: custom font\n",
    "            size=15             # Font size\n",
    "        ),\n",
    "        bgcolor='darkblue',     # Background color of the hover box\n",
    "        bordercolor='black'     # Border color (optional)\n",
    "    )\n",
    ")\n",
    "\n",
    "fig.show()\n"
   ]
  },
  {
   "cell_type": "markdown",
   "id": "e0dc9d35",
   "metadata": {},
   "source": [
    "## Pie chart for Age ranges"
   ]
  },
  {
   "cell_type": "code",
   "execution_count": null,
   "id": "7d0678b0",
   "metadata": {},
   "outputs": [
    {
     "data": {
      "application/vnd.plotly.v1+json": {
       "config": {
        "plotlyServerURL": "https://plot.ly"
       },
       "data": [
        {
         "alignmentgroup": "True",
         "hovertemplate": "Gender=Women<br>Age groups=%{x}<br>Antal ansökningar=%{y}<extra></extra>",
         "legendgroup": "Women",
         "marker": {
          "color": "#636efa",
          "pattern": {
           "shape": ""
          }
         },
         "name": "Women",
         "offsetgroup": "Women",
         "orientation": "v",
         "showlegend": true,
         "textposition": "auto",
         "type": "bar",
         "x": [
          "24 år och yngre",
          "25-29 år",
          "30-34 år",
          "35-39 år",
          "40-44 år",
          "45 år och äldre",
          "24 år och yngre",
          "25-29 år",
          "30-34 år",
          "35-39 år",
          "40-44 år",
          "45 år och äldre",
          "24 år och yngre",
          "25-29 år",
          "30-34 år",
          "35-39 år",
          "40-44 år",
          "45 år och äldre"
         ],
         "xaxis": "x",
         "y": {
          "bdata": "ICPJIXQgiBlIEU4bvCDiH7gemRZuD+sXAyBvIUYffhYXD5sV",
          "dtype": "i2"
         },
         "yaxis": "y"
        },
        {
         "alignmentgroup": "True",
         "hovertemplate": "Gender=Men<br>Age groups=%{x}<br>Antal ansökningar=%{y}<extra></extra>",
         "legendgroup": "Men",
         "marker": {
          "color": "#EF553B",
          "pattern": {
           "shape": ""
          }
         },
         "name": "Men",
         "offsetgroup": "Men",
         "orientation": "v",
         "showlegend": true,
         "textposition": "auto",
         "type": "bar",
         "x": [
          "24 år och yngre",
          "25-29 år",
          "30-34 år",
          "35-39 år",
          "40-44 år",
          "45 år och äldre",
          "24 år och yngre",
          "25-29 år",
          "30-34 år",
          "35-39 år",
          "40-44 år",
          "45 år och äldre",
          "24 år och yngre",
          "25-29 år",
          "30-34 år",
          "35-39 år",
          "40-44 år",
          "45 år och äldre"
         ],
         "xaxis": "x",
         "y": {
          "bdata": "Uif/G+AWiw/CCfMNjiKOGSYVSA7tCEcMryAWGS8THgzJB7QJ",
          "dtype": "i2"
         },
         "yaxis": "y"
        }
       ],
       "layout": {
        "barmode": "group",
        "legend": {
         "title": {
          "text": "Gender"
         },
         "tracegroupgap": 0
        },
        "template": {
         "data": {
          "bar": [
           {
            "error_x": {
             "color": "#2a3f5f"
            },
            "error_y": {
             "color": "#2a3f5f"
            },
            "marker": {
             "line": {
              "color": "#E5ECF6",
              "width": 0.5
             },
             "pattern": {
              "fillmode": "overlay",
              "size": 10,
              "solidity": 0.2
             }
            },
            "type": "bar"
           }
          ],
          "barpolar": [
           {
            "marker": {
             "line": {
              "color": "#E5ECF6",
              "width": 0.5
             },
             "pattern": {
              "fillmode": "overlay",
              "size": 10,
              "solidity": 0.2
             }
            },
            "type": "barpolar"
           }
          ],
          "carpet": [
           {
            "aaxis": {
             "endlinecolor": "#2a3f5f",
             "gridcolor": "white",
             "linecolor": "white",
             "minorgridcolor": "white",
             "startlinecolor": "#2a3f5f"
            },
            "baxis": {
             "endlinecolor": "#2a3f5f",
             "gridcolor": "white",
             "linecolor": "white",
             "minorgridcolor": "white",
             "startlinecolor": "#2a3f5f"
            },
            "type": "carpet"
           }
          ],
          "choropleth": [
           {
            "colorbar": {
             "outlinewidth": 0,
             "ticks": ""
            },
            "type": "choropleth"
           }
          ],
          "contour": [
           {
            "colorbar": {
             "outlinewidth": 0,
             "ticks": ""
            },
            "colorscale": [
             [
              0,
              "#0d0887"
             ],
             [
              0.1111111111111111,
              "#46039f"
             ],
             [
              0.2222222222222222,
              "#7201a8"
             ],
             [
              0.3333333333333333,
              "#9c179e"
             ],
             [
              0.4444444444444444,
              "#bd3786"
             ],
             [
              0.5555555555555556,
              "#d8576b"
             ],
             [
              0.6666666666666666,
              "#ed7953"
             ],
             [
              0.7777777777777778,
              "#fb9f3a"
             ],
             [
              0.8888888888888888,
              "#fdca26"
             ],
             [
              1,
              "#f0f921"
             ]
            ],
            "type": "contour"
           }
          ],
          "contourcarpet": [
           {
            "colorbar": {
             "outlinewidth": 0,
             "ticks": ""
            },
            "type": "contourcarpet"
           }
          ],
          "heatmap": [
           {
            "colorbar": {
             "outlinewidth": 0,
             "ticks": ""
            },
            "colorscale": [
             [
              0,
              "#0d0887"
             ],
             [
              0.1111111111111111,
              "#46039f"
             ],
             [
              0.2222222222222222,
              "#7201a8"
             ],
             [
              0.3333333333333333,
              "#9c179e"
             ],
             [
              0.4444444444444444,
              "#bd3786"
             ],
             [
              0.5555555555555556,
              "#d8576b"
             ],
             [
              0.6666666666666666,
              "#ed7953"
             ],
             [
              0.7777777777777778,
              "#fb9f3a"
             ],
             [
              0.8888888888888888,
              "#fdca26"
             ],
             [
              1,
              "#f0f921"
             ]
            ],
            "type": "heatmap"
           }
          ],
          "histogram": [
           {
            "marker": {
             "pattern": {
              "fillmode": "overlay",
              "size": 10,
              "solidity": 0.2
             }
            },
            "type": "histogram"
           }
          ],
          "histogram2d": [
           {
            "colorbar": {
             "outlinewidth": 0,
             "ticks": ""
            },
            "colorscale": [
             [
              0,
              "#0d0887"
             ],
             [
              0.1111111111111111,
              "#46039f"
             ],
             [
              0.2222222222222222,
              "#7201a8"
             ],
             [
              0.3333333333333333,
              "#9c179e"
             ],
             [
              0.4444444444444444,
              "#bd3786"
             ],
             [
              0.5555555555555556,
              "#d8576b"
             ],
             [
              0.6666666666666666,
              "#ed7953"
             ],
             [
              0.7777777777777778,
              "#fb9f3a"
             ],
             [
              0.8888888888888888,
              "#fdca26"
             ],
             [
              1,
              "#f0f921"
             ]
            ],
            "type": "histogram2d"
           }
          ],
          "histogram2dcontour": [
           {
            "colorbar": {
             "outlinewidth": 0,
             "ticks": ""
            },
            "colorscale": [
             [
              0,
              "#0d0887"
             ],
             [
              0.1111111111111111,
              "#46039f"
             ],
             [
              0.2222222222222222,
              "#7201a8"
             ],
             [
              0.3333333333333333,
              "#9c179e"
             ],
             [
              0.4444444444444444,
              "#bd3786"
             ],
             [
              0.5555555555555556,
              "#d8576b"
             ],
             [
              0.6666666666666666,
              "#ed7953"
             ],
             [
              0.7777777777777778,
              "#fb9f3a"
             ],
             [
              0.8888888888888888,
              "#fdca26"
             ],
             [
              1,
              "#f0f921"
             ]
            ],
            "type": "histogram2dcontour"
           }
          ],
          "mesh3d": [
           {
            "colorbar": {
             "outlinewidth": 0,
             "ticks": ""
            },
            "type": "mesh3d"
           }
          ],
          "parcoords": [
           {
            "line": {
             "colorbar": {
              "outlinewidth": 0,
              "ticks": ""
             }
            },
            "type": "parcoords"
           }
          ],
          "pie": [
           {
            "automargin": true,
            "type": "pie"
           }
          ],
          "scatter": [
           {
            "fillpattern": {
             "fillmode": "overlay",
             "size": 10,
             "solidity": 0.2
            },
            "type": "scatter"
           }
          ],
          "scatter3d": [
           {
            "line": {
             "colorbar": {
              "outlinewidth": 0,
              "ticks": ""
             }
            },
            "marker": {
             "colorbar": {
              "outlinewidth": 0,
              "ticks": ""
             }
            },
            "type": "scatter3d"
           }
          ],
          "scattercarpet": [
           {
            "marker": {
             "colorbar": {
              "outlinewidth": 0,
              "ticks": ""
             }
            },
            "type": "scattercarpet"
           }
          ],
          "scattergeo": [
           {
            "marker": {
             "colorbar": {
              "outlinewidth": 0,
              "ticks": ""
             }
            },
            "type": "scattergeo"
           }
          ],
          "scattergl": [
           {
            "marker": {
             "colorbar": {
              "outlinewidth": 0,
              "ticks": ""
             }
            },
            "type": "scattergl"
           }
          ],
          "scattermap": [
           {
            "marker": {
             "colorbar": {
              "outlinewidth": 0,
              "ticks": ""
             }
            },
            "type": "scattermap"
           }
          ],
          "scattermapbox": [
           {
            "marker": {
             "colorbar": {
              "outlinewidth": 0,
              "ticks": ""
             }
            },
            "type": "scattermapbox"
           }
          ],
          "scatterpolar": [
           {
            "marker": {
             "colorbar": {
              "outlinewidth": 0,
              "ticks": ""
             }
            },
            "type": "scatterpolar"
           }
          ],
          "scatterpolargl": [
           {
            "marker": {
             "colorbar": {
              "outlinewidth": 0,
              "ticks": ""
             }
            },
            "type": "scatterpolargl"
           }
          ],
          "scatterternary": [
           {
            "marker": {
             "colorbar": {
              "outlinewidth": 0,
              "ticks": ""
             }
            },
            "type": "scatterternary"
           }
          ],
          "surface": [
           {
            "colorbar": {
             "outlinewidth": 0,
             "ticks": ""
            },
            "colorscale": [
             [
              0,
              "#0d0887"
             ],
             [
              0.1111111111111111,
              "#46039f"
             ],
             [
              0.2222222222222222,
              "#7201a8"
             ],
             [
              0.3333333333333333,
              "#9c179e"
             ],
             [
              0.4444444444444444,
              "#bd3786"
             ],
             [
              0.5555555555555556,
              "#d8576b"
             ],
             [
              0.6666666666666666,
              "#ed7953"
             ],
             [
              0.7777777777777778,
              "#fb9f3a"
             ],
             [
              0.8888888888888888,
              "#fdca26"
             ],
             [
              1,
              "#f0f921"
             ]
            ],
            "type": "surface"
           }
          ],
          "table": [
           {
            "cells": {
             "fill": {
              "color": "#EBF0F8"
             },
             "line": {
              "color": "white"
             }
            },
            "header": {
             "fill": {
              "color": "#C8D4E3"
             },
             "line": {
              "color": "white"
             }
            },
            "type": "table"
           }
          ]
         },
         "layout": {
          "annotationdefaults": {
           "arrowcolor": "#2a3f5f",
           "arrowhead": 0,
           "arrowwidth": 1
          },
          "autotypenumbers": "strict",
          "coloraxis": {
           "colorbar": {
            "outlinewidth": 0,
            "ticks": ""
           }
          },
          "colorscale": {
           "diverging": [
            [
             0,
             "#8e0152"
            ],
            [
             0.1,
             "#c51b7d"
            ],
            [
             0.2,
             "#de77ae"
            ],
            [
             0.3,
             "#f1b6da"
            ],
            [
             0.4,
             "#fde0ef"
            ],
            [
             0.5,
             "#f7f7f7"
            ],
            [
             0.6,
             "#e6f5d0"
            ],
            [
             0.7,
             "#b8e186"
            ],
            [
             0.8,
             "#7fbc41"
            ],
            [
             0.9,
             "#4d9221"
            ],
            [
             1,
             "#276419"
            ]
           ],
           "sequential": [
            [
             0,
             "#0d0887"
            ],
            [
             0.1111111111111111,
             "#46039f"
            ],
            [
             0.2222222222222222,
             "#7201a8"
            ],
            [
             0.3333333333333333,
             "#9c179e"
            ],
            [
             0.4444444444444444,
             "#bd3786"
            ],
            [
             0.5555555555555556,
             "#d8576b"
            ],
            [
             0.6666666666666666,
             "#ed7953"
            ],
            [
             0.7777777777777778,
             "#fb9f3a"
            ],
            [
             0.8888888888888888,
             "#fdca26"
            ],
            [
             1,
             "#f0f921"
            ]
           ],
           "sequentialminus": [
            [
             0,
             "#0d0887"
            ],
            [
             0.1111111111111111,
             "#46039f"
            ],
            [
             0.2222222222222222,
             "#7201a8"
            ],
            [
             0.3333333333333333,
             "#9c179e"
            ],
            [
             0.4444444444444444,
             "#bd3786"
            ],
            [
             0.5555555555555556,
             "#d8576b"
            ],
            [
             0.6666666666666666,
             "#ed7953"
            ],
            [
             0.7777777777777778,
             "#fb9f3a"
            ],
            [
             0.8888888888888888,
             "#fdca26"
            ],
            [
             1,
             "#f0f921"
            ]
           ]
          },
          "colorway": [
           "#636efa",
           "#EF553B",
           "#00cc96",
           "#ab63fa",
           "#FFA15A",
           "#19d3f3",
           "#FF6692",
           "#B6E880",
           "#FF97FF",
           "#FECB52"
          ],
          "font": {
           "color": "#2a3f5f"
          },
          "geo": {
           "bgcolor": "white",
           "lakecolor": "white",
           "landcolor": "#E5ECF6",
           "showlakes": true,
           "showland": true,
           "subunitcolor": "white"
          },
          "hoverlabel": {
           "align": "left"
          },
          "hovermode": "closest",
          "mapbox": {
           "style": "light"
          },
          "paper_bgcolor": "white",
          "plot_bgcolor": "#E5ECF6",
          "polar": {
           "angularaxis": {
            "gridcolor": "white",
            "linecolor": "white",
            "ticks": ""
           },
           "bgcolor": "#E5ECF6",
           "radialaxis": {
            "gridcolor": "white",
            "linecolor": "white",
            "ticks": ""
           }
          },
          "scene": {
           "xaxis": {
            "backgroundcolor": "#E5ECF6",
            "gridcolor": "white",
            "gridwidth": 2,
            "linecolor": "white",
            "showbackground": true,
            "ticks": "",
            "zerolinecolor": "white"
           },
           "yaxis": {
            "backgroundcolor": "#E5ECF6",
            "gridcolor": "white",
            "gridwidth": 2,
            "linecolor": "white",
            "showbackground": true,
            "ticks": "",
            "zerolinecolor": "white"
           },
           "zaxis": {
            "backgroundcolor": "#E5ECF6",
            "gridcolor": "white",
            "gridwidth": 2,
            "linecolor": "white",
            "showbackground": true,
            "ticks": "",
            "zerolinecolor": "white"
           }
          },
          "shapedefaults": {
           "line": {
            "color": "#2a3f5f"
           }
          },
          "ternary": {
           "aaxis": {
            "gridcolor": "white",
            "linecolor": "white",
            "ticks": ""
           },
           "baxis": {
            "gridcolor": "white",
            "linecolor": "white",
            "ticks": ""
           },
           "bgcolor": "#E5ECF6",
           "caxis": {
            "gridcolor": "white",
            "linecolor": "white",
            "ticks": ""
           }
          },
          "title": {
           "x": 0.05
          },
          "xaxis": {
           "automargin": true,
           "gridcolor": "white",
           "linecolor": "white",
           "ticks": "",
           "title": {
            "standoff": 15
           },
           "zerolinecolor": "white",
           "zerolinewidth": 2
          },
          "yaxis": {
           "automargin": true,
           "gridcolor": "white",
           "linecolor": "white",
           "ticks": "",
           "title": {
            "standoff": 15
           },
           "zerolinecolor": "white",
           "zerolinewidth": 2
          }
         }
        },
        "title": {
         "text": "Utbildningsansökningar 2024: Kvinnor vs. Män per åldersgrupp"
        },
        "xaxis": {
         "anchor": "y",
         "domain": [
          0,
          1
         ],
         "title": {
          "text": "Age groups"
         }
        },
        "yaxis": {
         "anchor": "x",
         "domain": [
          0,
          1
         ],
         "title": {
          "text": "Antal ansökningar"
         }
        }
       }
      }
     },
     "metadata": {},
     "output_type": "display_data"
    }
   ],
   "source": [
    "import pandas as pd\n",
    "import plotly.express as px\n",
    "\n",
    "# Read the data\n",
    "df = pd.read_excel(\"data/Utbildningsansökning_age.xlsx\", sheet_name=\"Age\")\n",
    "df.columns = df.columns.str.strip()\n",
    "\n",
    "# Reshape data for grouped bar chart\n",
    "df_melted = df.melt(id_vars=[\"Age groups\"], value_vars=[\"Women\", \"Men\"],\n",
    "                    var_name=\"Gender\", value_name=\"Applications\")\n",
    "\n",
    "# Create grouped bar chart\n",
    "fig = px.bar(\n",
    "    df_melted,\n",
    "    x=\"Age groups\",\n",
    "    y=\"Applications\",\n",
    "    color=\"Gender\",\n",
    "    barmode=\"group\",\n",
    "    title=\"Utbildningsansökningar 2024: Kvinnor vs. Män per åldersgrupp\",\n",
    "    labels={\"Applications\": \"Antal ansökningar\"}\n",
    ")\n",
    "\n",
    "fig.show()\n"
   ]
  }
 ],
 "metadata": {
  "kernelspec": {
   "display_name": "venv",
   "language": "python",
   "name": "python3"
  },
  "language_info": {
   "codemirror_mode": {
    "name": "ipython",
    "version": 3
   },
   "file_extension": ".py",
   "mimetype": "text/x-python",
   "name": "python",
   "nbconvert_exporter": "python",
   "pygments_lexer": "ipython3",
   "version": "3.12.5"
  }
 },
 "nbformat": 4,
 "nbformat_minor": 5
}
