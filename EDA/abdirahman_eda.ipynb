{
 "cells": [
  {
   "cell_type": "code",
   "execution_count": 3,
   "id": "02fbcfd4",
   "metadata": {},
   "outputs": [
    {
     "data": {
      "text/html": [
       "<div>\n",
       "<style scoped>\n",
       "    .dataframe tbody tr th:only-of-type {\n",
       "        vertical-align: middle;\n",
       "    }\n",
       "\n",
       "    .dataframe tbody tr th {\n",
       "        vertical-align: top;\n",
       "    }\n",
       "\n",
       "    .dataframe thead th {\n",
       "        text-align: right;\n",
       "    }\n",
       "</style>\n",
       "<table border=\"1\" class=\"dataframe\">\n",
       "  <thead>\n",
       "    <tr style=\"text-align: right;\">\n",
       "      <th></th>\n",
       "      <th>Utbildningsområde</th>\n",
       "      <th>Utbildningsnamn</th>\n",
       "      <th>Län</th>\n",
       "      <th>Kommun</th>\n",
       "      <th>Flera studiekommuner</th>\n",
       "      <th>Antal kommuner</th>\n",
       "      <th>Antal län</th>\n",
       "      <th>YH-poäng</th>\n",
       "      <th>Utbildningsanordnare administrativ enhet</th>\n",
       "      <th>Diarienummer</th>\n",
       "      <th>År</th>\n",
       "      <th>Flera kommuner</th>\n",
       "    </tr>\n",
       "  </thead>\n",
       "  <tbody>\n",
       "    <tr>\n",
       "      <th>0</th>\n",
       "      <td>Data/IT</td>\n",
       "      <td>.NET Utvecklare</td>\n",
       "      <td>Västra Götaland</td>\n",
       "      <td>Göteborg</td>\n",
       "      <td>Nej</td>\n",
       "      <td>1</td>\n",
       "      <td>1.0</td>\n",
       "      <td>400</td>\n",
       "      <td>Plushögskolan AB - Teknikhögskolan</td>\n",
       "      <td>MYH 2020/4403</td>\n",
       "      <td>2020</td>\n",
       "      <td>NaN</td>\n",
       "    </tr>\n",
       "    <tr>\n",
       "      <th>1</th>\n",
       "      <td>Data/IT</td>\n",
       "      <td>.NET-utvecklare</td>\n",
       "      <td>Stockholm</td>\n",
       "      <td>Stockholm</td>\n",
       "      <td>Nej</td>\n",
       "      <td>1</td>\n",
       "      <td>1.0</td>\n",
       "      <td>400</td>\n",
       "      <td>IT-Högskolan Stockholm AB</td>\n",
       "      <td>MYH 2020/5766</td>\n",
       "      <td>2020</td>\n",
       "      <td>NaN</td>\n",
       "    </tr>\n",
       "    <tr>\n",
       "      <th>2</th>\n",
       "      <td>Data/IT</td>\n",
       "      <td>.NET-utvecklare</td>\n",
       "      <td>Västra Götaland</td>\n",
       "      <td>Göteborg</td>\n",
       "      <td>Nej</td>\n",
       "      <td>1</td>\n",
       "      <td>1.0</td>\n",
       "      <td>400</td>\n",
       "      <td>IT-Högskolan Sverige AB</td>\n",
       "      <td>MYH 2020/5764</td>\n",
       "      <td>2020</td>\n",
       "      <td>NaN</td>\n",
       "    </tr>\n",
       "    <tr>\n",
       "      <th>3</th>\n",
       "      <td>Data/IT</td>\n",
       "      <td>Agil Javautvecklare</td>\n",
       "      <td>Gävleborg</td>\n",
       "      <td>Gävle</td>\n",
       "      <td>Nej</td>\n",
       "      <td>1</td>\n",
       "      <td>1.0</td>\n",
       "      <td>400</td>\n",
       "      <td>Edugrade AB</td>\n",
       "      <td>MYH 2020/5827</td>\n",
       "      <td>2020</td>\n",
       "      <td>NaN</td>\n",
       "    </tr>\n",
       "    <tr>\n",
       "      <th>4</th>\n",
       "      <td>Data/IT</td>\n",
       "      <td>Agil projektledare</td>\n",
       "      <td>Skåne</td>\n",
       "      <td>Malmö</td>\n",
       "      <td>Nej</td>\n",
       "      <td>1</td>\n",
       "      <td>1.0</td>\n",
       "      <td>225</td>\n",
       "      <td>IHM Business School AB Malmö</td>\n",
       "      <td>MYH 2020/5354</td>\n",
       "      <td>2020</td>\n",
       "      <td>NaN</td>\n",
       "    </tr>\n",
       "    <tr>\n",
       "      <th>...</th>\n",
       "      <td>...</td>\n",
       "      <td>...</td>\n",
       "      <td>...</td>\n",
       "      <td>...</td>\n",
       "      <td>...</td>\n",
       "      <td>...</td>\n",
       "      <td>...</td>\n",
       "      <td>...</td>\n",
       "      <td>...</td>\n",
       "      <td>...</td>\n",
       "      <td>...</td>\n",
       "      <td>...</td>\n",
       "    </tr>\n",
       "    <tr>\n",
       "      <th>1382</th>\n",
       "      <td>Transporttjänster</td>\n",
       "      <td>Skärgårdskapten, Stocksund</td>\n",
       "      <td>Stockholm</td>\n",
       "      <td>Danderyd</td>\n",
       "      <td>NaN</td>\n",
       "      <td>1</td>\n",
       "      <td>NaN</td>\n",
       "      <td>400</td>\n",
       "      <td>Klart Skepp Marinteknik AB</td>\n",
       "      <td>MYH 2023/4188</td>\n",
       "      <td>2023</td>\n",
       "      <td>Nej</td>\n",
       "    </tr>\n",
       "    <tr>\n",
       "      <th>1383</th>\n",
       "      <td>Transporttjänster</td>\n",
       "      <td>Sustainable Logistics Specialist</td>\n",
       "      <td>Skåne</td>\n",
       "      <td>Malmö</td>\n",
       "      <td>NaN</td>\n",
       "      <td>1</td>\n",
       "      <td>NaN</td>\n",
       "      <td>400</td>\n",
       "      <td>Stockholms Internationella Handelsskola i Malm...</td>\n",
       "      <td>MYH 2023/3664</td>\n",
       "      <td>2023</td>\n",
       "      <td>Nej</td>\n",
       "    </tr>\n",
       "    <tr>\n",
       "      <th>1384</th>\n",
       "      <td>Transporttjänster</td>\n",
       "      <td>UAS-pilot inom kategorin SPECIFIK</td>\n",
       "      <td>Skåne</td>\n",
       "      <td>Klippan</td>\n",
       "      <td>NaN</td>\n",
       "      <td>1</td>\n",
       "      <td>NaN</td>\n",
       "      <td>150</td>\n",
       "      <td>Folkuniversitetet - Kursverksamheten vid Lunds...</td>\n",
       "      <td>MYH 2023/4323</td>\n",
       "      <td>2023</td>\n",
       "      <td>Nej</td>\n",
       "    </tr>\n",
       "    <tr>\n",
       "      <th>1385</th>\n",
       "      <td>Transporttjänster</td>\n",
       "      <td>Värdeskapande logistik</td>\n",
       "      <td>Jönköping</td>\n",
       "      <td>Jönköping</td>\n",
       "      <td>NaN</td>\n",
       "      <td>1</td>\n",
       "      <td>NaN</td>\n",
       "      <td>400</td>\n",
       "      <td>Tekniska Högskolan i Jönköping AB</td>\n",
       "      <td>MYH 2023/4125</td>\n",
       "      <td>2023</td>\n",
       "      <td>Nej</td>\n",
       "    </tr>\n",
       "    <tr>\n",
       "      <th>1386</th>\n",
       "      <td>Övrigt</td>\n",
       "      <td>Fördjupad lärlingsutbildning inom traditionell...</td>\n",
       "      <td>Stockholm</td>\n",
       "      <td>Stockholm</td>\n",
       "      <td>NaN</td>\n",
       "      <td>1</td>\n",
       "      <td>NaN</td>\n",
       "      <td>600</td>\n",
       "      <td>Hantverksakademin i Sverige AB</td>\n",
       "      <td>MYH 2023/3091</td>\n",
       "      <td>2023</td>\n",
       "      <td>Nej</td>\n",
       "    </tr>\n",
       "  </tbody>\n",
       "</table>\n",
       "<p>1387 rows × 12 columns</p>\n",
       "</div>"
      ],
      "text/plain": [
       "      Utbildningsområde                                    Utbildningsnamn  \\\n",
       "0               Data/IT                                   .NET Utvecklare    \n",
       "1               Data/IT                                    .NET-utvecklare   \n",
       "2               Data/IT                                    .NET-utvecklare   \n",
       "3               Data/IT                                Agil Javautvecklare   \n",
       "4               Data/IT                                 Agil projektledare   \n",
       "...                 ...                                                ...   \n",
       "1382  Transporttjänster                         Skärgårdskapten, Stocksund   \n",
       "1383  Transporttjänster                   Sustainable Logistics Specialist   \n",
       "1384  Transporttjänster                  UAS-pilot inom kategorin SPECIFIK   \n",
       "1385  Transporttjänster                             Värdeskapande logistik   \n",
       "1386             Övrigt  Fördjupad lärlingsutbildning inom traditionell...   \n",
       "\n",
       "                  Län     Kommun Flera studiekommuner  Antal kommuner  \\\n",
       "0     Västra Götaland   Göteborg                  Nej               1   \n",
       "1           Stockholm  Stockholm                  Nej               1   \n",
       "2     Västra Götaland   Göteborg                  Nej               1   \n",
       "3           Gävleborg      Gävle                  Nej               1   \n",
       "4               Skåne      Malmö                  Nej               1   \n",
       "...               ...        ...                  ...             ...   \n",
       "1382        Stockholm   Danderyd                  NaN               1   \n",
       "1383            Skåne      Malmö                  NaN               1   \n",
       "1384            Skåne    Klippan                  NaN               1   \n",
       "1385        Jönköping  Jönköping                  NaN               1   \n",
       "1386        Stockholm  Stockholm                  NaN               1   \n",
       "\n",
       "      Antal län  YH-poäng           Utbildningsanordnare administrativ enhet  \\\n",
       "0           1.0       400                 Plushögskolan AB - Teknikhögskolan   \n",
       "1           1.0       400                          IT-Högskolan Stockholm AB   \n",
       "2           1.0       400                            IT-Högskolan Sverige AB   \n",
       "3           1.0       400                                        Edugrade AB   \n",
       "4           1.0       225                       IHM Business School AB Malmö   \n",
       "...         ...       ...                                                ...   \n",
       "1382        NaN       400                         Klart Skepp Marinteknik AB   \n",
       "1383        NaN       400  Stockholms Internationella Handelsskola i Malm...   \n",
       "1384        NaN       150  Folkuniversitetet - Kursverksamheten vid Lunds...   \n",
       "1385        NaN       400                  Tekniska Högskolan i Jönköping AB   \n",
       "1386        NaN       600                     Hantverksakademin i Sverige AB   \n",
       "\n",
       "       Diarienummer    År Flera kommuner  \n",
       "0     MYH 2020/4403  2020            NaN  \n",
       "1     MYH 2020/5766  2020            NaN  \n",
       "2     MYH 2020/5764  2020            NaN  \n",
       "3     MYH 2020/5827  2020            NaN  \n",
       "4     MYH 2020/5354  2020            NaN  \n",
       "...             ...   ...            ...  \n",
       "1382  MYH 2023/4188  2023            Nej  \n",
       "1383  MYH 2023/3664  2023            Nej  \n",
       "1384  MYH 2023/4323  2023            Nej  \n",
       "1385  MYH 2023/4125  2023            Nej  \n",
       "1386  MYH 2023/3091  2023            Nej  \n",
       "\n",
       "[1387 rows x 12 columns]"
      ]
     },
     "execution_count": 3,
     "metadata": {},
     "output_type": "execute_result"
    }
   ],
   "source": [
    "import pandas as pd\n",
    "import plotly.express as px\n",
    "\n",
    "df = pd.read_excel('data/Ansökningsomgångar2020-2024.xlsx')\n",
    "\n",
    "df"
   ]
  },
  {
   "cell_type": "code",
   "execution_count": 7,
   "id": "6edede6f",
   "metadata": {},
   "outputs": [
    {
     "data": {
      "text/html": [
       "<div>\n",
       "<style scoped>\n",
       "    .dataframe tbody tr th:only-of-type {\n",
       "        vertical-align: middle;\n",
       "    }\n",
       "\n",
       "    .dataframe tbody tr th {\n",
       "        vertical-align: top;\n",
       "    }\n",
       "\n",
       "    .dataframe thead th {\n",
       "        text-align: right;\n",
       "    }\n",
       "</style>\n",
       "<table border=\"1\" class=\"dataframe\">\n",
       "  <thead>\n",
       "    <tr style=\"text-align: right;\">\n",
       "      <th></th>\n",
       "      <th>Antal beviljade platser start 2024</th>\n",
       "      <th>Antal beviljade platser start och slut 2024</th>\n",
       "      <th>Antal beviljade platser start 2025</th>\n",
       "      <th>Totalt antal beviljade platser</th>\n",
       "      <th>YH-poäng</th>\n",
       "      <th>Antal kommuner</th>\n",
       "      <th>Antal län</th>\n",
       "      <th>Antal FA-regioner</th>\n",
       "    </tr>\n",
       "  </thead>\n",
       "  <tbody>\n",
       "    <tr>\n",
       "      <th>count</th>\n",
       "      <td>880.000000</td>\n",
       "      <td>880.000000</td>\n",
       "      <td>880.000000</td>\n",
       "      <td>880.000000</td>\n",
       "      <td>880.000000</td>\n",
       "      <td>880.000000</td>\n",
       "      <td>880.000000</td>\n",
       "      <td>880.000000</td>\n",
       "    </tr>\n",
       "    <tr>\n",
       "      <th>mean</th>\n",
       "      <td>9.462500</td>\n",
       "      <td>8.592045</td>\n",
       "      <td>9.171591</td>\n",
       "      <td>27.226136</td>\n",
       "      <td>41.563636</td>\n",
       "      <td>1.365909</td>\n",
       "      <td>1.343182</td>\n",
       "      <td>1.343182</td>\n",
       "    </tr>\n",
       "    <tr>\n",
       "      <th>std</th>\n",
       "      <td>17.835768</td>\n",
       "      <td>16.118678</td>\n",
       "      <td>17.092104</td>\n",
       "      <td>33.113759</td>\n",
       "      <td>19.014169</td>\n",
       "      <td>0.896319</td>\n",
       "      <td>0.862807</td>\n",
       "      <td>0.870682</td>\n",
       "    </tr>\n",
       "    <tr>\n",
       "      <th>min</th>\n",
       "      <td>0.000000</td>\n",
       "      <td>0.000000</td>\n",
       "      <td>0.000000</td>\n",
       "      <td>0.000000</td>\n",
       "      <td>10.000000</td>\n",
       "      <td>1.000000</td>\n",
       "      <td>1.000000</td>\n",
       "      <td>1.000000</td>\n",
       "    </tr>\n",
       "    <tr>\n",
       "      <th>25%</th>\n",
       "      <td>0.000000</td>\n",
       "      <td>0.000000</td>\n",
       "      <td>0.000000</td>\n",
       "      <td>0.000000</td>\n",
       "      <td>30.000000</td>\n",
       "      <td>1.000000</td>\n",
       "      <td>1.000000</td>\n",
       "      <td>1.000000</td>\n",
       "    </tr>\n",
       "    <tr>\n",
       "      <th>50%</th>\n",
       "      <td>0.000000</td>\n",
       "      <td>0.000000</td>\n",
       "      <td>0.000000</td>\n",
       "      <td>16.500000</td>\n",
       "      <td>40.000000</td>\n",
       "      <td>1.000000</td>\n",
       "      <td>1.000000</td>\n",
       "      <td>1.000000</td>\n",
       "    </tr>\n",
       "    <tr>\n",
       "      <th>75%</th>\n",
       "      <td>2.500000</td>\n",
       "      <td>4.750000</td>\n",
       "      <td>2.500000</td>\n",
       "      <td>48.500000</td>\n",
       "      <td>50.000000</td>\n",
       "      <td>1.000000</td>\n",
       "      <td>1.000000</td>\n",
       "      <td>1.000000</td>\n",
       "    </tr>\n",
       "    <tr>\n",
       "      <th>max</th>\n",
       "      <td>100.000000</td>\n",
       "      <td>80.000000</td>\n",
       "      <td>80.000000</td>\n",
       "      <td>160.000000</td>\n",
       "      <td>99.000000</td>\n",
       "      <td>5.000000</td>\n",
       "      <td>5.000000</td>\n",
       "      <td>5.000000</td>\n",
       "    </tr>\n",
       "  </tbody>\n",
       "</table>\n",
       "</div>"
      ],
      "text/plain": [
       "       Antal beviljade platser start 2024  \\\n",
       "count                          880.000000   \n",
       "mean                             9.462500   \n",
       "std                             17.835768   \n",
       "min                              0.000000   \n",
       "25%                              0.000000   \n",
       "50%                              0.000000   \n",
       "75%                              2.500000   \n",
       "max                            100.000000   \n",
       "\n",
       "       Antal beviljade platser start och slut 2024  \\\n",
       "count                                   880.000000   \n",
       "mean                                      8.592045   \n",
       "std                                      16.118678   \n",
       "min                                       0.000000   \n",
       "25%                                       0.000000   \n",
       "50%                                       0.000000   \n",
       "75%                                       4.750000   \n",
       "max                                      80.000000   \n",
       "\n",
       "       Antal beviljade platser start 2025  Totalt antal beviljade platser  \\\n",
       "count                          880.000000                      880.000000   \n",
       "mean                             9.171591                       27.226136   \n",
       "std                             17.092104                       33.113759   \n",
       "min                              0.000000                        0.000000   \n",
       "25%                              0.000000                        0.000000   \n",
       "50%                              0.000000                       16.500000   \n",
       "75%                              2.500000                       48.500000   \n",
       "max                             80.000000                      160.000000   \n",
       "\n",
       "         YH-poäng  Antal kommuner   Antal län  Antal FA-regioner  \n",
       "count  880.000000      880.000000  880.000000         880.000000  \n",
       "mean    41.563636        1.365909    1.343182           1.343182  \n",
       "std     19.014169        0.896319    0.862807           0.870682  \n",
       "min     10.000000        1.000000    1.000000           1.000000  \n",
       "25%     30.000000        1.000000    1.000000           1.000000  \n",
       "50%     40.000000        1.000000    1.000000           1.000000  \n",
       "75%     50.000000        1.000000    1.000000           1.000000  \n",
       "max     99.000000        5.000000    5.000000           5.000000  "
      ]
     },
     "execution_count": 7,
     "metadata": {},
     "output_type": "execute_result"
    }
   ],
   "source": [
    "df.describe()"
   ]
  },
  {
   "cell_type": "code",
   "execution_count": 9,
   "id": "f1098949",
   "metadata": {},
   "outputs": [
    {
     "name": "stdout",
     "output_type": "stream",
     "text": [
      "<class 'pandas.core.frame.DataFrame'>\n",
      "RangeIndex: 880 entries, 0 to 879\n",
      "Data columns (total 16 columns):\n",
      " #   Column                                       Non-Null Count  Dtype \n",
      "---  ------                                       --------------  ----- \n",
      " 0   Diarienummer                                 880 non-null    object\n",
      " 1   Beslut                                       880 non-null    object\n",
      " 2   Anordnare namn                               880 non-null    object\n",
      " 3   Utbildningsnamn                              880 non-null    object\n",
      " 4   Utbildningsområde                            880 non-null    object\n",
      " 5   Antal beviljade platser start 2024           880 non-null    int64 \n",
      " 6   Antal beviljade platser start och slut 2024  880 non-null    int64 \n",
      " 7   Antal beviljade platser start 2025           880 non-null    int64 \n",
      " 8   Totalt antal beviljade platser               880 non-null    int64 \n",
      " 9   YH-poäng                                     880 non-null    int64 \n",
      " 10  Kommun                                       880 non-null    object\n",
      " 11  Län                                          880 non-null    object\n",
      " 12  FA-region                                    880 non-null    object\n",
      " 13  Antal kommuner                               880 non-null    int64 \n",
      " 14  Antal län                                    880 non-null    int64 \n",
      " 15  Antal FA-regioner                            880 non-null    int64 \n",
      "dtypes: int64(8), object(8)\n",
      "memory usage: 110.1+ KB\n"
     ]
    }
   ],
   "source": [
    "df.info()"
   ]
  },
  {
   "cell_type": "code",
   "execution_count": 24,
   "id": "a7f6c185",
   "metadata": {},
   "outputs": [
    {
     "data": {
      "application/vnd.plotly.v1+json": {
       "config": {
        "plotlyServerURL": "https://plot.ly"
       },
       "data": [
        {
         "domain": {
          "x": [
           0,
           1
          ],
          "y": [
           0,
           1
          ]
         },
         "hole": 0.2,
         "hovertemplate": "Utbildningsområde=%{label}<br>Antal=%{value}<extra></extra>",
         "labels": [
          "Ekonomi, administration och försäljning",
          "Data/IT",
          "Teknik och tillverkning",
          "Hälso- och sjukvård samt socialt arbete",
          "Samhällsbyggnad och byggteknik",
          "Lantbruk, djurvård, trädgård, skog och fiske",
          "Pedagogik och undervisning",
          "Hotell, restaurang och turism",
          "Säkerhetstjänster",
          "Juridik",
          "Kultur, media och design",
          "Journalistik och information",
          "Transporttjänster",
          "Friskvård och kroppsvård"
         ],
         "legendgroup": "",
         "name": "",
         "showlegend": true,
         "textinfo": "percent+label",
         "textposition": "inside",
         "type": "pie",
         "values": {
          "bdata": "3QCdAHkAbQBpACYAHgAYABMAEgASAA4ABAACAA==",
          "dtype": "i2"
         }
        }
       ],
       "layout": {
        "height": 900,
        "legend": {
         "tracegroupgap": 0
        },
        "template": {
         "data": {
          "bar": [
           {
            "error_x": {
             "color": "#2a3f5f"
            },
            "error_y": {
             "color": "#2a3f5f"
            },
            "marker": {
             "line": {
              "color": "#E5ECF6",
              "width": 0.5
             },
             "pattern": {
              "fillmode": "overlay",
              "size": 10,
              "solidity": 0.2
             }
            },
            "type": "bar"
           }
          ],
          "barpolar": [
           {
            "marker": {
             "line": {
              "color": "#E5ECF6",
              "width": 0.5
             },
             "pattern": {
              "fillmode": "overlay",
              "size": 10,
              "solidity": 0.2
             }
            },
            "type": "barpolar"
           }
          ],
          "carpet": [
           {
            "aaxis": {
             "endlinecolor": "#2a3f5f",
             "gridcolor": "white",
             "linecolor": "white",
             "minorgridcolor": "white",
             "startlinecolor": "#2a3f5f"
            },
            "baxis": {
             "endlinecolor": "#2a3f5f",
             "gridcolor": "white",
             "linecolor": "white",
             "minorgridcolor": "white",
             "startlinecolor": "#2a3f5f"
            },
            "type": "carpet"
           }
          ],
          "choropleth": [
           {
            "colorbar": {
             "outlinewidth": 0,
             "ticks": ""
            },
            "type": "choropleth"
           }
          ],
          "contour": [
           {
            "colorbar": {
             "outlinewidth": 0,
             "ticks": ""
            },
            "colorscale": [
             [
              0,
              "#0d0887"
             ],
             [
              0.1111111111111111,
              "#46039f"
             ],
             [
              0.2222222222222222,
              "#7201a8"
             ],
             [
              0.3333333333333333,
              "#9c179e"
             ],
             [
              0.4444444444444444,
              "#bd3786"
             ],
             [
              0.5555555555555556,
              "#d8576b"
             ],
             [
              0.6666666666666666,
              "#ed7953"
             ],
             [
              0.7777777777777778,
              "#fb9f3a"
             ],
             [
              0.8888888888888888,
              "#fdca26"
             ],
             [
              1,
              "#f0f921"
             ]
            ],
            "type": "contour"
           }
          ],
          "contourcarpet": [
           {
            "colorbar": {
             "outlinewidth": 0,
             "ticks": ""
            },
            "type": "contourcarpet"
           }
          ],
          "heatmap": [
           {
            "colorbar": {
             "outlinewidth": 0,
             "ticks": ""
            },
            "colorscale": [
             [
              0,
              "#0d0887"
             ],
             [
              0.1111111111111111,
              "#46039f"
             ],
             [
              0.2222222222222222,
              "#7201a8"
             ],
             [
              0.3333333333333333,
              "#9c179e"
             ],
             [
              0.4444444444444444,
              "#bd3786"
             ],
             [
              0.5555555555555556,
              "#d8576b"
             ],
             [
              0.6666666666666666,
              "#ed7953"
             ],
             [
              0.7777777777777778,
              "#fb9f3a"
             ],
             [
              0.8888888888888888,
              "#fdca26"
             ],
             [
              1,
              "#f0f921"
             ]
            ],
            "type": "heatmap"
           }
          ],
          "histogram": [
           {
            "marker": {
             "pattern": {
              "fillmode": "overlay",
              "size": 10,
              "solidity": 0.2
             }
            },
            "type": "histogram"
           }
          ],
          "histogram2d": [
           {
            "colorbar": {
             "outlinewidth": 0,
             "ticks": ""
            },
            "colorscale": [
             [
              0,
              "#0d0887"
             ],
             [
              0.1111111111111111,
              "#46039f"
             ],
             [
              0.2222222222222222,
              "#7201a8"
             ],
             [
              0.3333333333333333,
              "#9c179e"
             ],
             [
              0.4444444444444444,
              "#bd3786"
             ],
             [
              0.5555555555555556,
              "#d8576b"
             ],
             [
              0.6666666666666666,
              "#ed7953"
             ],
             [
              0.7777777777777778,
              "#fb9f3a"
             ],
             [
              0.8888888888888888,
              "#fdca26"
             ],
             [
              1,
              "#f0f921"
             ]
            ],
            "type": "histogram2d"
           }
          ],
          "histogram2dcontour": [
           {
            "colorbar": {
             "outlinewidth": 0,
             "ticks": ""
            },
            "colorscale": [
             [
              0,
              "#0d0887"
             ],
             [
              0.1111111111111111,
              "#46039f"
             ],
             [
              0.2222222222222222,
              "#7201a8"
             ],
             [
              0.3333333333333333,
              "#9c179e"
             ],
             [
              0.4444444444444444,
              "#bd3786"
             ],
             [
              0.5555555555555556,
              "#d8576b"
             ],
             [
              0.6666666666666666,
              "#ed7953"
             ],
             [
              0.7777777777777778,
              "#fb9f3a"
             ],
             [
              0.8888888888888888,
              "#fdca26"
             ],
             [
              1,
              "#f0f921"
             ]
            ],
            "type": "histogram2dcontour"
           }
          ],
          "mesh3d": [
           {
            "colorbar": {
             "outlinewidth": 0,
             "ticks": ""
            },
            "type": "mesh3d"
           }
          ],
          "parcoords": [
           {
            "line": {
             "colorbar": {
              "outlinewidth": 0,
              "ticks": ""
             }
            },
            "type": "parcoords"
           }
          ],
          "pie": [
           {
            "automargin": true,
            "type": "pie"
           }
          ],
          "scatter": [
           {
            "fillpattern": {
             "fillmode": "overlay",
             "size": 10,
             "solidity": 0.2
            },
            "type": "scatter"
           }
          ],
          "scatter3d": [
           {
            "line": {
             "colorbar": {
              "outlinewidth": 0,
              "ticks": ""
             }
            },
            "marker": {
             "colorbar": {
              "outlinewidth": 0,
              "ticks": ""
             }
            },
            "type": "scatter3d"
           }
          ],
          "scattercarpet": [
           {
            "marker": {
             "colorbar": {
              "outlinewidth": 0,
              "ticks": ""
             }
            },
            "type": "scattercarpet"
           }
          ],
          "scattergeo": [
           {
            "marker": {
             "colorbar": {
              "outlinewidth": 0,
              "ticks": ""
             }
            },
            "type": "scattergeo"
           }
          ],
          "scattergl": [
           {
            "marker": {
             "colorbar": {
              "outlinewidth": 0,
              "ticks": ""
             }
            },
            "type": "scattergl"
           }
          ],
          "scattermap": [
           {
            "marker": {
             "colorbar": {
              "outlinewidth": 0,
              "ticks": ""
             }
            },
            "type": "scattermap"
           }
          ],
          "scattermapbox": [
           {
            "marker": {
             "colorbar": {
              "outlinewidth": 0,
              "ticks": ""
             }
            },
            "type": "scattermapbox"
           }
          ],
          "scatterpolar": [
           {
            "marker": {
             "colorbar": {
              "outlinewidth": 0,
              "ticks": ""
             }
            },
            "type": "scatterpolar"
           }
          ],
          "scatterpolargl": [
           {
            "marker": {
             "colorbar": {
              "outlinewidth": 0,
              "ticks": ""
             }
            },
            "type": "scatterpolargl"
           }
          ],
          "scatterternary": [
           {
            "marker": {
             "colorbar": {
              "outlinewidth": 0,
              "ticks": ""
             }
            },
            "type": "scatterternary"
           }
          ],
          "surface": [
           {
            "colorbar": {
             "outlinewidth": 0,
             "ticks": ""
            },
            "colorscale": [
             [
              0,
              "#0d0887"
             ],
             [
              0.1111111111111111,
              "#46039f"
             ],
             [
              0.2222222222222222,
              "#7201a8"
             ],
             [
              0.3333333333333333,
              "#9c179e"
             ],
             [
              0.4444444444444444,
              "#bd3786"
             ],
             [
              0.5555555555555556,
              "#d8576b"
             ],
             [
              0.6666666666666666,
              "#ed7953"
             ],
             [
              0.7777777777777778,
              "#fb9f3a"
             ],
             [
              0.8888888888888888,
              "#fdca26"
             ],
             [
              1,
              "#f0f921"
             ]
            ],
            "type": "surface"
           }
          ],
          "table": [
           {
            "cells": {
             "fill": {
              "color": "#EBF0F8"
             },
             "line": {
              "color": "white"
             }
            },
            "header": {
             "fill": {
              "color": "#C8D4E3"
             },
             "line": {
              "color": "white"
             }
            },
            "type": "table"
           }
          ]
         },
         "layout": {
          "annotationdefaults": {
           "arrowcolor": "#2a3f5f",
           "arrowhead": 0,
           "arrowwidth": 1
          },
          "autotypenumbers": "strict",
          "coloraxis": {
           "colorbar": {
            "outlinewidth": 0,
            "ticks": ""
           }
          },
          "colorscale": {
           "diverging": [
            [
             0,
             "#8e0152"
            ],
            [
             0.1,
             "#c51b7d"
            ],
            [
             0.2,
             "#de77ae"
            ],
            [
             0.3,
             "#f1b6da"
            ],
            [
             0.4,
             "#fde0ef"
            ],
            [
             0.5,
             "#f7f7f7"
            ],
            [
             0.6,
             "#e6f5d0"
            ],
            [
             0.7,
             "#b8e186"
            ],
            [
             0.8,
             "#7fbc41"
            ],
            [
             0.9,
             "#4d9221"
            ],
            [
             1,
             "#276419"
            ]
           ],
           "sequential": [
            [
             0,
             "#0d0887"
            ],
            [
             0.1111111111111111,
             "#46039f"
            ],
            [
             0.2222222222222222,
             "#7201a8"
            ],
            [
             0.3333333333333333,
             "#9c179e"
            ],
            [
             0.4444444444444444,
             "#bd3786"
            ],
            [
             0.5555555555555556,
             "#d8576b"
            ],
            [
             0.6666666666666666,
             "#ed7953"
            ],
            [
             0.7777777777777778,
             "#fb9f3a"
            ],
            [
             0.8888888888888888,
             "#fdca26"
            ],
            [
             1,
             "#f0f921"
            ]
           ],
           "sequentialminus": [
            [
             0,
             "#0d0887"
            ],
            [
             0.1111111111111111,
             "#46039f"
            ],
            [
             0.2222222222222222,
             "#7201a8"
            ],
            [
             0.3333333333333333,
             "#9c179e"
            ],
            [
             0.4444444444444444,
             "#bd3786"
            ],
            [
             0.5555555555555556,
             "#d8576b"
            ],
            [
             0.6666666666666666,
             "#ed7953"
            ],
            [
             0.7777777777777778,
             "#fb9f3a"
            ],
            [
             0.8888888888888888,
             "#fdca26"
            ],
            [
             1,
             "#f0f921"
            ]
           ]
          },
          "colorway": [
           "#636efa",
           "#EF553B",
           "#00cc96",
           "#ab63fa",
           "#FFA15A",
           "#19d3f3",
           "#FF6692",
           "#B6E880",
           "#FF97FF",
           "#FECB52"
          ],
          "font": {
           "color": "#2a3f5f"
          },
          "geo": {
           "bgcolor": "white",
           "lakecolor": "white",
           "landcolor": "#E5ECF6",
           "showlakes": true,
           "showland": true,
           "subunitcolor": "white"
          },
          "hoverlabel": {
           "align": "left"
          },
          "hovermode": "closest",
          "mapbox": {
           "style": "light"
          },
          "paper_bgcolor": "white",
          "plot_bgcolor": "#E5ECF6",
          "polar": {
           "angularaxis": {
            "gridcolor": "white",
            "linecolor": "white",
            "ticks": ""
           },
           "bgcolor": "#E5ECF6",
           "radialaxis": {
            "gridcolor": "white",
            "linecolor": "white",
            "ticks": ""
           }
          },
          "scene": {
           "xaxis": {
            "backgroundcolor": "#E5ECF6",
            "gridcolor": "white",
            "gridwidth": 2,
            "linecolor": "white",
            "showbackground": true,
            "ticks": "",
            "zerolinecolor": "white"
           },
           "yaxis": {
            "backgroundcolor": "#E5ECF6",
            "gridcolor": "white",
            "gridwidth": 2,
            "linecolor": "white",
            "showbackground": true,
            "ticks": "",
            "zerolinecolor": "white"
           },
           "zaxis": {
            "backgroundcolor": "#E5ECF6",
            "gridcolor": "white",
            "gridwidth": 2,
            "linecolor": "white",
            "showbackground": true,
            "ticks": "",
            "zerolinecolor": "white"
           }
          },
          "shapedefaults": {
           "line": {
            "color": "#2a3f5f"
           }
          },
          "ternary": {
           "aaxis": {
            "gridcolor": "white",
            "linecolor": "white",
            "ticks": ""
           },
           "baxis": {
            "gridcolor": "white",
            "linecolor": "white",
            "ticks": ""
           },
           "bgcolor": "#E5ECF6",
           "caxis": {
            "gridcolor": "white",
            "linecolor": "white",
            "ticks": ""
           }
          },
          "title": {
           "x": 0.05
          },
          "xaxis": {
           "automargin": true,
           "gridcolor": "white",
           "linecolor": "white",
           "ticks": "",
           "title": {
            "standoff": 15
           },
           "zerolinecolor": "white",
           "zerolinewidth": 2
          },
          "yaxis": {
           "automargin": true,
           "gridcolor": "white",
           "linecolor": "white",
           "ticks": "",
           "title": {
            "standoff": 15
           },
           "zerolinecolor": "white",
           "zerolinewidth": 2
          }
         }
        },
        "title": {
         "text": "Kurser per utbildningsområde (2024)"
        },
        "width": 1000
       }
      }
     },
     "metadata": {},
     "output_type": "display_data"
    }
   ],
   "source": [
    "\n",
    "\n",
    "df = pd.read_excel(\"data/resultat-2024-for-kurser-inom-yh (1).xlsx\")\n",
    "\n",
    "\n",
    "df = df.dropna(subset=[\"Utbildningsområde\"])\n",
    "\n",
    "\n",
    "fördelning = df[\"Utbildningsområde\"].value_counts().reset_index()\n",
    "fördelning.columns = [\"Utbildningsområde\", \"Antal\"]\n",
    "\n",
    "\n",
    "fig = px.pie(fördelning,\n",
    "             names=\"Utbildningsområde\",\n",
    "             values=\"Antal\",\n",
    "             title=\"Kurser per utbildningsområde (2024)\",\n",
    "             hole=0.2,\n",
    "             height=900,\n",
    "             width=1000,\n",
    "             )  \n",
    "\n",
    "fig.update_traces(textposition='inside', textinfo='percent+label')\n",
    "\n",
    "fig.show()\n"
   ]
  },
  {
   "cell_type": "code",
   "execution_count": 8,
   "id": "17f0b7a0",
   "metadata": {},
   "outputs": [
    {
     "data": {
      "text/plain": [
       "True"
      ]
     },
     "execution_count": 8,
     "metadata": {},
     "output_type": "execute_result"
    }
   ],
   "source": [
    "\n",
    "fig.write_html(\"pie_chart.html\")\n",
    "import webbrowser\n",
    "webbrowser.open(\"pie_chart.html\")"
   ]
  }
 ],
 "metadata": {
  "kernelspec": {
   "display_name": ".venv",
   "language": "python",
   "name": "python3"
  },
  "language_info": {
   "codemirror_mode": {
    "name": "ipython",
    "version": 3
   },
   "file_extension": ".py",
   "mimetype": "text/x-python",
   "name": "python",
   "nbconvert_exporter": "python",
   "pygments_lexer": "ipython3",
   "version": "3.11.9"
  }
 },
 "nbformat": 4,
 "nbformat_minor": 5
}
